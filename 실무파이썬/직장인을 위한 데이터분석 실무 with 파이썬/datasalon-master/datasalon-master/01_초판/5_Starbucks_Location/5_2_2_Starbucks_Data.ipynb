{
 "cells": [
  {
   "cell_type": "code",
   "execution_count": null,
   "metadata": {},
   "outputs": [],
   "source": [
    "# 예제 5-42 라이브러리 임포트\n",
    "import pandas as pd"
   ]
  },
  {
   "cell_type": "code",
   "execution_count": null,
   "metadata": {},
   "outputs": [],
   "source": [
    "# 예제 5-43 시군구 목록 데이터 불러오기\n",
    "seoul_sgg = pd.read_excel('./files/4_2_seoul_sgg_list.xlsx')\n",
    "seoul_sgg.head()"
   ]
  },
  {
   "cell_type": "code",
   "execution_count": null,
   "metadata": {},
   "outputs": [],
   "source": [
    "# 예제 5-44 서울시 스타벅스 매장 목록 데이터 불러오기\n",
    "seoul_starbucks = pd.read_excel('./files/4_4_seoul_starbucks_list.xlsx')\n",
    "seoul_starbucks.head()"
   ]
  },
  {
   "cell_type": "code",
   "execution_count": null,
   "metadata": {},
   "outputs": [],
   "source": [
    "# 예제 5-45 시군구별 스타벅스 매장 수 세기\n",
    "starbucks_sgg_count = seoul_starbucks.pivot_table(\n",
    "                                                index = '시군구명', \n",
    "                                                values='매장명', \n",
    "                                                aggfunc='count'\n",
    "                                                ).rename(columns={'매장명':'스타벅스_매장수'})\n",
    "starbucks_sgg_count.head()"
   ]
  },
  {
   "cell_type": "code",
   "execution_count": null,
   "metadata": {},
   "outputs": [],
   "source": [
    "# 예제 5-46 서울시 시군구 목록 데이터에 스타벅스 매장 수 데이터를 병합\n",
    "seoul_sgg = pd.merge(seoul_sgg, starbucks_sgg_count, how='left', on='시군구명')\n",
    "seoul_sgg.head()"
   ]
  },
  {
   "cell_type": "code",
   "execution_count": null,
   "metadata": {},
   "outputs": [],
   "source": [
    "# 예제 5-47 서울시 시군구별 인구통계 데이터 불러오기\n",
    "seoul_sgg_pop = pd.read_excel('./files/4_3_sgg_pop.xlsx')\n",
    "seoul_sgg_pop.head()"
   ]
  },
  {
   "cell_type": "code",
   "execution_count": null,
   "metadata": {},
   "outputs": [],
   "source": [
    "# 예제 5-48 서울시 시군구 목록 데이터에 서울시 시군구별 인구통계 데이터를 병합\n",
    "seoul_sgg = pd.merge(seoul_sgg, seoul_sgg_pop, how='left', on='시군구명')\n",
    "seoul_sgg.head()"
   ]
  },
  {
   "cell_type": "code",
   "execution_count": null,
   "metadata": {},
   "outputs": [],
   "source": [
    "# 예제 5-49 서울시 시군구 목록 데이터에 서울시 시군구별 사업체 수 통계 데이터를 병합\n",
    "seoul_sgg_biz = pd.read_excel('./files/4_3_sgg_biz.xlsx')\n",
    "seoul_sgg = pd.merge(\n",
    "    seoul_sgg, \n",
    "    seoul_sgg_biz,\n",
    "    how='left',\n",
    "    on='시군구명'\n",
    ")\n",
    "seoul_sgg.head()"
   ]
  },
  {
   "cell_type": "code",
   "execution_count": null,
   "metadata": {},
   "outputs": [],
   "source": [
    "# 예제 5-50 병합 결과를 엑셀 파일로 저장\n",
    "seoul_sgg.to_excel('./files/4_5_seoul_sgg_stat.xlsx', index=False)"
   ]
  }
 ],
 "metadata": {
  "kernelspec": {
   "display_name": "Python 3",
   "language": "python",
   "name": "python3"
  },
  "language_info": {
   "codemirror_mode": {
    "name": "ipython",
    "version": 3
   },
   "file_extension": ".py",
   "mimetype": "text/x-python",
   "name": "python",
   "nbconvert_exporter": "python",
   "pygments_lexer": "ipython3",
   "version": "3.6.7"
  }
 },
 "nbformat": 4,
 "nbformat_minor": 2
}
