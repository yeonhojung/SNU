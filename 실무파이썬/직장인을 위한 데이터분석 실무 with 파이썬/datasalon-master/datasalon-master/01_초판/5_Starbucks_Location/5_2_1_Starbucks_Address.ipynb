{
 "cells": [
  {
   "cell_type": "code",
   "execution_count": null,
   "metadata": {},
   "outputs": [],
   "source": [
    "# 예제 5-39  서울시 스타벅스 매장 목록이 담긴 엑셀 파일 불러오기\n",
    "import pandas as pd\n",
    "seoul_starbucks = pd.read_excel('./files/4_1_seoul_starbucks_list.xlsx', header=0)\n",
    "seoul_starbucks.head()"
   ]
  },
  {
   "cell_type": "code",
   "execution_count": null,
   "metadata": {},
   "outputs": [],
   "source": [
    "# 예제 5-40 스타벅스 주소 정보에서 시군구명 추출\n",
    "sgg_names = []\n",
    "for address in seoul_starbucks['주소']:\n",
    "    sgg = address.split()[1]\n",
    "    sgg_names.append(sgg)\n",
    "seoul_starbucks['시군구명'] = sgg_names\n",
    "seoul_starbucks.head()"
   ]
  },
  {
   "cell_type": "code",
   "execution_count": null,
   "metadata": {},
   "outputs": [],
   "source": [
    "# 예제 5-41 엑셀로 저장\n",
    "seoul_starbucks.to_excel('./files/4_4_seoul_starbucks_list.xlsx', index=False)"
   ]
  }
 ],
 "metadata": {
  "kernelspec": {
   "display_name": "Python 3",
   "language": "python",
   "name": "python3"
  },
  "language_info": {
   "codemirror_mode": {
    "name": "ipython",
    "version": 3
   },
   "file_extension": ".py",
   "mimetype": "text/x-python",
   "name": "python",
   "nbconvert_exporter": "python",
   "pygments_lexer": "ipython3",
   "version": "3.6.7"
  }
 },
 "nbformat": 4,
 "nbformat_minor": 2
}
