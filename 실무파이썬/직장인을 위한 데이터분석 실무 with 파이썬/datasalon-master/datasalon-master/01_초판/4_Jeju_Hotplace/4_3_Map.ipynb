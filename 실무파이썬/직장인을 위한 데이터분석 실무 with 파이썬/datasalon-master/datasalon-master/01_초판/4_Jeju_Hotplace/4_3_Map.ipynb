{
 "cells": [
  {
   "cell_type": "markdown",
   "metadata": {},
   "source": [
    "#### 네이버 API Search Place 중단에 따라 카카오 API 로  실습코드 변경하였습니다 #####\n",
    "\n",
    "- 변경 코드: 예제 4-25, 예제 4-26\n",
    "- 실습코드 변경일자: 2020.02.17\n",
    "- 안내 페이지: http://bit.ly/pwd_kakaoAPI_guide\n",
    "- 깃헙 주소: https://github.com/Play-with-data/datasalon"
   ]
  },
  {
   "cell_type": "markdown",
   "metadata": {},
   "source": [
    "# 4.3 지도시각화"
   ]
  },
  {
   "cell_type": "markdown",
   "metadata": {},
   "source": [
    "###  4.3.2 데이터 준비"
   ]
  },
  {
   "cell_type": "code",
   "execution_count": null,
   "metadata": {
    "scrolled": true
   },
   "outputs": [],
   "source": [
    "# 예제 4-20 크롤링 데이터 불러오기\n",
    "import pandas as pd\n",
    "raw_total = pd.read_excel('./files/3_1_crawling_raw.xlsx')\n",
    "raw_total.head()"
   ]
  },
  {
   "cell_type": "code",
   "execution_count": null,
   "metadata": {},
   "outputs": [],
   "source": [
    "# 예제 4-21 위치정보 가져오기\n",
    "location_counts = raw_total['place'].value_counts( )\n",
    "location_counts"
   ]
  },
  {
   "cell_type": "code",
   "execution_count": null,
   "metadata": {},
   "outputs": [],
   "source": [
    "# 예제 4-22 등록된 위치정보별 빈도수 데이터\n",
    "location_counts_df = pd.DataFrame(location_counts)\n",
    "location_counts_df.head()"
   ]
  },
  {
   "cell_type": "code",
   "execution_count": null,
   "metadata": {},
   "outputs": [],
   "source": [
    "# 예제 4-23 위치정보 빈도수 데이터 저장하기\n",
    "location_counts_df.to_excel('./files/3_3_location_counts.xlsx')"
   ]
  },
  {
   "cell_type": "code",
   "execution_count": null,
   "metadata": {},
   "outputs": [],
   "source": [
    "# 예제 4-24 위치정보 종류 확인하기\n",
    "locations = list( location_counts.index )\n",
    "locations "
   ]
  },
  {
   "cell_type": "markdown",
   "metadata": {},
   "source": [
    "### 4.3.4 네이버 지도 API를 활용한 장소 검색"
   ]
  },
  {
   "cell_type": "code",
   "execution_count": null,
   "metadata": {},
   "outputs": [],
   "source": [
    "# 예제 4-25 네이버지도 API 사용 예시\n",
    "# import requests\n",
    "\n",
    "# searching = '합정 스타벅스'\n",
    "# base_url = 'https://naveropenapi.apigw.ntruss.com/map-place/v1/search'\n",
    "# query_string = '?query={}&coordinate=126.977967,37.566329'.format(searching)\n",
    "# url = base_url + query_string\n",
    "\n",
    "# client_id = 'y86xoxxxxx'         \n",
    "# client_secret = 'cBxxxxxxxxxxxxxxxxxxxxxxxxxxxxxxxxxxxxx'\n",
    "\n",
    "# headers = {'X-NCP-APIGW-API-KEY-ID': client_id, \n",
    "#            'X-NCP-APIGW-API-KEY': client_secret} \n",
    "\n",
    "# places = requests.get(url, headers = headers).json()['places']\n",
    "# places\n"
   ]
  },
  {
   "cell_type": "code",
   "execution_count": null,
   "metadata": {
    "scrolled": true
   },
   "outputs": [],
   "source": [
    "# 예제 4-25(카카오API변경) 카카오 검색 API 사용 예시\n",
    "\n",
    "import requests\n",
    "\n",
    "searching = '합정 스타벅스'\n",
    "url = 'https://dapi.kakao.com/v2/local/search/keyword.json?query={}'.format(searching)\n",
    "\n",
    "headers = {\n",
    "    \"Authorization\": \"KakaoAK 여기에카카오API키입력하세요\"     \n",
    "    # 입력시 반드시  KakaoAK 뒤에 한 칸 띄우고 API키 값을 적어야 합니다. \n",
    "}\n",
    "\n",
    "places = requests.get(url, headers = headers).json()['documents']\n",
    "places\n",
    "\n"
   ]
  },
  {
   "cell_type": "code",
   "execution_count": null,
   "metadata": {},
   "outputs": [],
   "source": [
    "# # 예제 4-26 Search Place API 장소 검색 함수 만들기\n",
    "# def find_places(searching):\n",
    "#     # ① 접속URL 만들기\n",
    "#     base_url = 'https://naveropenapi.apigw.ntruss.com/map-place/v1/search'\n",
    "#     query_string = '?query={}&coordinate=126.977967,37.566329'.format(searching)\n",
    "#     url = base_url + query_string\n",
    "#     # ② headers 입력하기\n",
    "#     client_id = 'y86xoxxxxx'         \n",
    "#     client_secret = 'cB2gj68owMnDi45GgcoA2SomRV6gCxxxxxxxxxxx'\n",
    "#     headers = {'X-NCP-APIGW-API-KEY-ID': client_id, \n",
    "#                    'X-NCP-APIGW-API-KEY': client_secret} \n",
    "#     # ③ API 요청&정보 받기\n",
    "#     places = requests.get(url, headers = headers).json()['places']  \n",
    "#     # ④ 필요한 정보 선택하기\n",
    "#     place = places[0] \n",
    "#     name = place['name']\n",
    "#     x=place['x']\n",
    "#     y=place['y']\n",
    "#     data = [name, x, y, searching] \n",
    "\n",
    "#     return data\n"
   ]
  },
  {
   "cell_type": "code",
   "execution_count": null,
   "metadata": {},
   "outputs": [],
   "source": [
    "# 예제 4-26(카카오API변경) 장소 검색 함수 만들기\n",
    "def find_places(searching):\n",
    "    # ① 접속URL 만들기\n",
    "    url = 'https://dapi.kakao.com/v2/local/search/keyword.json?query={}'.format(searching)\n",
    "    # ② headers 입력하기\n",
    "    headers = {\n",
    "    \"Authorization\": \"KakaoAK 여기에카카오API키입력하세요\"\n",
    "    }\n",
    "    # ③ API 요청&정보 받기\n",
    "    places = requests.get(url, headers = headers).json()['documents']\n",
    "    # ④ 필요한 정보 선택하기\n",
    "    place = places[0] \n",
    "    name = place['place_name']\n",
    "    x=place['x']\n",
    "    y=place['y']\n",
    "    data = [name, x, y, searching] \n",
    "\n",
    "    return data\n"
   ]
  },
  {
   "cell_type": "code",
   "execution_count": null,
   "metadata": {},
   "outputs": [],
   "source": [
    "# 예제 4-27 제주공항 검색 예시\n",
    "data = find_places('제주공항')\n",
    "data"
   ]
  },
  {
   "cell_type": "code",
   "execution_count": null,
   "metadata": {},
   "outputs": [],
   "source": [
    "from tqdm import tqdm_notebook"
   ]
  },
  {
   "cell_type": "code",
   "execution_count": null,
   "metadata": {},
   "outputs": [],
   "source": [
    "# 예제 4-28 인스타그램 위치명 위치정보 검색하기\n",
    "#### 검색시 시간이 많이 걸려, 현재 작업 진행현황을 볼 수 있도록,  tqdm_notebook 추가 했습니다. : 수정일 2020.02.17)\n",
    "\n",
    "import time\n",
    "locations_inform = [ ]\n",
    "for location in tqdm_notebook(locations):\n",
    "    try:\n",
    "        data = find_places(location)       \n",
    "        locations_inform.append(data) \n",
    "        time.sleep(0.5) \n",
    "    except:\n",
    "        pass\n",
    "locations_inform\n"
   ]
  },
  {
   "cell_type": "code",
   "execution_count": null,
   "metadata": {},
   "outputs": [],
   "source": [
    "# 예제 4-29 위치정보 저장하기\n",
    "locations_inform_df = pd.DataFrame(locations_inform)\n",
    "locations_inform_df.columns = ['name_official','경도','위도','인스타위치명']\n",
    "locations_inform_df.to_excel('./files/3_3_locations.xlsx', index=False)\n"
   ]
  },
  {
   "cell_type": "code",
   "execution_count": null,
   "metadata": {},
   "outputs": [],
   "source": [
    "# 예제 4-30 인스타 게시량 및 위치정보 데이터 불러오기\n",
    "location_counts_df = pd.read_excel('./files/3_3_location_counts.xlsx', index_col = 0)\n",
    "locations_inform_df = pd.read_excel('./files/3_3_locations.xlsx')"
   ]
  },
  {
   "cell_type": "code",
   "execution_count": null,
   "metadata": {},
   "outputs": [],
   "source": [
    "# 예제 4-31 위치 데이터 병합하기\n",
    "location_data = pd.merge(locations_inform_df, location_counts_df, \n",
    "                         how = 'inner', left_on = 'name_official', right_index=True)\n",
    "\n",
    "location_data.head()\n"
   ]
  },
  {
   "cell_type": "code",
   "execution_count": null,
   "metadata": {},
   "outputs": [],
   "source": [
    "# 추가) 동일한 name_official 가지는 데이터 --> 인스타 게시 횟수 합치기\n",
    "### 수정일자 : 2020.02.17\n",
    "location_data = location_data.pivot_table(index = ['name_official','경도','위도'], values = 'place', aggfunc='sum')\n",
    "location_data.head()"
   ]
  },
  {
   "cell_type": "code",
   "execution_count": null,
   "metadata": {},
   "outputs": [],
   "source": [
    "# 예제 4-32 병합한 데이터 저장하기\n",
    "location_data.to_excel('./files/3_3_location_inform.xlsx')"
   ]
  },
  {
   "cell_type": "markdown",
   "metadata": {},
   "source": [
    "### 4.3.6 folium을 이용한 지도 시각화 ① - 개별 표시"
   ]
  },
  {
   "cell_type": "code",
   "execution_count": null,
   "metadata": {},
   "outputs": [],
   "source": [
    "# 예제 4-33 데이터 불러오기\n",
    "location_data = pd.read_excel('./files/3_3_location_inform.xlsx')\n",
    "location_data.info()"
   ]
  },
  {
   "cell_type": "code",
   "execution_count": null,
   "metadata": {},
   "outputs": [],
   "source": [
    "# 예제 4-34 지도 표시하기\n",
    "### 변수명 수정  수정일자 2020.02.17\n",
    "\n",
    "import folium\n",
    "\n",
    "Mt_Hanla =[33.362500, 126.533694]\n",
    "map_jeju = folium.Map(location = Mt_Hanla, zoom_start = 11)\n",
    "\n",
    "for i in range(len(location_data)):\n",
    "    name = location_data ['name_official'][i]    # 공식명칭\n",
    "    count = location_data ['place'][i]           # 게시글 개수\n",
    "    size = int(count)*2\n",
    "    long = float(location_data['위도'][i])      \n",
    "    lat = float(location_data['경도'][i])       \n",
    "    folium.CircleMarker((long,lat), radius = size, color='red', popup=name).add_to(map_jeju)\n",
    "    \n",
    "map_jeju"
   ]
  },
  {
   "cell_type": "code",
   "execution_count": null,
   "metadata": {},
   "outputs": [],
   "source": [
    "# 예제 4-35 지도 저장하기\n",
    "map_jeju.save('./files/3_3_jeju.html') "
   ]
  },
  {
   "cell_type": "markdown",
   "metadata": {},
   "source": [
    "### 4.3.7 folium을 이용한 지도 시각화 ② - 그룹으로 표시"
   ]
  },
  {
   "cell_type": "code",
   "execution_count": null,
   "metadata": {},
   "outputs": [],
   "source": [
    "# 예제 4-36 지도 표시하기(마커 집합)\n",
    "### 변수명 수정  수정일자 2020.02.17\n",
    "\n",
    "from folium.plugins import MarkerCluster\n",
    "\n",
    "locations = []\n",
    "names = []\n",
    "\n",
    "for i in range(len(location_data)):\n",
    "    data = location_data.iloc[i]  # 행 하나씩\n",
    "    locations.append((float(data['위도']),float(data['경도'])))    # 위도 , 경도 순으로..\n",
    "    names.append(data['name_official'])\n",
    "\n",
    "icon_create_function = \"\"\"\\\n",
    "function(cluster) {\n",
    "    return L.divIcon({\n",
    "    html: '<b>' + cluster.getChildCount() + '</b>',\n",
    "    className: 'marker-cluster marker-cluster-large',\n",
    "    iconSize: new L.Point(30, 30)\n",
    "    });\n",
    "}\"\"\"\n",
    "\n",
    "Mt_Hanla =[33.362500, 126.533694]\n",
    "map_jeju2 = folium.Map(location = Mt_Hanla, zoom_start = 11)\n",
    "                       \n",
    "marker_cluster = MarkerCluster(\n",
    "    locations=locations, popups=names,\n",
    "    name='Jeju',\n",
    "    overlay=True,\n",
    "    control=True,\n",
    "    icon_create_function=icon_create_function\n",
    ")\n",
    "\n",
    "marker_cluster.add_to(map_jeju2)\n",
    "folium.LayerControl().add_to(map_jeju2)\n",
    "\n",
    "map_jeju2\n"
   ]
  },
  {
   "cell_type": "code",
   "execution_count": null,
   "metadata": {},
   "outputs": [],
   "source": [
    "# 예제 4-37 지도 저장하기\n",
    "map_jeju2.save('./files/3_3_jeju_cluster.html') "
   ]
  }
 ],
 "metadata": {
  "kernelspec": {
   "display_name": "Python 3",
   "language": "python",
   "name": "python3"
  },
  "language_info": {
   "codemirror_mode": {
    "name": "ipython",
    "version": 3
   },
   "file_extension": ".py",
   "mimetype": "text/x-python",
   "name": "python",
   "nbconvert_exporter": "python",
   "pygments_lexer": "ipython3",
   "version": "3.7.4"
  }
 },
 "nbformat": 4,
 "nbformat_minor": 2
}
