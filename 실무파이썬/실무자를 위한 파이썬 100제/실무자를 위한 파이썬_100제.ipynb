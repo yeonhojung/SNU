{
 "cells": [
  {
   "attachments": {},
   "cell_type": "markdown",
   "metadata": {},
   "source": [
    "## 데이터 정리 및 그래프 시각화\n",
    "\n",
    "1. 데이터프레임 만들기\n",
    "- pd.DataFrame을 통해서 데이터를 표(matrix)형태로 정리, 요약할 수 있고, 행은 index에 열은 columns에 저장해서 특징을 파악한다."
   ]
  },
  {
   "cell_type": "code",
   "execution_count": 1,
   "metadata": {},
   "outputs": [
    {
     "name": "stdout",
     "output_type": "stream",
     "text": [
      "    c0  c1\n",
      "r0   1   6\n",
      "r1   2   7\n",
      "r2   3   8\n",
      "r3   4   9\n",
      "r4   5  10\n"
     ]
    }
   ],
   "source": [
    "import pandas as pd\n",
    "\n",
    "dict_data = {'c0':[1,2,3,4,5], 'c1':[6,7,8,9,10]} #c0,c1의 열이름을 만들고 그에 맞는 값을 넣는다.\n",
    "df1 = pd.DataFrame(dict_data, index = ['r0','r1','r2','r3','r4']) #행 이름은 r0 ~ r4까지 지정해준다. 지정하지 않으면 정수값 0~4로 자동 대체된다.\n",
    "print(df1)"
   ]
  },
  {
   "cell_type": "code",
   "execution_count": 2,
   "metadata": {},
   "outputs": [
    {
     "name": "stdout",
     "output_type": "stream",
     "text": [
      "   0  1  2  3   4\n",
      "0  1  2  3  4   5\n",
      "1  6  7  8  9  10\n",
      "    c0  c1  c2  c3  c4\n",
      "r0   1   2   3   4   5\n",
      "r1   6   7   8   9  10\n"
     ]
    }
   ],
   "source": [
    "list_of_list_data = [[1,2,3,4,5],[6,7,8,9,10]]\n",
    "df2 = pd.DataFrame(list_of_list_data)\n",
    "print(df2) #2행 5열의 matrix\n",
    "\n",
    "df3 = pd.DataFrame(list_of_list_data, index = ['r0','r1',], columns=['c0','c1','c2','c3','c4'])\n",
    "print(df3) \n",
    "#2행 5열의 matrix인데 각 row와 column의 이름을 지정해준다. \n",
    "#index는 행, columns는 열의 속성을 가진다. "
   ]
  },
  {
   "cell_type": "code",
   "execution_count": 3,
   "metadata": {},
   "outputs": [
    {
     "name": "stdout",
     "output_type": "stream",
     "text": [
      "(5, 2)\n",
      "(2, 5)\n"
     ]
    }
   ],
   "source": [
    "print(df1.shape) #df의 형태(차원)을 확인하기 위함\n",
    "print(df3.shape)"
   ]
  },
  {
   "attachments": {},
   "cell_type": "markdown",
   "metadata": {},
   "source": [
    "2. 데이터프레임 만들기 : 외부 데이터(csv, excel) 가져오기 \n",
    "- pd.read_csv 또는 pd.read_excel\n",
    "- 예시 : pd.read_csv(파일명, header=None, index_col = 0)과 같은 형태로 지정해주면 df형태가 된다.\n"
   ]
  },
  {
   "cell_type": "code",
   "execution_count": 4,
   "metadata": {},
   "outputs": [
    {
     "data": {
      "text/plain": [
       "'d:\\\\SNU\\\\실무파이썬(공부)'"
      ]
     },
     "execution_count": 4,
     "metadata": {},
     "output_type": "execute_result"
    }
   ],
   "source": [
    "import os\n",
    "os.getcwd()"
   ]
  },
  {
   "cell_type": "code",
   "execution_count": 5,
   "metadata": {},
   "outputs": [
    {
     "name": "stdout",
     "output_type": "stream",
     "text": [
      "Requirement already satisfied: openpyxl in c:\\users\\sarah\\desktop\\databook\\envs\\lib\\site-packages (3.1.2)\n",
      "Requirement already satisfied: et-xmlfile in c:\\users\\sarah\\desktop\\databook\\envs\\lib\\site-packages (from openpyxl) (1.1.0)\n"
     ]
    }
   ],
   "source": [
    "!pip install openpyxl\n",
    "import openpyxl"
   ]
  },
  {
   "cell_type": "code",
   "execution_count": 6,
   "metadata": {},
   "outputs": [
    {
     "name": "stdout",
     "output_type": "stream",
     "text": [
      "  Unnamed: 0        m         sd  n  na       itc      citc       aid  max  \\\n",
      "0          키  188.000   9.985704  8   0  0.323052  0.256543  0.972403  202   \n",
      "1         국어   62.500  29.519969  8   0  0.927370  0.886009  0.917976  100   \n",
      "2         영어   65.625  26.917533  8   0  0.946568  0.919212  0.913550  100   \n",
      "3         수학   66.250  30.325614  8   0  0.981040  0.969209  0.906034  100   \n",
      "4         과학   70.000  23.754699  8   0  0.949478  0.927480  0.914963   95   \n",
      "5         사회   60.625  32.120032  8   0  0.951998  0.920451  0.914434   95   \n",
      "\n",
      "   adj.Pval  \n",
      "0  0.930693  \n",
      "1  0.625000  \n",
      "2  0.656250  \n",
      "3  0.662500  \n",
      "4  0.736842  \n",
      "5  0.638158  \n",
      "\n",
      "\n",
      "     0       1                 2  3   4                  5                  6  \\\n",
      "0  NaN       m                sd  n  na                itc               citc   \n",
      "1    키     188  9.98570406702931  8   0  0.323051840473208  0.256542672279846   \n",
      "2   국어    62.5  29.5199690282455  8   0  0.927370422925358  0.886009306867695   \n",
      "3   영어  65.625  26.9175327886597  8   0  0.946567620098521  0.919212134036549   \n",
      "4   수학   66.25  30.3256138790768  8   0   0.98104041154579  0.969208781476646   \n",
      "5   과학      70  23.7546987833084  8   0  0.949478351535704  0.927480276737597   \n",
      "6   사회  60.625  32.1200315779955  8   0  0.951997880234389  0.920450702120819   \n",
      "\n",
      "                   7    8                  9  \n",
      "0                aid  max           adj.Pval  \n",
      "1   0.97240306712963  202  0.930693069306931  \n",
      "2  0.917976294621555  100              0.625  \n",
      "3  0.913550277831768  100            0.65625  \n",
      "4  0.906033731213165  100             0.6625  \n",
      "5  0.914963437552495   95  0.736842105263158  \n",
      "6  0.914434197373956   95  0.638157894736842  \n",
      "\n",
      "\n",
      "          m         sd  n  na       itc      citc       aid  max  adj.Pval\n",
      "키   188.000   9.985704  8   0  0.323052  0.256543  0.972403  202  0.930693\n",
      "국어   62.500  29.519969  8   0  0.927370  0.886009  0.917976  100  0.625000\n",
      "영어   65.625  26.917533  8   0  0.946568  0.919212  0.913550  100  0.656250\n",
      "수학   66.250  30.325614  8   0  0.981040  0.969209  0.906034  100  0.662500\n",
      "과학   70.000  23.754699  8   0  0.949478  0.927480  0.914963   95  0.736842\n",
      "사회   60.625  32.120032  8   0  0.951998  0.920451  0.914434   95  0.638158\n",
      "\n",
      "\n",
      "          1                 2  3   4                  5                  6  \\\n",
      "0                                                                            \n",
      "NaN       m                sd  n  na                itc               citc   \n",
      "키       188  9.98570406702931  8   0  0.323051840473208  0.256542672279846   \n",
      "국어     62.5  29.5199690282455  8   0  0.927370422925358  0.886009306867695   \n",
      "영어   65.625  26.9175327886597  8   0  0.946567620098521  0.919212134036549   \n",
      "수학    66.25  30.3256138790768  8   0   0.98104041154579  0.969208781476646   \n",
      "과학       70  23.7546987833084  8   0  0.949478351535704  0.927480276737597   \n",
      "사회   60.625  32.1200315779955  8   0  0.951997880234389  0.920450702120819   \n",
      "\n",
      "                     7    8                  9  \n",
      "0                                               \n",
      "NaN                aid  max           adj.Pval  \n",
      "키     0.97240306712963  202  0.930693069306931  \n",
      "국어   0.917976294621555  100              0.625  \n",
      "영어   0.913550277831768  100            0.65625  \n",
      "수학   0.906033731213165  100             0.6625  \n",
      "과학   0.914963437552495   95  0.736842105263158  \n",
      "사회   0.914434197373956   95  0.638157894736842  \n",
      "\n",
      "\n",
      "        1    2    3    4    5    6   7   8           9\n",
      "0                                                     \n",
      "지원번호   이름   학교    키   국어   영어   수학  과학  사회        SW특기\n",
      "1번    채치수  북산고  197   90   85  100  95  85      Python\n",
      "2번    정대만  북산고  184   40   35   50  55  25        Java\n",
      "3번    송태섭  북산고  168   80   75   70  80  75  Javascript\n",
      "4번    서태웅  북산고  187   40   60   70  75  80         NaN\n",
      "5번    강백호  북산고  188   15   20   10  35  10         NaN\n",
      "6번    변덕규  능남고  202   80  100   95  85  80           C\n",
      "7번    황태산  능남고  188   55   65   45  40  35      PYTHON\n",
      "8번    윤대협  능남고  190  100   85   90  95  95          C#\n"
     ]
    }
   ],
   "source": [
    "# csv파일명을 경로와 함께 지정해준다.\n",
    "csv_file = './item_results.csv'\n",
    "\n",
    "# read_csv() 함수로 데이터프레임 변환\n",
    "df1= pd.read_csv(csv_file)\n",
    "print(df1)\n",
    "print('\\n')\n",
    "\n",
    "df2= pd.read_csv(csv_file, header = None)\n",
    "print(df2)\n",
    "print('\\n')\n",
    "\n",
    "df3 = pd.read_csv(csv_file, index_col = 0)\n",
    "print(df3)\n",
    "print('\\n')\n",
    "\n",
    "df4 = pd.read_csv(csv_file, index_col = 0, header = None)\n",
    "print(df4)\n",
    "print('\\n')\n",
    "\n",
    "excel_file = './score.xlsx'\n",
    "df5 = pd.read_excel(excel_file, index_col = 0, header = None)\n",
    "print(df5)\n"
   ]
  },
  {
   "attachments": {},
   "cell_type": "markdown",
   "metadata": {},
   "source": [
    "3. 데이터프레임 내용 살펴보기\n",
    "- df.head() , df.tail() 이용하여 데이터의 일부분만 살펴본다."
   ]
  },
  {
   "cell_type": "code",
   "execution_count": 7,
   "metadata": {},
   "outputs": [
    {
     "name": "stdout",
     "output_type": "stream",
     "text": [
      "  Unnamed: 0        m         sd  n  na       itc      citc       aid  max  \\\n",
      "0          키  188.000   9.985704  8   0  0.323052  0.256543  0.972403  202   \n",
      "1         국어   62.500  29.519969  8   0  0.927370  0.886009  0.917976  100   \n",
      "2         영어   65.625  26.917533  8   0  0.946568  0.919212  0.913550  100   \n",
      "3         수학   66.250  30.325614  8   0  0.981040  0.969209  0.906034  100   \n",
      "4         과학   70.000  23.754699  8   0  0.949478  0.927480  0.914963   95   \n",
      "5         사회   60.625  32.120032  8   0  0.951998  0.920451  0.914434   95   \n",
      "\n",
      "   adj.Pval  \n",
      "0  0.930693  \n",
      "1  0.625000  \n",
      "2  0.656250  \n",
      "3  0.662500  \n",
      "4  0.736842  \n",
      "5  0.638158  \n",
      "\n",
      "\n",
      "  Unnamed: 0        m         sd  n  na       itc      citc       aid  max  \\\n",
      "0          키  188.000   9.985704  8   0  0.323052  0.256543  0.972403  202   \n",
      "1         국어   62.500  29.519969  8   0  0.927370  0.886009  0.917976  100   \n",
      "2         영어   65.625  26.917533  8   0  0.946568  0.919212  0.913550  100   \n",
      "\n",
      "   adj.Pval  \n",
      "0  0.930693  \n",
      "1  0.625000  \n",
      "2  0.656250  \n",
      "\n",
      "\n",
      "  Unnamed: 0       m         sd  n  na       itc      citc       aid  max  \\\n",
      "3         수학  66.250  30.325614  8   0  0.981040  0.969209  0.906034  100   \n",
      "4         과학  70.000  23.754699  8   0  0.949478  0.927480  0.914963   95   \n",
      "5         사회  60.625  32.120032  8   0  0.951998  0.920451  0.914434   95   \n",
      "\n",
      "   adj.Pval  \n",
      "3  0.662500  \n",
      "4  0.736842  \n",
      "5  0.638158  \n",
      "\n",
      "\n"
     ]
    }
   ],
   "source": [
    "df1= pd.read_csv(csv_file)\n",
    "print(df1)\n",
    "print('\\n')\n",
    "print(df1.head(3))\n",
    "print('\\n')\n",
    "print(df1.tail(3))\n",
    "print('\\n')"
   ]
  },
  {
   "attachments": {},
   "cell_type": "markdown",
   "metadata": {},
   "source": [
    "- df.info()\n",
    "\n",
    "    : df의 자료형, 행, 인덱스의 종류와 개수, 열의 개수와 자료형, 메모리 사용량을 보여준다."
   ]
  },
  {
   "cell_type": "code",
   "execution_count": 8,
   "metadata": {},
   "outputs": [
    {
     "name": "stdout",
     "output_type": "stream",
     "text": [
      "  Unnamed: 0        m         sd  n  na       itc      citc       aid  max  \\\n",
      "0          키  188.000   9.985704  8   0  0.323052  0.256543  0.972403  202   \n",
      "1         국어   62.500  29.519969  8   0  0.927370  0.886009  0.917976  100   \n",
      "2         영어   65.625  26.917533  8   0  0.946568  0.919212  0.913550  100   \n",
      "\n",
      "   adj.Pval  \n",
      "0  0.930693  \n",
      "1  0.625000  \n",
      "2  0.656250  \n",
      "\n",
      "\n",
      "<class 'pandas.core.frame.DataFrame'>\n",
      "RangeIndex: 6 entries, 0 to 5\n",
      "Data columns (total 10 columns):\n",
      " #   Column      Non-Null Count  Dtype  \n",
      "---  ------      --------------  -----  \n",
      " 0   Unnamed: 0  6 non-null      object \n",
      " 1   m           6 non-null      float64\n",
      " 2   sd          6 non-null      float64\n",
      " 3   n           6 non-null      int64  \n",
      " 4   na          6 non-null      int64  \n",
      " 5   itc         6 non-null      float64\n",
      " 6   citc        6 non-null      float64\n",
      " 7   aid         6 non-null      float64\n",
      " 8   max         6 non-null      int64  \n",
      " 9   adj.Pval    6 non-null      float64\n",
      "dtypes: float64(6), int64(3), object(1)\n",
      "memory usage: 608.0+ bytes\n",
      "None\n"
     ]
    }
   ],
   "source": [
    "df= pd.read_csv(csv_file)\n",
    "\n",
    "print(df.head(3))\n",
    "print('\\n')\n",
    "\n",
    "print(df.info())"
   ]
  },
  {
   "attachments": {},
   "cell_type": "markdown",
   "metadata": {},
   "source": [
    "4. 데이터프레임 요약정보 확인하기\n",
    "- describe 함수\n",
    "\n",
    "    : df에 대한 통계치를 보여준다. 각 열의 데이터 개수(count), 평균값(mean), 표준편차(sd), min ~ max 값과 사분위수\n"
   ]
  },
  {
   "cell_type": "code",
   "execution_count": 9,
   "metadata": {},
   "outputs": [
    {
     "name": "stdout",
     "output_type": "stream",
     "text": [
      "  Unnamed: 0        m         sd  n  na       itc      citc       aid  max  \\\n",
      "0          키  188.000   9.985704  8   0  0.323052  0.256543  0.972403  202   \n",
      "1         국어   62.500  29.519969  8   0  0.927370  0.886009  0.917976  100   \n",
      "2         영어   65.625  26.917533  8   0  0.946568  0.919212  0.913550  100   \n",
      "\n",
      "   adj.Pval  \n",
      "0  0.930693  \n",
      "1  0.625000  \n",
      "2  0.656250  \n",
      "\n",
      "\n",
      "                m         sd    n   na       itc      citc       aid  \\\n",
      "count    6.000000   6.000000  6.0  6.0  6.000000  6.000000  6.000000   \n",
      "mean    85.500000  25.437258  8.0  0.0  0.846584  0.813151  0.923227   \n",
      "std     50.318672   8.111680  0.0  0.0  0.257055  0.273974  0.024416   \n",
      "min     60.625000   9.985704  8.0  0.0  0.323052  0.256543  0.906034   \n",
      "25%     63.281250  24.545407  8.0  0.0  0.932170  0.894310  0.913771   \n",
      "50%     65.937500  28.218751  8.0  0.0  0.948023  0.919831  0.914699   \n",
      "75%     69.062500  30.124203  8.0  0.0  0.951368  0.925723  0.917223   \n",
      "max    188.000000  32.120032  8.0  0.0  0.981040  0.969209  0.972403   \n",
      "\n",
      "              max  adj.Pval  \n",
      "count    6.000000  6.000000  \n",
      "mean   115.333333  0.708241  \n",
      "std     42.528422  0.115706  \n",
      "min     95.000000  0.625000  \n",
      "25%     96.250000  0.642681  \n",
      "50%    100.000000  0.659375  \n",
      "75%    100.000000  0.718257  \n",
      "max    202.000000  0.930693  \n"
     ]
    }
   ],
   "source": [
    "import pandas as pd\n",
    "df= pd.read_csv(csv_file)\n",
    "\n",
    "print(df.head(3))\n",
    "\n",
    "print('\\n')\n",
    "\n",
    "print(df.describe())"
   ]
  },
  {
   "attachments": {},
   "cell_type": "markdown",
   "metadata": {},
   "source": [
    "5. 데이터프레임 열(column) 다루기\n",
    "- 선택, 추가, 변경, 삭제 ; 데이터 전처리! \n"
   ]
  },
  {
   "cell_type": "code",
   "execution_count": 10,
   "metadata": {},
   "outputs": [
    {
     "name": "stdout",
     "output_type": "stream",
     "text": [
      "    c0  c1\n",
      "r0   1   4\n",
      "r1   2   5\n",
      "r2   3   6 \n",
      "\n",
      "r0    1\n",
      "r1    2\n",
      "r2    3\n",
      "Name: c0, dtype: int64\n",
      "r0    1\n",
      "r1    2\n",
      "r2    3\n",
      "Name: c0, dtype: int64\n",
      "    c0  c1  c2\n",
      "r0   1   4   7\n",
      "r1   2   5   8\n",
      "r2   3   6   9\n",
      "    c0  c1  c2  c3\n",
      "r0   1   4   7   0\n",
      "r1   2   5   8   0\n",
      "r2   3   6   9   0\n",
      "    c0  c1  c2  c3  c4\n",
      "r0   1   4   7   0   0\n",
      "r1   2   5   8   0   0\n",
      "r2   3   6   9   0   0\n",
      "    c0  c1  c2  c3  c4\n",
      "r0   1   4   7   8   0\n",
      "r1   2   5   8  11   0\n",
      "r2   3   6   9  12   0\n",
      "    c0  c1  c2  c3\n",
      "r0   1   4   7   8\n",
      "r1   2   5   8  11\n",
      "r2   3   6   9  12\n",
      "    c0  c2\n",
      "r0   1   7\n",
      "r1   2   8\n",
      "r2   3   9\n"
     ]
    }
   ],
   "source": [
    "import pandas as pd\n",
    "# dictionary를 df로 변환\n",
    "dict_data = {'c0':[1,2,3], 'c1':[4,5,6]}\n",
    "df = pd.DataFrame(dict_data, index = ['r0','r1','r2'])\n",
    "print(df.head(5), '\\n')\n",
    " \n",
    "# 열 선택 : 2가지 방식 \n",
    "col0 = df['c0']\n",
    "col1 = df.c0\n",
    "\n",
    "print(col0)\n",
    "print(col1)\n",
    "\n",
    "# 열 추가\n",
    "df['c2'] = [7,8,9]\n",
    "print(df)\n",
    "\n",
    "df['c3'] = 0\n",
    "print(df)\n",
    "\n",
    "df['c4'] = df['c3']\n",
    "print(df)\n",
    "\n",
    "df['c3'] = 8,11,12\n",
    "print(df)\n",
    "\n",
    "# 열 삭제 \n",
    "## axis = 1\n",
    "## inplace = True ; 기존 데이터프레임에 변경 내용을 반영하기 위함이다.\n",
    "df.drop('c4', axis = 1, inplace = True)\n",
    "print(df)\n",
    "\n",
    "df.drop(['c1', 'c3'], axis = 1, inplace = True)\n",
    "print(df)"
   ]
  },
  {
   "attachments": {},
   "cell_type": "markdown",
   "metadata": {},
   "source": [
    "6. 데이터프레임 행(row) 다루기\n",
    "- 선택, 추가, 변경, 삭제 ; 데이터 전처리! "
   ]
  },
  {
   "cell_type": "code",
   "execution_count": 11,
   "metadata": {},
   "outputs": [
    {
     "name": "stdout",
     "output_type": "stream",
     "text": [
      "    c0  c1  c2\n",
      "r0   1   4   7\n",
      "r1   2   5   8\n",
      "r2   3   6   9 \n",
      "\n"
     ]
    }
   ],
   "source": [
    "import pandas as pd\n",
    "# dictionary를 df로 변환\n",
    "dict_data = {'c0':[1,2,3], 'c1':[4,5,6], 'c2':[7,8,9]}\n",
    "df = pd.DataFrame(dict_data, index = ['r0','r1','r2'])\n",
    "print(df.head(5), '\\n')"
   ]
  },
  {
   "cell_type": "code",
   "execution_count": 12,
   "metadata": {},
   "outputs": [
    {
     "name": "stdout",
     "output_type": "stream",
     "text": [
      "c0    1\n",
      "c1    4\n",
      "c2    7\n",
      "Name: r0, dtype: int64 \n",
      "\n",
      "c0    2\n",
      "c1    5\n",
      "c2    8\n",
      "Name: r1, dtype: int64 \n",
      "\n",
      "c0    3\n",
      "c1    6\n",
      "c2    9\n",
      "Name: r2, dtype: int64 \n",
      "\n",
      "    c0  c1  c2\n",
      "r0   1   4   7\n",
      "r1   2   5   8\n",
      "r2   3   6   9\n",
      "r3  10  20  30\n",
      "r4   0   0   0 \n",
      "\n",
      "    c0  c1  c2\n",
      "r0   1   4   7\n",
      "r1   2   5   8\n",
      "r2   3   6   9\n",
      "r3   0   0   0\n",
      "r4   0   0   0 \n",
      "\n",
      "    c0  c1  c2\n",
      "r0   1   4   7\n",
      "r1   2   5   8\n",
      "r2   3   6   9\n",
      "r3   0   0   0 \n",
      "\n",
      "    c0  c1  c2\n",
      "r0   1   4   7\n",
      "r2   3   6   9\n"
     ]
    }
   ],
   "source": [
    "# iloc : 정수를 인수로 받는다.\n",
    "# loc : 행 인덱스의 이름을 사용한다.\n",
    "\n",
    "#행 선택 : iloc 함수를 사용\n",
    "for i in range(3):\n",
    "    row_i = df.iloc[i]\n",
    "    print(row_i, '\\n')\n",
    "    \n",
    "# 행 추가 : loc 함수 사용\n",
    "df.loc['r3'] = 10, 20, 30\n",
    "df.loc['r4'] = 0\n",
    "print(df, '\\n')\n",
    "\n",
    "# 행 변경\n",
    "df.loc['r3'] = df.loc['r4']\n",
    "print(df, '\\n')\n",
    "\n",
    "# 행 삭제\n",
    "df.drop('r4', axis = 0, inplace = True)\n",
    "print(df, '\\n')\n",
    "\n",
    "df.drop(['r1','r3'], axis = 0, inplace=True)\n",
    "print(df)"
   ]
  },
  {
   "attachments": {},
   "cell_type": "markdown",
   "metadata": {},
   "source": [
    "7. 데이터프레임을 외부 파일로 저장하기(csv, excel)\n",
    "- to_csv() 와 to_excel() 메소드"
   ]
  },
  {
   "cell_type": "code",
   "execution_count": 13,
   "metadata": {},
   "outputs": [
    {
     "name": "stdout",
     "output_type": "stream",
     "text": [
      "    c0  c1  c2\n",
      "r0   1   4   7\n",
      "r1   2   5   8\n",
      "r2   3   6   9 \n",
      "\n"
     ]
    }
   ],
   "source": [
    "import pandas as pd\n",
    "# dictionary를 df로 변환\n",
    "dict_data = {'c0':[1,2,3], 'c1':[4,5,6], 'c2':[7,8,9]}\n",
    "df = pd.DataFrame(dict_data, index = ['r0','r1','r2'])\n",
    "print(df.head(5), '\\n')"
   ]
  },
  {
   "cell_type": "code",
   "execution_count": 14,
   "metadata": {},
   "outputs": [],
   "source": [
    "import pandas as pd\n",
    "import openpyxl\n",
    "\n",
    "# 데이터프레임을 csv파일로 저장\n",
    "df.to_csv('./df.csv')\n",
    "\n",
    "# 데이터프레임을 excel파일로 저장\n",
    "df.to_excel('./df.xlsx')"
   ]
  },
  {
   "attachments": {},
   "cell_type": "markdown",
   "metadata": {},
   "source": [
    "8. 데이터를 그래프로 표현하기 \n",
    "- 선 그래프"
   ]
  },
  {
   "cell_type": "code",
   "execution_count": 15,
   "metadata": {},
   "outputs": [
    {
     "name": "stdout",
     "output_type": "stream",
     "text": [
      "<bound method NDFrame.head of   지원번호   이름   학교    키   국어   영어   수학  과학  사회        SW특기\n",
      "0   1번  채치수  북산고  197   90   85  100  95  85      Python\n",
      "1   2번  정대만  북산고  184   40   35   50  55  25        Java\n",
      "2   3번  송태섭  북산고  168   80   75   70  80  75  Javascript\n",
      "3   4번  서태웅  북산고  187   40   60   70  75  80         NaN\n",
      "4   5번  강백호  북산고  188   15   20   10  35  10         NaN\n",
      "5   6번  변덕규  능남고  202   80  100   95  85  80           C\n",
      "6   7번  황태산  능남고  188   55   65   45  40  35      PYTHON\n",
      "7   8번  윤대협  능남고  190  100   85   90  95  95          C#> \n",
      "\n"
     ]
    }
   ],
   "source": [
    "import pandas as pd\n",
    "df = pd.read_excel('./score.xlsx')\n",
    "print(df.head, '\\n')\n"
   ]
  },
  {
   "cell_type": "code",
   "execution_count": 16,
   "metadata": {},
   "outputs": [
    {
     "name": "stdout",
     "output_type": "stream",
     "text": [
      "  number name   학교  length   국어   영어   수학  과학  사회        SW특기\n",
      "0     1번  채치수  북산고     197   90   85  100  95  85      Python\n",
      "1     2번  정대만  북산고     184   40   35   50  55  25        Java\n",
      "2     3번  송태섭  북산고     168   80   75   70  80  75  Javascript\n",
      "3     4번  서태웅  북산고     187   40   60   70  75  80         NaN\n",
      "4     5번  강백호  북산고     188   15   20   10  35  10         NaN\n",
      "5     6번  변덕규  능남고     202   80  100   95  85  80           C\n",
      "6     7번  황태산  능남고     188   55   65   45  40  35      PYTHON\n",
      "7     8번  윤대협  능남고     190  100   85   90  95  95          C#\n"
     ]
    }
   ],
   "source": [
    "\n",
    "df.rename(columns={'지원번호': 'number', '이름': 'name', '키': 'length'}, inplace=True) # 열 이름 변경하고 반영하기\n",
    "print(df)\n"
   ]
  },
  {
   "cell_type": "code",
   "execution_count": 17,
   "metadata": {},
   "outputs": [
    {
     "name": "stdout",
     "output_type": "stream",
     "text": [
      "    number name   학교  length   영어   수학  과학  사회        SW특기\n",
      "국어                                                        \n",
      "90      1번  채치수  북산고     197   85  100  95  85      Python\n",
      "40      2번  정대만  북산고     184   35   50  55  25        Java\n",
      "80      3번  송태섭  북산고     168   75   70  80  75  Javascript\n",
      "40      4번  서태웅  북산고     187   60   70  75  80         NaN\n",
      "15      5번  강백호  북산고     188   20   10  35  10         NaN\n",
      "80      6번  변덕규  능남고     202  100   95  85  80           C\n",
      "55      7번  황태산  능남고     188   65   45  40  35      PYTHON\n",
      "100     8번  윤대협  능남고     190   85   90  95  95          C#\n"
     ]
    }
   ],
   "source": [
    "df.set_index('국어', inplace = True) #length 열을 행 인덱스로 바꿔서 legnth(키)를 기준으로 정렬한다.\n",
    "print(df)\n"
   ]
  },
  {
   "cell_type": "code",
   "execution_count": 18,
   "metadata": {},
   "outputs": [
    {
     "name": "stdout",
     "output_type": "stream",
     "text": [
      "   number name   학교  length  영어   수학  과학  사회        SW특기\n",
      "국어                                                      \n",
      "90     1번  채치수  북산고     197  85  100  95  85      Python\n",
      "40     2번  정대만  북산고     184  35   50  55  25        Java\n",
      "80     3번  송태섭  북산고     168  75   70  80  75  Javascript\n",
      "40     4번  서태웅  북산고     187  60   70  75  80         NaN\n",
      "15     5번  강백호  북산고     188  20   10  35  10         NaN\n"
     ]
    },
    {
     "data": {
      "text/plain": [
       "<AxesSubplot:xlabel='국어'>"
      ]
     },
     "execution_count": 18,
     "metadata": {},
     "output_type": "execute_result"
    },
    {
     "name": "stderr",
     "output_type": "stream",
     "text": [
      "c:\\Users\\sarah\\Desktop\\databook\\envs\\lib\\site-packages\\IPython\\core\\events.py:89: UserWarning: Glyph 44397 (\\N{HANGUL SYLLABLE GUG}) missing from current font.\n",
      "  func(*args, **kwargs)\n",
      "c:\\Users\\sarah\\Desktop\\databook\\envs\\lib\\site-packages\\IPython\\core\\events.py:89: UserWarning: Glyph 50612 (\\N{HANGUL SYLLABLE EO}) missing from current font.\n",
      "  func(*args, **kwargs)\n",
      "c:\\Users\\sarah\\Desktop\\databook\\envs\\lib\\site-packages\\IPython\\core\\events.py:89: UserWarning: Glyph 50689 (\\N{HANGUL SYLLABLE YEONG}) missing from current font.\n",
      "  func(*args, **kwargs)\n",
      "c:\\Users\\sarah\\Desktop\\databook\\envs\\lib\\site-packages\\IPython\\core\\events.py:89: UserWarning: Glyph 49688 (\\N{HANGUL SYLLABLE SU}) missing from current font.\n",
      "  func(*args, **kwargs)\n",
      "c:\\Users\\sarah\\Desktop\\databook\\envs\\lib\\site-packages\\IPython\\core\\events.py:89: UserWarning: Glyph 54617 (\\N{HANGUL SYLLABLE HAG}) missing from current font.\n",
      "  func(*args, **kwargs)\n",
      "c:\\Users\\sarah\\Desktop\\databook\\envs\\lib\\site-packages\\IPython\\core\\events.py:89: UserWarning: Glyph 44284 (\\N{HANGUL SYLLABLE GWA}) missing from current font.\n",
      "  func(*args, **kwargs)\n",
      "c:\\Users\\sarah\\Desktop\\databook\\envs\\lib\\site-packages\\IPython\\core\\events.py:89: UserWarning: Glyph 49324 (\\N{HANGUL SYLLABLE SA}) missing from current font.\n",
      "  func(*args, **kwargs)\n",
      "c:\\Users\\sarah\\Desktop\\databook\\envs\\lib\\site-packages\\IPython\\core\\events.py:89: UserWarning: Glyph 54924 (\\N{HANGUL SYLLABLE HOE}) missing from current font.\n",
      "  func(*args, **kwargs)\n",
      "c:\\Users\\sarah\\Desktop\\databook\\envs\\lib\\site-packages\\IPython\\core\\pylabtools.py:151: UserWarning: Glyph 44397 (\\N{HANGUL SYLLABLE GUG}) missing from current font.\n",
      "  fig.canvas.print_figure(bytes_io, **kw)\n",
      "c:\\Users\\sarah\\Desktop\\databook\\envs\\lib\\site-packages\\IPython\\core\\pylabtools.py:151: UserWarning: Glyph 50612 (\\N{HANGUL SYLLABLE EO}) missing from current font.\n",
      "  fig.canvas.print_figure(bytes_io, **kw)\n",
      "c:\\Users\\sarah\\Desktop\\databook\\envs\\lib\\site-packages\\IPython\\core\\pylabtools.py:151: UserWarning: Glyph 50689 (\\N{HANGUL SYLLABLE YEONG}) missing from current font.\n",
      "  fig.canvas.print_figure(bytes_io, **kw)\n",
      "c:\\Users\\sarah\\Desktop\\databook\\envs\\lib\\site-packages\\IPython\\core\\pylabtools.py:151: UserWarning: Glyph 49688 (\\N{HANGUL SYLLABLE SU}) missing from current font.\n",
      "  fig.canvas.print_figure(bytes_io, **kw)\n",
      "c:\\Users\\sarah\\Desktop\\databook\\envs\\lib\\site-packages\\IPython\\core\\pylabtools.py:151: UserWarning: Glyph 54617 (\\N{HANGUL SYLLABLE HAG}) missing from current font.\n",
      "  fig.canvas.print_figure(bytes_io, **kw)\n",
      "c:\\Users\\sarah\\Desktop\\databook\\envs\\lib\\site-packages\\IPython\\core\\pylabtools.py:151: UserWarning: Glyph 44284 (\\N{HANGUL SYLLABLE GWA}) missing from current font.\n",
      "  fig.canvas.print_figure(bytes_io, **kw)\n",
      "c:\\Users\\sarah\\Desktop\\databook\\envs\\lib\\site-packages\\IPython\\core\\pylabtools.py:151: UserWarning: Glyph 49324 (\\N{HANGUL SYLLABLE SA}) missing from current font.\n",
      "  fig.canvas.print_figure(bytes_io, **kw)\n",
      "c:\\Users\\sarah\\Desktop\\databook\\envs\\lib\\site-packages\\IPython\\core\\pylabtools.py:151: UserWarning: Glyph 54924 (\\N{HANGUL SYLLABLE HOE}) missing from current font.\n",
      "  fig.canvas.print_figure(bytes_io, **kw)\n"
     ]
    },
    {
     "data": {
      "image/png": "[encoded data removed]",
      "text/plain": [
       "<Figure size 640x480 with 1 Axes>"
      ]
     },
     "metadata": {},
     "output_type": "display_data"
    }
   ],
   "source": [
    "print(df.head())\n",
    "df.to_excel('./score_2.xlsx', '\\n')\n",
    "\n",
    "## 선 그래프 그리기\n",
    "df.plot()\n",
    "#예시 : df.plot()는 선 그래프, df.plot(kind = 'box') 처럼 kind='bar', 'hist', 'scatter' 중에서 선택한다.\n",
    "\n",
    "# df['국어'].plot()"
   ]
  },
  {
   "cell_type": "code",
   "execution_count": 19,
   "metadata": {},
   "outputs": [
    {
     "name": "stdout",
     "output_type": "stream",
     "text": [
      "  지원번호   이름   학교    키  국어  영어   수학  과학  사회        SW특기\n",
      "0   1번  채치수  북산고  197  90  85  100  95  85      Python\n",
      "1   2번  정대만  북산고  184  40  35   50  55  25        Java\n",
      "2   3번  송태섭  북산고  168  80  75   70  80  75  Javascript\n",
      "3   4번  서태웅  북산고  187  40  60   70  75  80         NaN\n",
      "4   5번  강백호  북산고  188  15  20   10  35  10         NaN\n"
     ]
    },
    {
     "name": "stderr",
     "output_type": "stream",
     "text": [
      "c:\\Users\\sarah\\Desktop\\databook\\envs\\lib\\site-packages\\ipykernel_launcher.py:10: UserWarning: Glyph 53412 (\\N{HANGUL SYLLABLE KI}) missing from current font.\n",
      "  # Remove the CWD from sys.path while we load stuff.\n",
      "c:\\Users\\sarah\\Desktop\\databook\\envs\\lib\\site-packages\\ipykernel_launcher.py:10: UserWarning: Glyph 44397 (\\N{HANGUL SYLLABLE GUG}) missing from current font.\n",
      "  # Remove the CWD from sys.path while we load stuff.\n",
      "c:\\Users\\sarah\\Desktop\\databook\\envs\\lib\\site-packages\\ipykernel_launcher.py:10: UserWarning: Glyph 50612 (\\N{HANGUL SYLLABLE EO}) missing from current font.\n",
      "  # Remove the CWD from sys.path while we load stuff.\n",
      "c:\\Users\\sarah\\Desktop\\databook\\envs\\lib\\site-packages\\ipykernel_launcher.py:10: UserWarning: Glyph 50689 (\\N{HANGUL SYLLABLE YEONG}) missing from current font.\n",
      "  # Remove the CWD from sys.path while we load stuff.\n",
      "c:\\Users\\sarah\\Desktop\\databook\\envs\\lib\\site-packages\\ipykernel_launcher.py:10: UserWarning: Glyph 49688 (\\N{HANGUL SYLLABLE SU}) missing from current font.\n",
      "  # Remove the CWD from sys.path while we load stuff.\n",
      "c:\\Users\\sarah\\Desktop\\databook\\envs\\lib\\site-packages\\ipykernel_launcher.py:10: UserWarning: Glyph 54617 (\\N{HANGUL SYLLABLE HAG}) missing from current font.\n",
      "  # Remove the CWD from sys.path while we load stuff.\n",
      "c:\\Users\\sarah\\Desktop\\databook\\envs\\lib\\site-packages\\ipykernel_launcher.py:10: UserWarning: Glyph 44284 (\\N{HANGUL SYLLABLE GWA}) missing from current font.\n",
      "  # Remove the CWD from sys.path while we load stuff.\n",
      "c:\\Users\\sarah\\Desktop\\databook\\envs\\lib\\site-packages\\ipykernel_launcher.py:10: UserWarning: Glyph 49324 (\\N{HANGUL SYLLABLE SA}) missing from current font.\n",
      "  # Remove the CWD from sys.path while we load stuff.\n",
      "c:\\Users\\sarah\\Desktop\\databook\\envs\\lib\\site-packages\\ipykernel_launcher.py:10: UserWarning: Glyph 54924 (\\N{HANGUL SYLLABLE HOE}) missing from current font.\n",
      "  # Remove the CWD from sys.path while we load stuff.\n",
      "c:\\Users\\sarah\\Desktop\\databook\\envs\\lib\\site-packages\\IPython\\core\\pylabtools.py:151: UserWarning: Glyph 53412 (\\N{HANGUL SYLLABLE KI}) missing from current font.\n",
      "  fig.canvas.print_figure(bytes_io, **kw)\n",
      "c:\\Users\\sarah\\Desktop\\databook\\envs\\lib\\site-packages\\IPython\\core\\pylabtools.py:151: UserWarning: Glyph 44397 (\\N{HANGUL SYLLABLE GUG}) missing from current font.\n",
      "  fig.canvas.print_figure(bytes_io, **kw)\n",
      "c:\\Users\\sarah\\Desktop\\databook\\envs\\lib\\site-packages\\IPython\\core\\pylabtools.py:151: UserWarning: Glyph 50612 (\\N{HANGUL SYLLABLE EO}) missing from current font.\n",
      "  fig.canvas.print_figure(bytes_io, **kw)\n",
      "c:\\Users\\sarah\\Desktop\\databook\\envs\\lib\\site-packages\\IPython\\core\\pylabtools.py:151: UserWarning: Glyph 50689 (\\N{HANGUL SYLLABLE YEONG}) missing from current font.\n",
      "  fig.canvas.print_figure(bytes_io, **kw)\n",
      "c:\\Users\\sarah\\Desktop\\databook\\envs\\lib\\site-packages\\IPython\\core\\pylabtools.py:151: UserWarning: Glyph 49688 (\\N{HANGUL SYLLABLE SU}) missing from current font.\n",
      "  fig.canvas.print_figure(bytes_io, **kw)\n",
      "c:\\Users\\sarah\\Desktop\\databook\\envs\\lib\\site-packages\\IPython\\core\\pylabtools.py:151: UserWarning: Glyph 54617 (\\N{HANGUL SYLLABLE HAG}) missing from current font.\n",
      "  fig.canvas.print_figure(bytes_io, **kw)\n",
      "c:\\Users\\sarah\\Desktop\\databook\\envs\\lib\\site-packages\\IPython\\core\\pylabtools.py:151: UserWarning: Glyph 44284 (\\N{HANGUL SYLLABLE GWA}) missing from current font.\n",
      "  fig.canvas.print_figure(bytes_io, **kw)\n",
      "c:\\Users\\sarah\\Desktop\\databook\\envs\\lib\\site-packages\\IPython\\core\\pylabtools.py:151: UserWarning: Glyph 49324 (\\N{HANGUL SYLLABLE SA}) missing from current font.\n",
      "  fig.canvas.print_figure(bytes_io, **kw)\n",
      "c:\\Users\\sarah\\Desktop\\databook\\envs\\lib\\site-packages\\IPython\\core\\pylabtools.py:151: UserWarning: Glyph 54924 (\\N{HANGUL SYLLABLE HOE}) missing from current font.\n",
      "  fig.canvas.print_figure(bytes_io, **kw)\n"
     ]
    },
    {
     "data": {
      "image/png": "[encoded data removed]",
      "text/plain": [
       "<Figure size 640x480 with 1 Axes>"
      ]
     },
     "metadata": {},
     "output_type": "display_data"
    }
   ],
   "source": [
    "## 그래프 파일 저장하기\n",
    "import pandas as pd\n",
    "import matplotlib.pyplot as plt\n",
    "\n",
    "df = pd.read_excel('./score.xlsx')\n",
    "print(df.head())\n",
    "\n",
    "# 그래프를 파일로 저장\n",
    "boxplot = df.plot(kind = 'box')\n",
    "plt.savefig('./boxplot.png')"
   ]
  },
  {
   "attachments": {},
   "cell_type": "markdown",
   "metadata": {},
   "source": [
    "9. 히트맵(heatmap)\n",
    "- 변수 간의 상관관계를 히트맵으로 표현하기\n",
    "- headmap() 메소드 ; 데이터를 전달하고 그래프 형식요소를 결정\n"
   ]
  },
  {
   "cell_type": "code",
   "execution_count": 20,
   "metadata": {},
   "outputs": [],
   "source": [
    "# !pip install seaborn"
   ]
  },
  {
   "cell_type": "code",
   "execution_count": 21,
   "metadata": {},
   "outputs": [
    {
     "name": "stdout",
     "output_type": "stream",
     "text": [
      "   sepal_length  sepal_width  petal_length  petal_width species\n",
      "0           5.1          3.5           1.4          0.2  setosa\n",
      "1           4.9          3.0           1.4          0.2  setosa\n",
      "2           4.7          3.2           1.3          0.2  setosa \n",
      "\n"
     ]
    },
    {
     "data": {
      "text/plain": [
       "array(['sepal_length', 'sepal_width', 'petal_length', 'petal_width',\n",
       "       'species'], dtype=object)"
      ]
     },
     "execution_count": 21,
     "metadata": {},
     "output_type": "execute_result"
    }
   ],
   "source": [
    "import matplotlib.pyplot as plt\n",
    "import seaborn as sns\n",
    "\n",
    "# Seaborn 에서 제공하는 dataset 가져오기\n",
    "df = sns.load_dataset('iris')\n",
    "print(df.head(3), '\\n')\n",
    "df.columns.values\n"
   ]
  },
  {
   "cell_type": "code",
   "execution_count": 22,
   "metadata": {},
   "outputs": [
    {
     "name": "stdout",
     "output_type": "stream",
     "text": [
      "              sepal_length  sepal_width  petal_length  petal_width\n",
      "sepal_length      1.000000    -0.117570      0.871754     0.817941\n",
      "sepal_width      -0.117570     1.000000     -0.428440    -0.366126\n",
      "petal_length      0.871754    -0.428440      1.000000     0.962865\n",
      "petal_width       0.817941    -0.366126      0.962865     1.000000 \n",
      "\n"
     ]
    },
    {
     "data": {
      "image/png": "[encoded data removed]",
      "text/plain": [
       "<Figure size 1000x1000 with 1 Axes>"
      ]
     },
     "metadata": {},
     "output_type": "display_data"
    }
   ],
   "source": [
    "# 상관계수를 나타내고 heatmap 으로 나타내기\n",
    "plt.figure(figsize = (10,10))\n",
    "corr = df.loc[:,'sepal_length':'petal_width'].corr()\n",
    "print(corr, '\\n')\n",
    "\n",
    "# heatmap 그리기\n",
    "sns.set(font_scale = 1.5)\n",
    "sns.heatmap(corr, annot = True, cmap='PuBuGn', fmt = '.1f', square = False,\n",
    "            linewidth = 0.5, cbar = False)\n",
    "plt.show()"
   ]
  },
  {
   "attachments": {},
   "cell_type": "markdown",
   "metadata": {},
   "source": [
    "10. 구글 검색 트렌드 분석하기\n",
    "- pytrends 를 예제로 다루고 시간에 따른 검색 트렌드 데이터를 가져오는 함수를 이용한다. \n",
    "- pytrends 활용 : 지역별 검색 트렌드 비교, 검색어 리스트 트렌드, 추천 검색어 , 특정국가 로컬(한국) 데이터 트렌드 확인, "
   ]
  },
  {
   "cell_type": "code",
   "execution_count": 23,
   "metadata": {},
   "outputs": [],
   "source": [
    "# !pip install pytrends\n",
    "import pytrends"
   ]
  },
  {
   "cell_type": "code",
   "execution_count": 24,
   "metadata": {},
   "outputs": [],
   "source": [
    "from pytrends.request import TrendReq\n",
    "import matplotlib.pyplot as plt\n",
    "import os"
   ]
  },
  {
   "cell_type": "code",
   "execution_count": 25,
   "metadata": {},
   "outputs": [
    {
     "name": "stdout",
     "output_type": "stream",
     "text": [
      "            Tsla  isPartial\n",
      "date                       \n",
      "2023-05-07     9      False\n",
      "2023-05-08    61      False\n",
      "2023-05-09    59      False\n",
      "2023-05-10    58      False\n",
      "2023-05-11    66      False\n"
     ]
    },
    {
     "data": {
      "image/png": "[encoded data removed]",
      "text/plain": [
       "<Figure size 1000x300 with 1 Axes>"
      ]
     },
     "metadata": {},
     "output_type": "display_data"
    }
   ],
   "source": [
    "# 검색 keyword 및 검색기간 입력\n",
    "keyword = 'Tsla'\n",
    "period = 'today 1-m' #검색기간 : 최근 3개월\n",
    "\n",
    "# Google Trend 접속\n",
    "trend_obj = TrendReq()\n",
    "trend_obj.build_payload(kw_list = [keyword], timeframe = period)\n",
    "\n",
    "# 시간에 따른 trend 변화\n",
    "trend_df = trend_obj.interest_over_time()\n",
    "print(trend_df.head())\n",
    "\n",
    "#그래프 출력\n",
    "plt.style.use('ggplot')\n",
    "plt.figure(figsize=(10,3))\n",
    "trend_df['Tsla'].plot()\n",
    "plt.title('Google Trends over time', size = 15)\n",
    "plt.legend(labels = ['Tsla'], loc = 'upper right')\n",
    "\n",
    "#그래프 파일 저장\n",
    "cwd = os.getcwd()\n",
    "output_filepath = os.path.join(cwd, 'google_trend_%s.png' % keyword)\n",
    "plt.savefig(output_filepath, dpi = 300)\n",
    "plt.show()"
   ]
  },
  {
   "attachments": {},
   "cell_type": "markdown",
   "metadata": {},
   "source": [
    "## 오피스 업무 자동화\n",
    "- 다량의 pdf 문서에서 텍스트 추출 자동화되기"
   ]
  },
  {
   "cell_type": "code",
   "execution_count": 26,
   "metadata": {},
   "outputs": [],
   "source": [
    "# !pip install PyPDF2\n",
    "# !pip install pdfminer"
   ]
  },
  {
   "cell_type": "code",
   "execution_count": 27,
   "metadata": {},
   "outputs": [
    {
     "name": "stdout",
     "output_type": "stream",
     "text": [
      "Requirement already satisfied: pdfminer.six in c:\\users\\sarah\\desktop\\databook\\envs\\lib\\site-packages (20221105)\n",
      "Requirement already satisfied: cryptography>=36.0.0 in c:\\users\\sarah\\desktop\\databook\\envs\\lib\\site-packages (from pdfminer.six) (39.0.1)\n",
      "Requirement already satisfied: charset-normalizer>=2.0.0 in c:\\users\\sarah\\desktop\\databook\\envs\\lib\\site-packages (from pdfminer.six) (2.0.4)\n",
      "Requirement already satisfied: typing-extensions in c:\\users\\sarah\\desktop\\databook\\envs\\lib\\site-packages (from pdfminer.six) (4.4.0)\n",
      "Requirement already satisfied: cffi>=1.12 in c:\\users\\sarah\\desktop\\databook\\envs\\lib\\site-packages (from cryptography>=36.0.0->pdfminer.six) (1.15.1)\n",
      "Requirement already satisfied: pycparser in c:\\users\\sarah\\desktop\\databook\\envs\\lib\\site-packages (from cffi>=1.12->cryptography>=36.0.0->pdfminer.six) (2.21)\n"
     ]
    }
   ],
   "source": [
    "!pip install pdfminer.six"
   ]
  },
  {
   "cell_type": "code",
   "execution_count": null,
   "metadata": {},
   "outputs": [],
   "source": []
  },
  {
   "cell_type": "code",
   "execution_count": null,
   "metadata": {},
   "outputs": [],
   "source": []
  },
  {
   "cell_type": "code",
   "execution_count": 28,
   "metadata": {},
   "outputs": [
    {
     "name": "stdout",
     "output_type": "stream",
     "text": [
      "(1탄)위탁교육을 준비하는 모든 군인 화이팅.txt 파일이 저장되었습니다. \n",
      "\n",
      "(2탄)위탁교육을 준비하는 모든 군인 화이팅.txt 파일이 저장되었습니다. \n",
      "\n",
      "(3탄)위탁교육을 준비하는 모든 군인 화이팅숙소.txt 파일이 저장되었습니다. \n",
      "\n"
     ]
    }
   ],
   "source": [
    "#필요한 라이브러리 다운로드 \n",
    "import PyPDF2\n",
    "from pdfminer.converter import TextConverter\n",
    "from pdfminer.layout import LAParams\n",
    "from pdfminer.pdfdocument import PDFDocument\n",
    "from pdfminer.pdfinterp import PDFResourceManager, PDFPageInterpreter\n",
    "from pdfminer.pdfpage import PDFPage\n",
    "from pdfminer.pdfparser import PDFParser\n",
    "from io import StringIO\n",
    "import os\n",
    "\n",
    "#파일 경로지정 \n",
    "folder_path = os.path.join(os.getcwd(), 'pdf')\n",
    "folder_path\n",
    "\n",
    "#pdf파일을 txt파일로 바꿔주는 코드 \n",
    "\n",
    "def pdf_to_txt(filepath):\n",
    "    output = StringIO()\n",
    "    manager = PDFResourceManager()\n",
    "    converter = TextConverter(manager, output, laparams=LAParams())\n",
    "    interpreter = PDFPageInterpreter(manager, converter)\n",
    "\n",
    "    with open(filepath, 'rb') as infile:\n",
    "        for page in PDFPage.get_pages(infile):\n",
    "            interpreter.process_page(page)\n",
    "    converter.close()\n",
    "    text = output.getvalue()\n",
    "    output.close\n",
    "    return text\n",
    "\n",
    "folder_path = os.path.join(os.getcwd(), 'pdf')\n",
    "file_list = os.listdir(folder_path)\n",
    "\n",
    "for file_name in file_list:\n",
    "    if file_name.endswith('.pdf'):\n",
    "        pdf_text = pdf_to_txt(os.path.join(folder_path, file_name))\n",
    "        text_file = os.path.join(folder_path, file_name.split('.')[0]+'.txt')\n",
    "        with open(text_file, 'w', encoding='utf-8') as f:\n",
    "            f.write(pdf_text)\n",
    "        print('%s.txt 파일이 저장되었습니다. \\n' % file_name.split('.')[0])"
   ]
  },
  {
   "attachments": {},
   "cell_type": "markdown",
   "metadata": {},
   "source": [
    "## 텔레그램 봇(bot) 만들기\n",
    "- 텔레그램 채널 운영에 필요한 bot 만들기\n",
    "- 텔레그램 API 설치하고, Bot() 함수를 사용하여 봇 객체를 생성한다."
   ]
  },
  {
   "cell_type": "code",
   "execution_count": 42,
   "metadata": {},
   "outputs": [
    {
     "name": "stdout",
     "output_type": "stream",
     "text": [
      "<class 'telegram._bot.Bot'>\n",
      "Bot()\n",
      "<class 'coroutine'>\n",
      "<coroutine object Bot.get_me at 0x0000015FB5AFA8C8>\n"
     ]
    },
    {
     "name": "stderr",
     "output_type": "stream",
     "text": [
      "c:\\Users\\sarah\\Desktop\\databook\\envs\\lib\\site-packages\\ipykernel_launcher.py:10: RuntimeWarning: coroutine 'Bot.get_me' was never awaited\n",
      "  # Remove the CWD from sys.path while we load stuff.\n",
      "RuntimeWarning: Enable tracemalloc to get the object allocation traceback\n"
     ]
    }
   ],
   "source": [
    "import telegram\n",
    "my_token = '6119662514:AAH8Ob__VcZ98grQ3VNo_9USiXPs3h_yJms'\n",
    "\n",
    "#봇 생성\n",
    "bot = telegram.Bot(token = my_token)\n",
    "print(type(bot))\n",
    "print(bot)\n",
    "\n",
    "#봇 사용자 정보 확인\n",
    "bot_info = bot.getMe()\n",
    "print(type(bot_info))\n",
    "print(bot_info)"
   ]
  },
  {
   "cell_type": "code",
   "execution_count": 40,
   "metadata": {},
   "outputs": [
    {
     "name": "stdout",
     "output_type": "stream",
     "text": [
      "()\n",
      "\n",
      "\n"
     ]
    },
    {
     "ename": "IndexError",
     "evalue": "tuple index out of range",
     "output_type": "error",
     "traceback": [
      "\u001b[1;31m---------------------------------------------------------------------------\u001b[0m",
      "\u001b[1;31mIndexError\u001b[0m                                Traceback (most recent call last)",
      "\u001b[1;32mC:\\Users\\Public\\Documents\\ESTsoft\\CreatorTemp\\ipykernel_34388\\2207962600.py\u001b[0m in \u001b[0;36masync-def-wrapper\u001b[1;34m()\u001b[0m\n\u001b[0;32m     15\u001b[0m \u001b[1;31m# print(latest_update.message.date)\u001b[0m\u001b[1;33m\u001b[0m\u001b[1;33m\u001b[0m\u001b[1;33m\u001b[0m\u001b[0m\n\u001b[0;32m     16\u001b[0m \u001b[1;31m# print(latest_update.message.chat.id)\u001b[0m\u001b[1;33m\u001b[0m\u001b[1;33m\u001b[0m\u001b[1;33m\u001b[0m\u001b[0m\n\u001b[1;32m---> 17\u001b[1;33m \u001b[1;31m# print(latest_update.message.text)\u001b[0m\u001b[1;33m\u001b[0m\u001b[1;33m\u001b[0m\u001b[1;33m\u001b[0m\u001b[0m\n\u001b[0m",
      "\u001b[1;31mIndexError\u001b[0m: tuple index out of range"
     ]
    }
   ],
   "source": [
    "import telegram\n",
    "my_token = '6119662514:AAH8Ob__VcZ98grQ3VNo_9USiXPs3h_yJms'\n",
    "\n",
    "bot = telegram.Bot(token = my_token)\n",
    "\n",
    "updates = await bot.get_updates()\n",
    "print(updates)\n",
    "print('\\n')\n",
    "\n",
    "for update in updates :\n",
    "    print(update)\n",
    "    print('\\n')\n",
    "    \n",
    "latest_update = updates[-1]\n",
    "# print(latest_update.message.date)\n",
    "# print(latest_update.message.chat.id)\n",
    "# print(latest_update.message.text)"
   ]
  },
  {
   "cell_type": "code",
   "execution_count": null,
   "metadata": {},
   "outputs": [],
   "source": []
  }
 ],
 "metadata": {
  "kernelspec": {
   "display_name": "Python 3",
   "language": "python",
   "name": "python3"
  },
  "language_info": {
   "codemirror_mode": {
    "name": "ipython",
    "version": 3
   },
   "file_extension": ".py",
   "mimetype": "text/x-python",
   "name": "python",
   "nbconvert_exporter": "python",
   "pygments_lexer": "ipython3",
   "version": "3.7.16"
  },
  "orig_nbformat": 4
 },
 "nbformat": 4,
 "nbformat_minor": 2
}
