{
 "cells": [
  {
   "attachments": {},
   "cell_type": "markdown",
   "metadata": {},
   "source": [
    "# 파이썬 코딩의 기술"
   ]
  },
  {
   "attachments": {},
   "cell_type": "markdown",
   "metadata": {},
   "source": [
    "## 파이썬 다움\n",
    "파이썬다운 방식으로 프로그램을 작성하는 방법, 파이썬을 사용하는 가장 좋은 방법에 대한 통찰력을 제공한다.\n",
    "\n",
    "이미 파이썬 언어의 기본을 이해했다고 가정하고 이 책의 내용을 전개한다.\n",
    "\n",
    "$ git bash https://www.github.com/gilbutITbook/080235"
   ]
  },
  {
   "attachments": {},
   "cell_type": "markdown",
   "metadata": {},
   "source": [
    "## 1장 파이썬답게 생각하기 : Pythonic"
   ]
  },
  {
   "cell_type": "code",
   "execution_count": 1,
   "metadata": {},
   "outputs": [
    {
     "name": "stdout",
     "output_type": "stream",
     "text": [
      "sys.version_info(major=3, minor=9, micro=12, releaselevel='final', serial=0)\n",
      "3.9.12 (main, Apr  4 2022, 05:22:27) [MSC v.1916 64 bit (AMD64)]\n"
     ]
    }
   ],
   "source": [
    "# 파이썬버전 확인하기 : 3.9.12\n",
    "\n",
    "# 파이썬 2는 사용하지 않기\n",
    "\n",
    "import sys\n",
    "print(sys.version_info)\n",
    "print(sys.version)"
   ]
  },
  {
   "attachments": {},
   "cell_type": "markdown",
   "metadata": {},
   "source": [
    "### PEP 8 스타일 가이드를 따르라\n",
    "\n",
    "- 한국어 버전 : wikidocs/7896\n",
    "\n",
    "- 공백\n",
    "\n",
    "1)탭 대신 스페이스를 사용해서 들여쓰기하기 \n",
    "\n",
    "2)문법적으로 중요한 들여쓰기에는 4칸 스페이스 \n",
    "\n",
    "- 명명규약\n",
    "\n",
    "1) 함수, 변수는 소문자와 밑줄 : yeonho_captain 으로 사용\n",
    "\n",
    "2) 클래스는 각 단어의 첫 글자를 대문자로 만든다 : CaptainYeonho\n",
    "\n",
    "3) 클래스에 들어있는 인스턴스 메서드는 호출 대상 객체를 가리키는 첫 번째 인자의 이름으로 반드시 self 를 사용\n",
    "\n",
    "4) 클래스 메서드는 클래스를 가리키는 첫 번째 인자의 이름으로 반드시 cls를 사용 \n",
    "\n",
    "- 식과 문\n",
    "\n",
    "1) 비거나 비어있지 않은 컨테이너나 시퀀스 ?\n",
    "\n",
    "2) 한 줄짜리 if 문이나 한 줄짜리 for, while 루프, except 복합문 사용하지 않기\n",
    "    - 각 부분을 여러줄에 나눠 배치하라\n",
    "\n",
    "3) 식을 한 줄 안에 다 쓸 수 없는 경우 ? 식을 괄호로 둘러싸고 줄바꿈, 들여쓰기를 추가해서 읽기 쉽게 만들기\n",
    "\n",
    "4) 여러줄에 걸쳐 식을 쓸 때 ? \\문자보다는 괄호를 사용\n",
    "\n",
    "- import(임포트)\n",
    "\n",
    "1) import 문을 항상 파일 맨 앞에 위치시켜라\n",
    "\n",
    "2) 각 섹션에서는 알파벳 순서로 모듈을 임포트하라.\n",
    "\n",
    "- 일관성 있는 스타일을 사용하면 나중에 자신이 작성한 코드를 직접 수정할 때도 더 수월해진다. "
   ]
  },
  {
   "attachments": {},
   "cell_type": "markdown",
   "metadata": {},
   "source": [
    "### bytes와 str의 차이를 알아두기"
   ]
  },
  {
   "attachments": {},
   "cell_type": "markdown",
   "metadata": {},
   "source": [
    "문자열 데이터의 시퀀스를 표현하는 두 가지 타입 : bytes, str\n",
    "\n",
    "- 일반적으로 UTF-8 이 시스템 디폴트 인코딩 방식이다. \n",
    "\n",
    "- 책에는 그렇게 실용적인 부분은 없지만, 파일에서 읽거나 파일에 쓰고 싶을 때는 시스템 디폴트 인코딩에 주의하자\n",
    "  > 인코딩 차이로 어려움을 겪고싶지 않으면, open에 encoding 파라미터를 명시적으로 전달하기"
   ]
  },
  {
   "attachments": {},
   "cell_type": "markdown",
   "metadata": {},
   "source": [
    "### range보다는 enumerate를 사용하기"
   ]
  },
  {
   "cell_type": "code",
   "execution_count": 1,
   "metadata": {},
   "outputs": [
    {
     "name": "stdout",
     "output_type": "stream",
     "text": [
      "바닐라 맛있어요\n",
      "초콜릿 맛있어요\n",
      "피칸 맛있어요\n",
      "딸기 맛있어요\n"
     ]
    }
   ],
   "source": [
    "# 시퀀스에 대해 루프를 돌리는 코드\n",
    "flavor_list = ['바닐라', '초콜릿', '피칸', '딸기']\n",
    "for flavor in flavor_list :\n",
    "    print(f'{flavor} 맛있어요')"
   ]
  },
  {
   "cell_type": "code",
   "execution_count": 3,
   "metadata": {},
   "outputs": [
    {
     "name": "stdout",
     "output_type": "stream",
     "text": [
      "1 : 바닐라\n",
      "2 : 초콜릿\n",
      "3 : 피칸\n",
      "4 : 딸기\n"
     ]
    }
   ],
   "source": [
    "# 리스트의 몇 번째 원소를 처리 중인지 알아야 할 때가 있음\n",
    "flavor_list = ['바닐라', '초콜릿', '피칸', '딸기']\n",
    "for i in range(len(flavor_list)) :\n",
    "    flavor = flavor_list[i]\n",
    "    print(f'{i+1} : {flavor}')"
   ]
  },
  {
   "cell_type": "code",
   "execution_count": 14,
   "metadata": {},
   "outputs": [
    {
     "name": "stdout",
     "output_type": "stream",
     "text": [
      "1 : 바닐라\n",
      "2 : 초콜릿\n",
      "3 : 피칸\n",
      "4 : 딸기\n",
      "************************************************** 다음 코드 **************************************************\n",
      "3 : 바닐라\n",
      "4 : 초콜릿\n",
      "5 : 피칸\n",
      "6 : 딸기\n"
     ]
    }
   ],
   "source": [
    "# 위의 코드는 너무 투박스럽다 \n",
    "for i, flavor in enumerate(flavor_list) : \n",
    "    print(f'{i+1} : {flavor}')\n",
    "\n",
    "print('*'*50, '다음 코드', '*'* 50)\n",
    "# enumerate의 두번째 파라미터로 어디부터 수를 세기 시작할지 지정할 수 있다.\n",
    "for i, flavor in enumerate(flavor_list, 3) :\n",
    "    print(f'{i} : {flavor}')"
   ]
  },
  {
   "attachments": {},
   "cell_type": "markdown",
   "metadata": {},
   "source": [
    "### 여러 이터레이터에 대해 나란히 루프를 수행하려면 zip을 사용하기"
   ]
  },
  {
   "cell_type": "code",
   "execution_count": 16,
   "metadata": {},
   "outputs": [
    {
     "name": "stdout",
     "output_type": "stream",
     "text": [
      "[2, 7, 8]\n"
     ]
    }
   ],
   "source": [
    "names = ['연호', 'dongyun', 'seongsik']\n",
    "counts = [len(n) for n in names]\n",
    "print(counts)"
   ]
  },
  {
   "cell_type": "code",
   "execution_count": 23,
   "metadata": {},
   "outputs": [
    {
     "name": "stdout",
     "output_type": "stream",
     "text": [
      "seongsik 8\n"
     ]
    }
   ],
   "source": [
    "# enumerate를 사용할 때 \n",
    "longest_name = None\n",
    "max_count = 0\n",
    "\n",
    "for i, name in enumerate(names) : \n",
    "    count = counts[i] \n",
    "    if count > max_count :\n",
    "        longest_name = name\n",
    "        max_count = count"
   ]
  },
  {
   "cell_type": "code",
   "execution_count": 24,
   "metadata": {},
   "outputs": [],
   "source": [
    "# zip을 사용할 떄 \n",
    "\n",
    "for name, count in zip(names, counts) :\n",
    "    if count > max_count :\n",
    "        longest_name = name\n",
    "        max_count = count"
   ]
  },
  {
   "cell_type": "code",
   "execution_count": null,
   "metadata": {},
   "outputs": [],
   "source": []
  },
  {
   "cell_type": "code",
   "execution_count": null,
   "metadata": {},
   "outputs": [],
   "source": []
  },
  {
   "cell_type": "code",
   "execution_count": null,
   "metadata": {},
   "outputs": [],
   "source": []
  },
  {
   "cell_type": "code",
   "execution_count": null,
   "metadata": {},
   "outputs": [],
   "source": []
  },
  {
   "cell_type": "code",
   "execution_count": null,
   "metadata": {},
   "outputs": [],
   "source": []
  },
  {
   "cell_type": "code",
   "execution_count": null,
   "metadata": {},
   "outputs": [],
   "source": []
  },
  {
   "cell_type": "code",
   "execution_count": null,
   "metadata": {},
   "outputs": [],
   "source": []
  },
  {
   "cell_type": "code",
   "execution_count": null,
   "metadata": {},
   "outputs": [],
   "source": []
  },
  {
   "cell_type": "code",
   "execution_count": null,
   "metadata": {},
   "outputs": [],
   "source": []
  }
 ],
 "metadata": {
  "kernelspec": {
   "display_name": "base",
   "language": "python",
   "name": "python3"
  },
  "language_info": {
   "codemirror_mode": {
    "name": "ipython",
    "version": 3
   },
   "file_extension": ".py",
   "mimetype": "text/x-python",
   "name": "python",
   "nbconvert_exporter": "python",
   "pygments_lexer": "ipython3",
   "version": "3.9.12"
  },
  "orig_nbformat": 4
 },
 "nbformat": 4,
 "nbformat_minor": 2
}
