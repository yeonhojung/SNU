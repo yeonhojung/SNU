{
 "cells": [
  {
   "attachments": {},
   "cell_type": "markdown",
   "metadata": {},
   "source": [
    "## 데이터 정리 및 그래프 시각화\n",
    "\n",
    "1. 데이터프레임 만들기\n",
    "- pd.DataFrame을 통해서 데이터를 표(matrix)형태로 정리, 요약할 수 있고, 행은 index에 열은 columns에 저장해서 특징을 파악한다."
   ]
  },
  {
   "cell_type": "code",
   "execution_count": 1,
   "metadata": {},
   "outputs": [
    {
     "name": "stdout",
     "output_type": "stream",
     "text": [
      "    c0  c1\n",
      "r0   1   6\n",
      "r1   2   7\n",
      "r2   3   8\n",
      "r3   4   9\n",
      "r4   5  10\n"
     ]
    }
   ],
   "source": [
    "import pandas as pd\n",
    "\n",
    "dict_data = {'c0':[1,2,3,4,5], 'c1':[6,7,8,9,10]} #c0,c1의 열이름을 만들고 그에 맞는 값을 넣는다.\n",
    "df1 = pd.DataFrame(dict_data, index = ['r0','r1','r2','r3','r4']) #행 이름은 r0 ~ r4까지 지정해준다. 지정하지 않으면 정수값 0~4로 자동 대체된다.\n",
    "print(df1)"
   ]
  },
  {
   "cell_type": "code",
   "execution_count": 2,
   "metadata": {},
   "outputs": [
    {
     "name": "stdout",
     "output_type": "stream",
     "text": [
      "   0  1  2  3   4\n",
      "0  1  2  3  4   5\n",
      "1  6  7  8  9  10\n",
      "    c0  c1  c2  c3  c4\n",
      "r0   1   2   3   4   5\n",
      "r1   6   7   8   9  10\n"
     ]
    }
   ],
   "source": [
    "list_of_list_data = [[1,2,3,4,5],[6,7,8,9,10]]\n",
    "df2 = pd.DataFrame(list_of_list_data)\n",
    "print(df2) #2행 5열의 matrix\n",
    "\n",
    "df3 = pd.DataFrame(list_of_list_data, index = ['r0','r1',], columns=['c0','c1','c2','c3','c4'])\n",
    "print(df3) \n",
    "#2행 5열의 matrix인데 각 row와 column의 이름을 지정해준다. \n",
    "#index는 행, columns는 열의 속성을 가진다. "
   ]
  },
  {
   "cell_type": "code",
   "execution_count": 3,
   "metadata": {},
   "outputs": [
    {
     "name": "stdout",
     "output_type": "stream",
     "text": [
      "(5, 2)\n",
      "(2, 5)\n"
     ]
    }
   ],
   "source": [
    "print(df1.shape) #df의 형태(차원)을 확인하기 위함\n",
    "print(df3.shape)"
   ]
  },
  {
   "attachments": {},
   "cell_type": "markdown",
   "metadata": {},
   "source": [
    "2. 데이터프레임 만들기 : 외부 데이터(csv, excel) 가져오기 \n",
    "- pd.read_csv 또는 pd.read_excel\n",
    "- 예시 : pd.read_csv(파일명, header=None, index_col = 0)과 같은 형태로 지정해주면 df형태가 된다.\n"
   ]
  },
  {
   "cell_type": "code",
   "execution_count": 4,
   "metadata": {},
   "outputs": [
    {
     "data": {
      "text/plain": [
       "'d:\\\\SNU\\\\실무파이썬(공부)'"
      ]
     },
     "execution_count": 4,
     "metadata": {},
     "output_type": "execute_result"
    }
   ],
   "source": [
    "import os\n",
    "os.getcwd()"
   ]
  },
  {
   "cell_type": "code",
   "execution_count": 15,
   "metadata": {},
   "outputs": [
    {
     "name": "stdout",
     "output_type": "stream",
     "text": [
      "Collecting openpyxl\n",
      "  Downloading openpyxl-3.1.2-py2.py3-none-any.whl (249 kB)\n",
      "     -------------------------------------- 250.0/250.0 kB 5.1 MB/s eta 0:00:00\n",
      "Collecting et-xmlfile\n",
      "  Downloading et_xmlfile-1.1.0-py3-none-any.whl (4.7 kB)\n",
      "Installing collected packages: et-xmlfile, openpyxl\n",
      "Successfully installed et-xmlfile-1.1.0 openpyxl-3.1.2\n"
     ]
    }
   ],
   "source": [
    "!pip install openpyxl\n",
    "import openpyxl"
   ]
  },
  {
   "cell_type": "code",
   "execution_count": 19,
   "metadata": {},
   "outputs": [
    {
     "name": "stdout",
     "output_type": "stream",
     "text": [
      "  Unnamed: 0        m         sd  n  na       itc      citc       aid  max  \\\n",
      "0          키  188.000   9.985704  8   0  0.323052  0.256543  0.972403  202   \n",
      "1         국어   62.500  29.519969  8   0  0.927370  0.886009  0.917976  100   \n",
      "2         영어   65.625  26.917533  8   0  0.946568  0.919212  0.913550  100   \n",
      "3         수학   66.250  30.325614  8   0  0.981040  0.969209  0.906034  100   \n",
      "4         과학   70.000  23.754699  8   0  0.949478  0.927480  0.914963   95   \n",
      "5         사회   60.625  32.120032  8   0  0.951998  0.920451  0.914434   95   \n",
      "\n",
      "   adj.Pval  \n",
      "0  0.930693  \n",
      "1  0.625000  \n",
      "2  0.656250  \n",
      "3  0.662500  \n",
      "4  0.736842  \n",
      "5  0.638158  \n",
      "\n",
      "\n",
      "     0       1                 2  3   4                  5                  6  \\\n",
      "0  NaN       m                sd  n  na                itc               citc   \n",
      "1    키     188  9.98570406702931  8   0  0.323051840473208  0.256542672279846   \n",
      "2   국어    62.5  29.5199690282455  8   0  0.927370422925358  0.886009306867695   \n",
      "3   영어  65.625  26.9175327886597  8   0  0.946567620098521  0.919212134036549   \n",
      "4   수학   66.25  30.3256138790768  8   0   0.98104041154579  0.969208781476646   \n",
      "5   과학      70  23.7546987833084  8   0  0.949478351535704  0.927480276737597   \n",
      "6   사회  60.625  32.1200315779955  8   0  0.951997880234389  0.920450702120819   \n",
      "\n",
      "                   7    8                  9  \n",
      "0                aid  max           adj.Pval  \n",
      "1   0.97240306712963  202  0.930693069306931  \n",
      "2  0.917976294621555  100              0.625  \n",
      "3  0.913550277831768  100            0.65625  \n",
      "4  0.906033731213165  100             0.6625  \n",
      "5  0.914963437552495   95  0.736842105263158  \n",
      "6  0.914434197373956   95  0.638157894736842  \n",
      "\n",
      "\n",
      "          m         sd  n  na       itc      citc       aid  max  adj.Pval\n",
      "키   188.000   9.985704  8   0  0.323052  0.256543  0.972403  202  0.930693\n",
      "국어   62.500  29.519969  8   0  0.927370  0.886009  0.917976  100  0.625000\n",
      "영어   65.625  26.917533  8   0  0.946568  0.919212  0.913550  100  0.656250\n",
      "수학   66.250  30.325614  8   0  0.981040  0.969209  0.906034  100  0.662500\n",
      "과학   70.000  23.754699  8   0  0.949478  0.927480  0.914963   95  0.736842\n",
      "사회   60.625  32.120032  8   0  0.951998  0.920451  0.914434   95  0.638158\n",
      "\n",
      "\n",
      "          1                 2  3   4                  5                  6  \\\n",
      "0                                                                            \n",
      "NaN       m                sd  n  na                itc               citc   \n",
      "키       188  9.98570406702931  8   0  0.323051840473208  0.256542672279846   \n",
      "국어     62.5  29.5199690282455  8   0  0.927370422925358  0.886009306867695   \n",
      "영어   65.625  26.9175327886597  8   0  0.946567620098521  0.919212134036549   \n",
      "수학    66.25  30.3256138790768  8   0   0.98104041154579  0.969208781476646   \n",
      "과학       70  23.7546987833084  8   0  0.949478351535704  0.927480276737597   \n",
      "사회   60.625  32.1200315779955  8   0  0.951997880234389  0.920450702120819   \n",
      "\n",
      "                     7    8                  9  \n",
      "0                                               \n",
      "NaN                aid  max           adj.Pval  \n",
      "키     0.97240306712963  202  0.930693069306931  \n",
      "국어   0.917976294621555  100              0.625  \n",
      "영어   0.913550277831768  100            0.65625  \n",
      "수학   0.906033731213165  100             0.6625  \n",
      "과학   0.914963437552495   95  0.736842105263158  \n",
      "사회   0.914434197373956   95  0.638157894736842  \n",
      "\n",
      "\n",
      "        1    2    3    4    5    6   7   8           9\n",
      "0                                                     \n",
      "지원번호   이름   학교    키   국어   영어   수학  과학  사회        SW특기\n",
      "1번    채치수  북산고  197   90   85  100  95  85      Python\n",
      "2번    정대만  북산고  184   40   35   50  55  25        Java\n",
      "3번    송태섭  북산고  168   80   75   70  80  75  Javascript\n",
      "4번    서태웅  북산고  187   40   60   70  75  80         NaN\n",
      "5번    강백호  북산고  188   15   20   10  35  10         NaN\n",
      "6번    변덕규  능남고  202   80  100   95  85  80           C\n",
      "7번    황태산  능남고  188   55   65   45  40  35      PYTHON\n",
      "8번    윤대협  능남고  190  100   85   90  95  95          C#\n"
     ]
    }
   ],
   "source": [
    "# csv파일명을 경로와 함께 지정해준다.\n",
    "csv_file = './item_results.csv'\n",
    "\n",
    "# read_csv() 함수로 데이터프레임 변환\n",
    "df1= pd.read_csv(csv_file)\n",
    "print(df1)\n",
    "print('\\n')\n",
    "\n",
    "df2= pd.read_csv(csv_file, header = None)\n",
    "print(df2)\n",
    "print('\\n')\n",
    "\n",
    "df3 = pd.read_csv(csv_file, index_col = 0)\n",
    "print(df3)\n",
    "print('\\n')\n",
    "\n",
    "df4 = pd.read_csv(csv_file, index_col = 0, header = None)\n",
    "print(df4)\n",
    "print('\\n')\n",
    "\n",
    "excel_file = './score.xlsx'\n",
    "df5 = pd.read_excel(excel_file, index_col = 0, header = None)\n",
    "print(df5)\n"
   ]
  },
  {
   "attachments": {},
   "cell_type": "markdown",
   "metadata": {},
   "source": [
    "3. 데이터프레임 내용 살펴보기\n",
    "- df.head() , df.tail() 이용하여 데이터의 일부분만 살펴본다."
   ]
  },
  {
   "cell_type": "code",
   "execution_count": 23,
   "metadata": {},
   "outputs": [
    {
     "name": "stdout",
     "output_type": "stream",
     "text": [
      "  Unnamed: 0        m         sd  n  na       itc      citc       aid  max  \\\n",
      "0          키  188.000   9.985704  8   0  0.323052  0.256543  0.972403  202   \n",
      "1         국어   62.500  29.519969  8   0  0.927370  0.886009  0.917976  100   \n",
      "2         영어   65.625  26.917533  8   0  0.946568  0.919212  0.913550  100   \n",
      "3         수학   66.250  30.325614  8   0  0.981040  0.969209  0.906034  100   \n",
      "4         과학   70.000  23.754699  8   0  0.949478  0.927480  0.914963   95   \n",
      "5         사회   60.625  32.120032  8   0  0.951998  0.920451  0.914434   95   \n",
      "\n",
      "   adj.Pval  \n",
      "0  0.930693  \n",
      "1  0.625000  \n",
      "2  0.656250  \n",
      "3  0.662500  \n",
      "4  0.736842  \n",
      "5  0.638158  \n",
      "\n",
      "\n",
      "  Unnamed: 0        m         sd  n  na       itc      citc       aid  max  \\\n",
      "0          키  188.000   9.985704  8   0  0.323052  0.256543  0.972403  202   \n",
      "1         국어   62.500  29.519969  8   0  0.927370  0.886009  0.917976  100   \n",
      "2         영어   65.625  26.917533  8   0  0.946568  0.919212  0.913550  100   \n",
      "\n",
      "   adj.Pval  \n",
      "0  0.930693  \n",
      "1  0.625000  \n",
      "2  0.656250  \n",
      "\n",
      "\n",
      "  Unnamed: 0       m         sd  n  na       itc      citc       aid  max  \\\n",
      "3         수학  66.250  30.325614  8   0  0.981040  0.969209  0.906034  100   \n",
      "4         과학  70.000  23.754699  8   0  0.949478  0.927480  0.914963   95   \n",
      "5         사회  60.625  32.120032  8   0  0.951998  0.920451  0.914434   95   \n",
      "\n",
      "   adj.Pval  \n",
      "3  0.662500  \n",
      "4  0.736842  \n",
      "5  0.638158  \n",
      "\n",
      "\n"
     ]
    }
   ],
   "source": [
    "df1= pd.read_csv(csv_file)\n",
    "print(df1)\n",
    "print('\\n')\n",
    "print(df1.head(3))\n",
    "print('\\n')\n",
    "print(df1.tail(3))\n",
    "print('\\n')"
   ]
  },
  {
   "attachments": {},
   "cell_type": "markdown",
   "metadata": {},
   "source": [
    "- df.info()\n",
    "\n",
    "    : df의 자료형, 행, 인덱스의 종류와 개수, 열의 개수와 자료형, 메모리 사용량을 보여준다."
   ]
  },
  {
   "cell_type": "code",
   "execution_count": 25,
   "metadata": {},
   "outputs": [
    {
     "name": "stdout",
     "output_type": "stream",
     "text": [
      "  Unnamed: 0        m         sd  n  na       itc      citc       aid  max  \\\n",
      "0          키  188.000   9.985704  8   0  0.323052  0.256543  0.972403  202   \n",
      "1         국어   62.500  29.519969  8   0  0.927370  0.886009  0.917976  100   \n",
      "2         영어   65.625  26.917533  8   0  0.946568  0.919212  0.913550  100   \n",
      "\n",
      "   adj.Pval  \n",
      "0  0.930693  \n",
      "1  0.625000  \n",
      "2  0.656250  \n",
      "\n",
      "\n",
      "<class 'pandas.core.frame.DataFrame'>\n",
      "RangeIndex: 6 entries, 0 to 5\n",
      "Data columns (total 10 columns):\n",
      " #   Column      Non-Null Count  Dtype  \n",
      "---  ------      --------------  -----  \n",
      " 0   Unnamed: 0  6 non-null      object \n",
      " 1   m           6 non-null      float64\n",
      " 2   sd          6 non-null      float64\n",
      " 3   n           6 non-null      int64  \n",
      " 4   na          6 non-null      int64  \n",
      " 5   itc         6 non-null      float64\n",
      " 6   citc        6 non-null      float64\n",
      " 7   aid         6 non-null      float64\n",
      " 8   max         6 non-null      int64  \n",
      " 9   adj.Pval    6 non-null      float64\n",
      "dtypes: float64(6), int64(3), object(1)\n",
      "memory usage: 608.0+ bytes\n",
      "None\n"
     ]
    }
   ],
   "source": [
    "df= pd.read_csv(csv_file)\n",
    "\n",
    "print(df.head(3))\n",
    "print('\\n')\n",
    "\n",
    "print(df.info())"
   ]
  },
  {
   "attachments": {},
   "cell_type": "markdown",
   "metadata": {},
   "source": [
    "4. 데이터프레임 요약정보 확인하기\n",
    "- describe 함수\n",
    "\n",
    "    : df에 대한 통계치를 보여준다. 각 열의 데이터 개수(count), 평균값(mean), 표준편차(sd), min ~ max 값과 사분위수\n"
   ]
  },
  {
   "cell_type": "code",
   "execution_count": 29,
   "metadata": {},
   "outputs": [
    {
     "name": "stdout",
     "output_type": "stream",
     "text": [
      "  Unnamed: 0        m         sd  n  na       itc      citc       aid  max  \\\n",
      "0          키  188.000   9.985704  8   0  0.323052  0.256543  0.972403  202   \n",
      "1         국어   62.500  29.519969  8   0  0.927370  0.886009  0.917976  100   \n",
      "2         영어   65.625  26.917533  8   0  0.946568  0.919212  0.913550  100   \n",
      "\n",
      "   adj.Pval  \n",
      "0  0.930693  \n",
      "1  0.625000  \n",
      "2  0.656250  \n",
      "\n",
      "\n",
      "                m         sd    n   na       itc      citc       aid  \\\n",
      "count    6.000000   6.000000  6.0  6.0  6.000000  6.000000  6.000000   \n",
      "mean    85.500000  25.437258  8.0  0.0  0.846584  0.813151  0.923227   \n",
      "std     50.318672   8.111680  0.0  0.0  0.257055  0.273974  0.024416   \n",
      "min     60.625000   9.985704  8.0  0.0  0.323052  0.256543  0.906034   \n",
      "25%     63.281250  24.545407  8.0  0.0  0.932170  0.894310  0.913771   \n",
      "50%     65.937500  28.218751  8.0  0.0  0.948023  0.919831  0.914699   \n",
      "75%     69.062500  30.124203  8.0  0.0  0.951368  0.925723  0.917223   \n",
      "max    188.000000  32.120032  8.0  0.0  0.981040  0.969209  0.972403   \n",
      "\n",
      "              max  adj.Pval  \n",
      "count    6.000000  6.000000  \n",
      "mean   115.333333  0.708241  \n",
      "std     42.528422  0.115706  \n",
      "min     95.000000  0.625000  \n",
      "25%     96.250000  0.642681  \n",
      "50%    100.000000  0.659375  \n",
      "75%    100.000000  0.718257  \n",
      "max    202.000000  0.930693  \n"
     ]
    }
   ],
   "source": [
    "import pandas as pd\n",
    "df= pd.read_csv(csv_file)\n",
    "\n",
    "print(df.head(3))\n",
    "\n",
    "print('\\n')\n",
    "\n",
    "print(df.describe())"
   ]
  },
  {
   "attachments": {},
   "cell_type": "markdown",
   "metadata": {},
   "source": [
    "5. 데이터프레임 열(column) 다루기\n",
    "- 선택, 추가, 변경, 삭제 ; 데이터 전처리! \n"
   ]
  },
  {
   "cell_type": "code",
   "execution_count": 54,
   "metadata": {},
   "outputs": [
    {
     "name": "stdout",
     "output_type": "stream",
     "text": [
      "    c0  c1\n",
      "r0   1   4\n",
      "r1   2   5\n",
      "r2   3   6 \n",
      "\n",
      "r0    1\n",
      "r1    2\n",
      "r2    3\n",
      "Name: c0, dtype: int64\n",
      "r0    1\n",
      "r1    2\n",
      "r2    3\n",
      "Name: c0, dtype: int64\n",
      "    c0  c1  c2\n",
      "r0   1   4   7\n",
      "r1   2   5   8\n",
      "r2   3   6   9\n",
      "    c0  c1  c2  c3\n",
      "r0   1   4   7   0\n",
      "r1   2   5   8   0\n",
      "r2   3   6   9   0\n",
      "    c0  c1  c2  c3  c4\n",
      "r0   1   4   7   0   0\n",
      "r1   2   5   8   0   0\n",
      "r2   3   6   9   0   0\n",
      "    c0  c1  c2  c3  c4\n",
      "r0   1   4   7   8   0\n",
      "r1   2   5   8  11   0\n",
      "r2   3   6   9  12   0\n",
      "    c0  c1  c2  c3\n",
      "r0   1   4   7   8\n",
      "r1   2   5   8  11\n",
      "r2   3   6   9  12\n",
      "    c0  c2\n",
      "r0   1   7\n",
      "r1   2   8\n",
      "r2   3   9\n"
     ]
    }
   ],
   "source": [
    "import pandas as pd\n",
    "# dictionary를 df로 변환\n",
    "dict_data = {'c0':[1,2,3], 'c1':[4,5,6]}\n",
    "df = pd.DataFrame(dict_data, index = ['r0','r1','r2'])\n",
    "print(df.head(5), '\\n')\n",
    " \n",
    "# 열 선택 : 2가지 방식 \n",
    "col0 = df['c0']\n",
    "col1 = df.c0\n",
    "\n",
    "print(col0)\n",
    "print(col1)\n",
    "\n",
    "# 열 추가\n",
    "df['c2'] = [7,8,9]\n",
    "print(df)\n",
    "\n",
    "df['c3'] = 0\n",
    "print(df)\n",
    "\n",
    "df['c4'] = df['c3']\n",
    "print(df)\n",
    "\n",
    "df['c3'] = 8,11,12\n",
    "print(df)\n",
    "\n",
    "# 열 삭제 \n",
    "## axis = 1\n",
    "## inplace = True ; 기존 데이터프레임에 변경 내용을 반영하기 위함이다.\n",
    "df.drop('c4', axis = 1, inplace = True)\n",
    "print(df)\n",
    "\n",
    "df.drop(['c1', 'c3'], axis = 1, inplace = True)\n",
    "print(df)"
   ]
  },
  {
   "attachments": {},
   "cell_type": "markdown",
   "metadata": {},
   "source": [
    "6. 데이터프레임 행(row) 다루기\n",
    "- 선택, 추가, 변경, 삭제 ; 데이터 전처리! "
   ]
  },
  {
   "cell_type": "code",
   "execution_count": 85,
   "metadata": {},
   "outputs": [
    {
     "name": "stdout",
     "output_type": "stream",
     "text": [
      "    c0  c1  c2\n",
      "r0   1   4   7\n",
      "r1   2   5   8\n",
      "r2   3   6   9 \n",
      "\n"
     ]
    }
   ],
   "source": [
    "import pandas as pd\n",
    "# dictionary를 df로 변환\n",
    "dict_data = {'c0':[1,2,3], 'c1':[4,5,6], 'c2':[7,8,9]}\n",
    "df = pd.DataFrame(dict_data, index = ['r0','r1','r2'])\n",
    "print(df.head(5), '\\n')"
   ]
  },
  {
   "cell_type": "code",
   "execution_count": 87,
   "metadata": {},
   "outputs": [
    {
     "name": "stdout",
     "output_type": "stream",
     "text": [
      "c0    1\n",
      "c1    4\n",
      "c2    7\n",
      "Name: r0, dtype: int64 \n",
      "\n",
      "c0    2\n",
      "c1    5\n",
      "c2    8\n",
      "Name: r1, dtype: int64 \n",
      "\n",
      "c0    3\n",
      "c1    6\n",
      "c2    9\n",
      "Name: r2, dtype: int64 \n",
      "\n",
      "    c0  c1  c2\n",
      "r0   1   4   7\n",
      "r1   2   5   8\n",
      "r2   3   6   9\n",
      "r3  10  20  30\n",
      "r4   0   0   0 \n",
      "\n",
      "    c0  c1  c2\n",
      "r0   1   4   7\n",
      "r1   2   5   8\n",
      "r2   3   6   9\n",
      "r3   0   0   0\n",
      "r4   0   0   0 \n",
      "\n",
      "    c0  c1  c2\n",
      "r0   1   4   7\n",
      "r1   2   5   8\n",
      "r2   3   6   9\n",
      "r3   0   0   0 \n",
      "\n",
      "    c0  c1  c2\n",
      "r0   1   4   7\n",
      "r2   3   6   9\n"
     ]
    }
   ],
   "source": [
    "# iloc : 정수를 인수로 받는다.\n",
    "# loc : 행 인덱스의 이름을 사용한다.\n",
    "\n",
    "#행 선택 : iloc 함수를 사용\n",
    "for i in range(3):\n",
    "    row_i = df.iloc[i]\n",
    "    print(row_i, '\\n')\n",
    "    \n",
    "# 행 추가 : loc 함수 사용\n",
    "df.loc['r3'] = 10, 20, 30\n",
    "df.loc['r4'] = 0\n",
    "print(df, '\\n')\n",
    "\n",
    "# 행 변경\n",
    "df.loc['r3'] = df.loc['r4']\n",
    "print(df, '\\n')\n",
    "\n",
    "# 행 삭제\n",
    "df.drop('r4', axis = 0, inplace = True)\n",
    "print(df, '\\n')\n",
    "\n",
    "df.drop(['r1','r3'], axis = 0, inplace=True)\n",
    "print(df)"
   ]
  },
  {
   "cell_type": "code",
   "execution_count": null,
   "metadata": {},
   "outputs": [],
   "source": []
  },
  {
   "cell_type": "code",
   "execution_count": null,
   "metadata": {},
   "outputs": [],
   "source": []
  },
  {
   "cell_type": "code",
   "execution_count": null,
   "metadata": {},
   "outputs": [],
   "source": []
  },
  {
   "cell_type": "code",
   "execution_count": null,
   "metadata": {},
   "outputs": [],
   "source": []
  }
 ],
 "metadata": {
  "kernelspec": {
   "display_name": "Python 3",
   "language": "python",
   "name": "python3"
  },
  "language_info": {
   "codemirror_mode": {
    "name": "ipython",
    "version": 3
   },
   "file_extension": ".py",
   "mimetype": "text/x-python",
   "name": "python",
   "nbconvert_exporter": "python",
   "pygments_lexer": "ipython3",
   "version": "3.7.16"
  },
  "orig_nbformat": 4
 },
 "nbformat": 4,
 "nbformat_minor": 2
}
