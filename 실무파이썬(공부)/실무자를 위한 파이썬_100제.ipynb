{
 "cells": [
  {
   "attachments": {},
   "cell_type": "markdown",
   "metadata": {},
   "source": [
    "## 데이터 정리 및 그래프 시각화\n",
    "\n",
    "1. 데이터프레임 만들기\n",
    "- pd.DataFrame을 통해서 데이터를 표(matrix)형태로 정리, 요약할 수 있고, 행은 index에 열은 columns에 저장해서 특징을 파악한다."
   ]
  },
  {
   "cell_type": "code",
   "execution_count": 1,
   "metadata": {},
   "outputs": [
    {
     "name": "stdout",
     "output_type": "stream",
     "text": [
      "    c0  c1\n",
      "r0   1   6\n",
      "r1   2   7\n",
      "r2   3   8\n",
      "r3   4   9\n",
      "r4   5  10\n"
     ]
    }
   ],
   "source": [
    "import pandas as pd\n",
    "\n",
    "dict_data = {'c0':[1,2,3,4,5], 'c1':[6,7,8,9,10]} #c0,c1의 열이름을 만들고 그에 맞는 값을 넣는다.\n",
    "df1 = pd.DataFrame(dict_data, index = ['r0','r1','r2','r3','r4']) #행 이름은 r0 ~ r4까지 지정해준다. 지정하지 않으면 정수값 0~4로 자동 대체된다.\n",
    "print(df1)"
   ]
  },
  {
   "cell_type": "code",
   "execution_count": 11,
   "metadata": {},
   "outputs": [
    {
     "name": "stdout",
     "output_type": "stream",
     "text": [
      "   0  1  2  3   4\n",
      "0  1  2  3  4   5\n",
      "1  6  7  8  9  10\n",
      "    c0  c1  c2  c3  c4\n",
      "r0   1   2   3   4   5\n",
      "r1   6   7   8   9  10\n"
     ]
    }
   ],
   "source": [
    "list_of_list_data = [[1,2,3,4,5],[6,7,8,9,10]]\n",
    "df2 = pd.DataFrame(list_of_list_data)\n",
    "print(df2) #2행 5열의 matrix\n",
    "\n",
    "df3 = pd.DataFrame(list_of_list_data, index = ['r0','r1',], columns=['c0','c1','c2','c3','c4'])\n",
    "print(df3) \n",
    "#2행 5열의 matrix인데 각 row와 column의 이름을 지정해준다. \n",
    "#index는 행, columns는 열의 속성을 가진다. "
   ]
  },
  {
   "cell_type": "code",
   "execution_count": 13,
   "metadata": {},
   "outputs": [
    {
     "name": "stdout",
     "output_type": "stream",
     "text": [
      "(5, 2)\n",
      "(2, 5)\n"
     ]
    }
   ],
   "source": [
    "print(df1.shape) #df의 형태(차원)을 확인하기 위함\n",
    "print(df3.shape)"
   ]
  },
  {
   "attachments": {},
   "cell_type": "markdown",
   "metadata": {},
   "source": [
    "2. 데이터프레임 만들기 : 외부 데이터(csv, excel) 가져오기 \n"
   ]
  },
  {
   "cell_type": "code",
   "execution_count": null,
   "metadata": {},
   "outputs": [],
   "source": []
  },
  {
   "cell_type": "code",
   "execution_count": null,
   "metadata": {},
   "outputs": [],
   "source": []
  },
  {
   "cell_type": "code",
   "execution_count": null,
   "metadata": {},
   "outputs": [],
   "source": []
  },
  {
   "cell_type": "code",
   "execution_count": null,
   "metadata": {},
   "outputs": [],
   "source": []
  },
  {
   "cell_type": "code",
   "execution_count": null,
   "metadata": {},
   "outputs": [],
   "source": []
  },
  {
   "cell_type": "code",
   "execution_count": null,
   "metadata": {},
   "outputs": [],
   "source": []
  },
  {
   "cell_type": "code",
   "execution_count": null,
   "metadata": {},
   "outputs": [],
   "source": []
  },
  {
   "cell_type": "code",
   "execution_count": null,
   "metadata": {},
   "outputs": [],
   "source": []
  },
  {
   "cell_type": "code",
   "execution_count": null,
   "metadata": {},
   "outputs": [],
   "source": []
  },
  {
   "cell_type": "code",
   "execution_count": null,
   "metadata": {},
   "outputs": [],
   "source": []
  },
  {
   "cell_type": "code",
   "execution_count": null,
   "metadata": {},
   "outputs": [],
   "source": []
  },
  {
   "cell_type": "code",
   "execution_count": null,
   "metadata": {},
   "outputs": [],
   "source": []
  },
  {
   "cell_type": "code",
   "execution_count": null,
   "metadata": {},
   "outputs": [],
   "source": []
  }
 ],
 "metadata": {
  "kernelspec": {
   "display_name": "Python 3",
   "language": "python",
   "name": "python3"
  },
  "language_info": {
   "codemirror_mode": {
    "name": "ipython",
    "version": 3
   },
   "file_extension": ".py",
   "mimetype": "text/x-python",
   "name": "python",
   "nbconvert_exporter": "python",
   "pygments_lexer": "ipython3",
   "version": "3.7.16"
  },
  "orig_nbformat": 4
 },
 "nbformat": 4,
 "nbformat_minor": 2
}
