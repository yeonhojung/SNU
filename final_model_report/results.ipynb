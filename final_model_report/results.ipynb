{
 "cells": [
  {
   "attachments": {},
   "cell_type": "markdown",
   "metadata": {},
   "source": [
    "## 최종 결과값 값 산출"
   ]
  },
  {
   "cell_type": "code",
   "execution_count": 5,
   "metadata": {},
   "outputs": [
    {
     "data": {
      "text/plain": [
       "'/home/yeonho/final_saved_model'"
      ]
     },
     "execution_count": 5,
     "metadata": {},
     "output_type": "execute_result"
    }
   ],
   "source": [
    "os.getcwd()"
   ]
  },
  {
   "cell_type": "code",
   "execution_count": 6,
   "metadata": {},
   "outputs": [],
   "source": [
    "from new_model import * "
   ]
  },
  {
   "cell_type": "code",
   "execution_count": 7,
   "metadata": {},
   "outputs": [],
   "source": [
    "def test_model(model):\n",
    "    model.to(device)\n",
    "    model.eval()\n",
    "\n",
    "    total_examples = 0\n",
    "    correct_examples = 0\n",
    "    softmax = torch.nn.Softmax(dim=1)\n",
    "\n",
    "    with torch.no_grad():\n",
    "        for batch_idx, (inputs, targets) in enumerate(test_loader):\n",
    "            inputs, targets = inputs.to(device), targets.to(device)\n",
    "            pred = model(inputs)\n",
    "            total_examples += inputs.shape[0]\n",
    "\n",
    "            out = softmax(pred)\n",
    "            out = torch.max(out, 1)\n",
    "\n",
    "            correct_examples += torch.sum(targets==out[1]).cpu().data.numpy().tolist()\n",
    "\n",
    "    avg_acc = correct_examples / total_examples\n",
    "    print(\"Total examples is {}, correct examples is {}; Test accuracy: {}\".format(total_examples, correct_examples, avg_acc))"
   ]
  },
  {
   "cell_type": "code",
   "execution_count": 8,
   "metadata": {},
   "outputs": [],
   "source": []
  },
  {
   "attachments": {},
   "cell_type": "markdown",
   "metadata": {},
   "source": [
    "## 1. CIFAR10"
   ]
  },
  {
   "cell_type": "code",
   "execution_count": 10,
   "metadata": {},
   "outputs": [
    {
     "name": "stdout",
     "output_type": "stream",
     "text": [
      "Files already downloaded and verified\n",
      "Files already downloaded and verified\n"
     ]
    }
   ],
   "source": [
    "#Data 다운로드 경로지정\n",
    "batch_size = 128\n",
    "\n",
    "\n",
    "#Data Process \n",
    "transform_train = transforms.Compose([transforms.RandomCrop(32, padding=4),transforms.RandomHorizontalFlip(),\n",
    "                                      transforms.ToTensor(),transforms.Normalize((0.4914, 0.4822, 0.4465), (0.2023, 0.1994, 0.2010))]) \n",
    "\n",
    "transform_val = transforms.Compose([transforms.ToTensor(), \n",
    "                                    transforms.Normalize((0.4914, 0.4822, 0.4465),(0.2023, 0.1994, 0.2010))])\n",
    "\n",
    "transform_test = transforms.Compose([transforms.ToTensor(),\n",
    "                                     transforms.Normalize((0.4914, 0.4822, 0.4465),(0.2023, 0.1994, 0.2010))])\n",
    "\n",
    "train_CIFAR10 = torchvision.datasets.CIFAR10(root='./data', train=True, download=True, transform=transform_train)\n",
    "\n",
    "test_CIFAR10 = torchvision.datasets.CIFAR10(root='./data', train=False, download=True, transform=transform_test)\n",
    "\n",
    "num_train = int(1.0 * len(train_CIFAR10) * 95 / 100)\n",
    "num_val = len(train_CIFAR10) - num_train\n",
    "train_CIFAR10, val_CIFAR10 = torch.utils.data.random_split(train_CIFAR10, [num_train, num_val])\n",
    "\n",
    "train_loader = torch.utils.data.DataLoader(train_CIFAR10, batch_size=batch_size, shuffle=True, num_workers=2) #num_workers는 데이터 로드시 sub process 몇개 쓸거냐 \n",
    "val_loader = torch.utils.data.DataLoader(val_CIFAR10, batch_size=batch_size,shuffle=True, num_workers=2)\n",
    "test_loader = torch.utils.data.DataLoader(test_CIFAR10, batch_size=batch_size, shuffle=True, num_workers=2)"
   ]
  },
  {
   "attachments": {},
   "cell_type": "markdown",
   "metadata": {},
   "source": [
    "### 1-1. Wide Resnet"
   ]
  },
  {
   "cell_type": "code",
   "execution_count": 11,
   "metadata": {},
   "outputs": [
    {
     "name": "stdout",
     "output_type": "stream",
     "text": [
      "| Wide-Resnet 28x1\n",
      "Total examples is 10000, correct examples is 9307; Test accuracy: 0.9307\n",
      "| Wide-Resnet 28x2\n",
      "Total examples is 10000, correct examples is 9491; Test accuracy: 0.9491\n",
      "| Wide-Resnet 28x4\n",
      "Total examples is 10000, correct examples is 9538; Test accuracy: 0.9538\n",
      "| Wide-Resnet 28x10\n",
      "Total examples is 10000, correct examples is 9572; Test accuracy: 0.9572\n"
     ]
    }
   ],
   "source": [
    "#wide_resnet 28xn의 결과값\n",
    "for i in [1,2,4,10] :\n",
    "    model = Wide_ResNet(28, i, 0.3, 10).to(device)\n",
    "    checkpoint = torch.load(f\"./1.Wide_ResNet_model/saved_model/WR_28x{i}_cifar10.pth\")\n",
    "    model.load_state_dict(checkpoint['state_dict'])\n",
    "    test_model(model)\n",
    "\n"
   ]
  },
  {
   "attachments": {},
   "cell_type": "markdown",
   "metadata": {},
   "source": [
    "### 1-2. Knowledge distillation"
   ]
  },
  {
   "cell_type": "code",
   "execution_count": 15,
   "metadata": {},
   "outputs": [
    {
     "name": "stdout",
     "output_type": "stream",
     "text": [
      "T가 20일때의 28x4 to 28x2 distillation 결과 값\n",
      "| Wide-Resnet 28x4\n",
      "| Wide-Resnet 28x2\n",
      "Total examples is 10000, correct examples is 9524; Test accuracy: 0.9524\n",
      "| Wide-Resnet 28x4\n",
      "| Wide-Resnet 28x2\n",
      "Total examples is 10000, correct examples is 9503; Test accuracy: 0.9503\n",
      "| Wide-Resnet 28x4\n",
      "| Wide-Resnet 28x2\n",
      "Total examples is 10000, correct examples is 9499; Test accuracy: 0.9499\n"
     ]
    }
   ],
   "source": [
    "## 28x2 to 28x1\n",
    "t = 4\n",
    "s = 2 \n",
    "T = 20\n",
    "\n",
    "print(f\"T가 {T}일때의 28x{t} to 28x{s} distillation 결과 값\")\n",
    "for seed in [10, 100, 777] :\n",
    "    # 학습에 사용할 모델 생성\n",
    "    teacher = Wide_ResNet(28, t, 0.3, 10).to(device)\n",
    "    checkpoint_path = f\"./1.Wide_ResNet_model/saved_model/WR_28x{t}_cifar10.pth\"\n",
    "    checkpoint = torch.load(checkpoint_path)\n",
    "    teacher.load_state_dict(checkpoint['state_dict'])\n",
    "\n",
    "    student = Wide_ResNet(28, s, 0.3, 10).to(device)\n",
    "\n",
    "    # 모델 평가\n",
    "    checkpoint_path = f\"./2.Knowledge_Distillation/new_seed_{seed}_CIFAR10/KD_{t}to{s}_T={T}.pth\"\n",
    "    checkpoint = torch.load(checkpoint_path)\n",
    "    student.load_state_dict(checkpoint['state_dict'])\n",
    "    test_model(student)"
   ]
  },
  {
   "cell_type": "code",
   "execution_count": 13,
   "metadata": {},
   "outputs": [
    {
     "name": "stdout",
     "output_type": "stream",
     "text": [
      "T가 4일때의 28x2 to 28x1 distillation 결과 값\n",
      "| Wide-Resnet 28x2\n",
      "| Wide-Resnet 28x1\n",
      "Total examples is 10000, correct examples is 9354; Test accuracy: 0.9354\n",
      "| Wide-Resnet 28x2\n",
      "| Wide-Resnet 28x1\n",
      "Total examples is 10000, correct examples is 9413; Test accuracy: 0.9413\n",
      "| Wide-Resnet 28x2\n",
      "| Wide-Resnet 28x1\n",
      "Total examples is 10000, correct examples is 9353; Test accuracy: 0.9353\n",
      "T가 10일때의 28x2 to 28x1 distillation 결과 값\n",
      "| Wide-Resnet 28x2\n",
      "| Wide-Resnet 28x1\n"
     ]
    },
    {
     "ename": "KeyboardInterrupt",
     "evalue": "",
     "output_type": "error",
     "traceback": [
      "\u001b[0;31m---------------------------------------------------------------------------\u001b[0m",
      "\u001b[0;31mKeyboardInterrupt\u001b[0m                         Traceback (most recent call last)",
      "Cell \u001b[0;32mIn[13], line 20\u001b[0m\n\u001b[1;32m     18\u001b[0m checkpoint \u001b[39m=\u001b[39m torch\u001b[39m.\u001b[39mload(checkpoint_path)\n\u001b[1;32m     19\u001b[0m student\u001b[39m.\u001b[39mload_state_dict(checkpoint[\u001b[39m'\u001b[39m\u001b[39mstate_dict\u001b[39m\u001b[39m'\u001b[39m])\n\u001b[0;32m---> 20\u001b[0m test_model(student)\n",
      "Cell \u001b[0;32mIn[7], line 12\u001b[0m, in \u001b[0;36mtest_model\u001b[0;34m(model)\u001b[0m\n\u001b[1;32m     10\u001b[0m \u001b[39mfor\u001b[39;00m batch_idx, (inputs, targets) \u001b[39min\u001b[39;00m \u001b[39menumerate\u001b[39m(test_loader):\n\u001b[1;32m     11\u001b[0m     inputs, targets \u001b[39m=\u001b[39m inputs\u001b[39m.\u001b[39mto(device), targets\u001b[39m.\u001b[39mto(device)\n\u001b[0;32m---> 12\u001b[0m     pred \u001b[39m=\u001b[39m model(inputs)\n\u001b[1;32m     13\u001b[0m     total_examples \u001b[39m+\u001b[39m\u001b[39m=\u001b[39m inputs\u001b[39m.\u001b[39mshape[\u001b[39m0\u001b[39m]\n\u001b[1;32m     15\u001b[0m     out \u001b[39m=\u001b[39m softmax(pred)\n",
      "File \u001b[0;32m/usr/local/miniconda3/envs/nine/lib/python3.9/site-packages/torch/nn/modules/module.py:1501\u001b[0m, in \u001b[0;36mModule._call_impl\u001b[0;34m(self, *args, **kwargs)\u001b[0m\n\u001b[1;32m   1496\u001b[0m \u001b[39m# If we don't have any hooks, we want to skip the rest of the logic in\u001b[39;00m\n\u001b[1;32m   1497\u001b[0m \u001b[39m# this function, and just call forward.\u001b[39;00m\n\u001b[1;32m   1498\u001b[0m \u001b[39mif\u001b[39;00m \u001b[39mnot\u001b[39;00m (\u001b[39mself\u001b[39m\u001b[39m.\u001b[39m_backward_hooks \u001b[39mor\u001b[39;00m \u001b[39mself\u001b[39m\u001b[39m.\u001b[39m_backward_pre_hooks \u001b[39mor\u001b[39;00m \u001b[39mself\u001b[39m\u001b[39m.\u001b[39m_forward_hooks \u001b[39mor\u001b[39;00m \u001b[39mself\u001b[39m\u001b[39m.\u001b[39m_forward_pre_hooks\n\u001b[1;32m   1499\u001b[0m         \u001b[39mor\u001b[39;00m _global_backward_pre_hooks \u001b[39mor\u001b[39;00m _global_backward_hooks\n\u001b[1;32m   1500\u001b[0m         \u001b[39mor\u001b[39;00m _global_forward_hooks \u001b[39mor\u001b[39;00m _global_forward_pre_hooks):\n\u001b[0;32m-> 1501\u001b[0m     \u001b[39mreturn\u001b[39;00m forward_call(\u001b[39m*\u001b[39;49margs, \u001b[39m*\u001b[39;49m\u001b[39m*\u001b[39;49mkwargs)\n\u001b[1;32m   1502\u001b[0m \u001b[39m# Do not call functions when jit is used\u001b[39;00m\n\u001b[1;32m   1503\u001b[0m full_backward_hooks, non_full_backward_hooks \u001b[39m=\u001b[39m [], []\n",
      "File \u001b[0;32m~/final_saved_model/new_model.py:146\u001b[0m, in \u001b[0;36mWide_ResNet.forward\u001b[0;34m(self, x)\u001b[0m\n\u001b[1;32m    144\u001b[0m out \u001b[39m=\u001b[39m \u001b[39mself\u001b[39m\u001b[39m.\u001b[39mM_relu(\u001b[39mself\u001b[39m\u001b[39m.\u001b[39mbn1(\u001b[39mself\u001b[39m\u001b[39m.\u001b[39mconv1(x)))\n\u001b[1;32m    145\u001b[0m out \u001b[39m=\u001b[39m \u001b[39mself\u001b[39m\u001b[39m.\u001b[39mlayer1(out)\n\u001b[0;32m--> 146\u001b[0m out \u001b[39m=\u001b[39m \u001b[39mself\u001b[39;49m\u001b[39m.\u001b[39;49mlayer2(out)\n\u001b[1;32m    147\u001b[0m out \u001b[39m=\u001b[39m \u001b[39mself\u001b[39m\u001b[39m.\u001b[39mlayer3(out)\n\u001b[1;32m    148\u001b[0m out \u001b[39m=\u001b[39m F\u001b[39m.\u001b[39mavg_pool2d(out, \u001b[39m8\u001b[39m)\n",
      "File \u001b[0;32m/usr/local/miniconda3/envs/nine/lib/python3.9/site-packages/torch/nn/modules/module.py:1501\u001b[0m, in \u001b[0;36mModule._call_impl\u001b[0;34m(self, *args, **kwargs)\u001b[0m\n\u001b[1;32m   1496\u001b[0m \u001b[39m# If we don't have any hooks, we want to skip the rest of the logic in\u001b[39;00m\n\u001b[1;32m   1497\u001b[0m \u001b[39m# this function, and just call forward.\u001b[39;00m\n\u001b[1;32m   1498\u001b[0m \u001b[39mif\u001b[39;00m \u001b[39mnot\u001b[39;00m (\u001b[39mself\u001b[39m\u001b[39m.\u001b[39m_backward_hooks \u001b[39mor\u001b[39;00m \u001b[39mself\u001b[39m\u001b[39m.\u001b[39m_backward_pre_hooks \u001b[39mor\u001b[39;00m \u001b[39mself\u001b[39m\u001b[39m.\u001b[39m_forward_hooks \u001b[39mor\u001b[39;00m \u001b[39mself\u001b[39m\u001b[39m.\u001b[39m_forward_pre_hooks\n\u001b[1;32m   1499\u001b[0m         \u001b[39mor\u001b[39;00m _global_backward_pre_hooks \u001b[39mor\u001b[39;00m _global_backward_hooks\n\u001b[1;32m   1500\u001b[0m         \u001b[39mor\u001b[39;00m _global_forward_hooks \u001b[39mor\u001b[39;00m _global_forward_pre_hooks):\n\u001b[0;32m-> 1501\u001b[0m     \u001b[39mreturn\u001b[39;00m forward_call(\u001b[39m*\u001b[39;49margs, \u001b[39m*\u001b[39;49m\u001b[39m*\u001b[39;49mkwargs)\n\u001b[1;32m   1502\u001b[0m \u001b[39m# Do not call functions when jit is used\u001b[39;00m\n\u001b[1;32m   1503\u001b[0m full_backward_hooks, non_full_backward_hooks \u001b[39m=\u001b[39m [], []\n",
      "File \u001b[0;32m/usr/local/miniconda3/envs/nine/lib/python3.9/site-packages/torch/nn/modules/container.py:217\u001b[0m, in \u001b[0;36mSequential.forward\u001b[0;34m(self, input)\u001b[0m\n\u001b[1;32m    215\u001b[0m \u001b[39mdef\u001b[39;00m \u001b[39mforward\u001b[39m(\u001b[39mself\u001b[39m, \u001b[39minput\u001b[39m):\n\u001b[1;32m    216\u001b[0m     \u001b[39mfor\u001b[39;00m module \u001b[39min\u001b[39;00m \u001b[39mself\u001b[39m:\n\u001b[0;32m--> 217\u001b[0m         \u001b[39minput\u001b[39m \u001b[39m=\u001b[39m module(\u001b[39minput\u001b[39;49m)\n\u001b[1;32m    218\u001b[0m     \u001b[39mreturn\u001b[39;00m \u001b[39minput\u001b[39m\n",
      "File \u001b[0;32m/usr/local/miniconda3/envs/nine/lib/python3.9/site-packages/torch/nn/modules/module.py:1501\u001b[0m, in \u001b[0;36mModule._call_impl\u001b[0;34m(self, *args, **kwargs)\u001b[0m\n\u001b[1;32m   1496\u001b[0m \u001b[39m# If we don't have any hooks, we want to skip the rest of the logic in\u001b[39;00m\n\u001b[1;32m   1497\u001b[0m \u001b[39m# this function, and just call forward.\u001b[39;00m\n\u001b[1;32m   1498\u001b[0m \u001b[39mif\u001b[39;00m \u001b[39mnot\u001b[39;00m (\u001b[39mself\u001b[39m\u001b[39m.\u001b[39m_backward_hooks \u001b[39mor\u001b[39;00m \u001b[39mself\u001b[39m\u001b[39m.\u001b[39m_backward_pre_hooks \u001b[39mor\u001b[39;00m \u001b[39mself\u001b[39m\u001b[39m.\u001b[39m_forward_hooks \u001b[39mor\u001b[39;00m \u001b[39mself\u001b[39m\u001b[39m.\u001b[39m_forward_pre_hooks\n\u001b[1;32m   1499\u001b[0m         \u001b[39mor\u001b[39;00m _global_backward_pre_hooks \u001b[39mor\u001b[39;00m _global_backward_hooks\n\u001b[1;32m   1500\u001b[0m         \u001b[39mor\u001b[39;00m _global_forward_hooks \u001b[39mor\u001b[39;00m _global_forward_pre_hooks):\n\u001b[0;32m-> 1501\u001b[0m     \u001b[39mreturn\u001b[39;00m forward_call(\u001b[39m*\u001b[39;49margs, \u001b[39m*\u001b[39;49m\u001b[39m*\u001b[39;49mkwargs)\n\u001b[1;32m   1502\u001b[0m \u001b[39m# Do not call functions when jit is used\u001b[39;00m\n\u001b[1;32m   1503\u001b[0m full_backward_hooks, non_full_backward_hooks \u001b[39m=\u001b[39m [], []\n",
      "File \u001b[0;32m~/final_saved_model/new_model.py:87\u001b[0m, in \u001b[0;36mM_BasicBlock.forward\u001b[0;34m(self, x)\u001b[0m\n\u001b[1;32m     85\u001b[0m \u001b[39mdef\u001b[39;00m \u001b[39mforward\u001b[39m(\u001b[39mself\u001b[39m, x):\n\u001b[1;32m     86\u001b[0m     out \u001b[39m=\u001b[39m \u001b[39mself\u001b[39m\u001b[39m.\u001b[39mM_relu1(\u001b[39mself\u001b[39m\u001b[39m.\u001b[39mbn1(\u001b[39mself\u001b[39m\u001b[39m.\u001b[39mconv1(x)))\n\u001b[0;32m---> 87\u001b[0m     out \u001b[39m=\u001b[39m \u001b[39mself\u001b[39m\u001b[39m.\u001b[39mbn2(\u001b[39mself\u001b[39;49m\u001b[39m.\u001b[39;49mconv2(out))\n\u001b[1;32m     88\u001b[0m     out \u001b[39m+\u001b[39m\u001b[39m=\u001b[39m \u001b[39mself\u001b[39m\u001b[39m.\u001b[39mshortcut(x)\n\u001b[1;32m     89\u001b[0m     out \u001b[39m=\u001b[39m \u001b[39mself\u001b[39m\u001b[39m.\u001b[39mM_relu2(out)\n",
      "File \u001b[0;32m/usr/local/miniconda3/envs/nine/lib/python3.9/site-packages/torch/nn/modules/module.py:1501\u001b[0m, in \u001b[0;36mModule._call_impl\u001b[0;34m(self, *args, **kwargs)\u001b[0m\n\u001b[1;32m   1496\u001b[0m \u001b[39m# If we don't have any hooks, we want to skip the rest of the logic in\u001b[39;00m\n\u001b[1;32m   1497\u001b[0m \u001b[39m# this function, and just call forward.\u001b[39;00m\n\u001b[1;32m   1498\u001b[0m \u001b[39mif\u001b[39;00m \u001b[39mnot\u001b[39;00m (\u001b[39mself\u001b[39m\u001b[39m.\u001b[39m_backward_hooks \u001b[39mor\u001b[39;00m \u001b[39mself\u001b[39m\u001b[39m.\u001b[39m_backward_pre_hooks \u001b[39mor\u001b[39;00m \u001b[39mself\u001b[39m\u001b[39m.\u001b[39m_forward_hooks \u001b[39mor\u001b[39;00m \u001b[39mself\u001b[39m\u001b[39m.\u001b[39m_forward_pre_hooks\n\u001b[1;32m   1499\u001b[0m         \u001b[39mor\u001b[39;00m _global_backward_pre_hooks \u001b[39mor\u001b[39;00m _global_backward_hooks\n\u001b[1;32m   1500\u001b[0m         \u001b[39mor\u001b[39;00m _global_forward_hooks \u001b[39mor\u001b[39;00m _global_forward_pre_hooks):\n\u001b[0;32m-> 1501\u001b[0m     \u001b[39mreturn\u001b[39;00m forward_call(\u001b[39m*\u001b[39;49margs, \u001b[39m*\u001b[39;49m\u001b[39m*\u001b[39;49mkwargs)\n\u001b[1;32m   1502\u001b[0m \u001b[39m# Do not call functions when jit is used\u001b[39;00m\n\u001b[1;32m   1503\u001b[0m full_backward_hooks, non_full_backward_hooks \u001b[39m=\u001b[39m [], []\n",
      "File \u001b[0;32m/usr/local/miniconda3/envs/nine/lib/python3.9/site-packages/torch/nn/modules/conv.py:463\u001b[0m, in \u001b[0;36mConv2d.forward\u001b[0;34m(self, input)\u001b[0m\n\u001b[1;32m    462\u001b[0m \u001b[39mdef\u001b[39;00m \u001b[39mforward\u001b[39m(\u001b[39mself\u001b[39m, \u001b[39minput\u001b[39m: Tensor) \u001b[39m-\u001b[39m\u001b[39m>\u001b[39m Tensor:\n\u001b[0;32m--> 463\u001b[0m     \u001b[39mreturn\u001b[39;00m \u001b[39mself\u001b[39;49m\u001b[39m.\u001b[39;49m_conv_forward(\u001b[39minput\u001b[39;49m, \u001b[39mself\u001b[39;49m\u001b[39m.\u001b[39;49mweight, \u001b[39mself\u001b[39;49m\u001b[39m.\u001b[39;49mbias)\n",
      "File \u001b[0;32m/usr/local/miniconda3/envs/nine/lib/python3.9/site-packages/torch/nn/modules/conv.py:459\u001b[0m, in \u001b[0;36mConv2d._conv_forward\u001b[0;34m(self, input, weight, bias)\u001b[0m\n\u001b[1;32m    455\u001b[0m \u001b[39mif\u001b[39;00m \u001b[39mself\u001b[39m\u001b[39m.\u001b[39mpadding_mode \u001b[39m!=\u001b[39m \u001b[39m'\u001b[39m\u001b[39mzeros\u001b[39m\u001b[39m'\u001b[39m:\n\u001b[1;32m    456\u001b[0m     \u001b[39mreturn\u001b[39;00m F\u001b[39m.\u001b[39mconv2d(F\u001b[39m.\u001b[39mpad(\u001b[39minput\u001b[39m, \u001b[39mself\u001b[39m\u001b[39m.\u001b[39m_reversed_padding_repeated_twice, mode\u001b[39m=\u001b[39m\u001b[39mself\u001b[39m\u001b[39m.\u001b[39mpadding_mode),\n\u001b[1;32m    457\u001b[0m                     weight, bias, \u001b[39mself\u001b[39m\u001b[39m.\u001b[39mstride,\n\u001b[1;32m    458\u001b[0m                     _pair(\u001b[39m0\u001b[39m), \u001b[39mself\u001b[39m\u001b[39m.\u001b[39mdilation, \u001b[39mself\u001b[39m\u001b[39m.\u001b[39mgroups)\n\u001b[0;32m--> 459\u001b[0m \u001b[39mreturn\u001b[39;00m F\u001b[39m.\u001b[39;49mconv2d(\u001b[39minput\u001b[39;49m, weight, bias, \u001b[39mself\u001b[39;49m\u001b[39m.\u001b[39;49mstride,\n\u001b[1;32m    460\u001b[0m                 \u001b[39mself\u001b[39;49m\u001b[39m.\u001b[39;49mpadding, \u001b[39mself\u001b[39;49m\u001b[39m.\u001b[39;49mdilation, \u001b[39mself\u001b[39;49m\u001b[39m.\u001b[39;49mgroups)\n",
      "\u001b[0;31mKeyboardInterrupt\u001b[0m: "
     ]
    }
   ],
   "source": [
    "## 28x2 to 28x1\n",
    "t = 2\n",
    "s = 1 \n",
    "\n",
    "for T in [4,10,20]:\n",
    "    print(f\"T가 {T}일때의 28x{t} to 28x{s} distillation 결과 값\")\n",
    "    for seed in [10, 100, 777] :\n",
    "        # 학습에 사용할 모델 생성\n",
    "        teacher = Wide_ResNet(28, t, 0.3, 10).to(device)\n",
    "        checkpoint_path = f\"./1.Wide_ResNet_model/saved_model/WR_28x{t}_cifar10.pth\"\n",
    "        checkpoint = torch.load(checkpoint_path)\n",
    "        teacher.load_state_dict(checkpoint['state_dict'])\n",
    "\n",
    "        student = Wide_ResNet(28, s, 0.3, 10).to(device)\n",
    "\n",
    "        # 모델 평가\n",
    "        checkpoint_path = f\"./2.Knowledge_Distillation/save_seed{seed}_CIFAR10/KD_{t}to{s}_T={T}.pth\"\n",
    "        checkpoint = torch.load(checkpoint_path)\n",
    "        student.load_state_dict(checkpoint['state_dict'])\n",
    "        test_model(student)"
   ]
  },
  {
   "cell_type": "code",
   "execution_count": null,
   "metadata": {},
   "outputs": [
    {
     "name": "stdout",
     "output_type": "stream",
     "text": [
      "T가 4일때의 28x4 to 28x2 distillation 결과 값\n",
      "| Wide-Resnet 28x4\n",
      "| Wide-Resnet 28x2\n",
      "Total examples is 10000, correct examples is 9514; Test accuracy: 0.9514\n",
      "| Wide-Resnet 28x4\n",
      "| Wide-Resnet 28x2\n",
      "Total examples is 10000, correct examples is 9475; Test accuracy: 0.9475\n",
      "| Wide-Resnet 28x4\n",
      "| Wide-Resnet 28x2\n",
      "Total examples is 10000, correct examples is 9481; Test accuracy: 0.9481\n",
      "T가 10일때의 28x4 to 28x2 distillation 결과 값\n",
      "| Wide-Resnet 28x4\n",
      "| Wide-Resnet 28x2\n",
      "Total examples is 10000, correct examples is 9483; Test accuracy: 0.9483\n",
      "| Wide-Resnet 28x4\n",
      "| Wide-Resnet 28x2\n",
      "Total examples is 10000, correct examples is 9518; Test accuracy: 0.9518\n",
      "| Wide-Resnet 28x4\n",
      "| Wide-Resnet 28x2\n",
      "Total examples is 10000, correct examples is 9490; Test accuracy: 0.949\n",
      "T가 20일때의 28x4 to 28x2 distillation 결과 값\n",
      "| Wide-Resnet 28x4\n",
      "| Wide-Resnet 28x2\n",
      "Total examples is 10000, correct examples is 9493; Test accuracy: 0.9493\n",
      "| Wide-Resnet 28x4\n",
      "| Wide-Resnet 28x2\n",
      "Total examples is 10000, correct examples is 9514; Test accuracy: 0.9514\n",
      "| Wide-Resnet 28x4\n",
      "| Wide-Resnet 28x2\n",
      "Total examples is 10000, correct examples is 9531; Test accuracy: 0.9531\n"
     ]
    }
   ],
   "source": [
    "## 28x4 to 28x2\n",
    "t = 4\n",
    "s = 2 \n",
    "\n",
    "for T in [4,10,20]:\n",
    "    print(f\"T가 {T}일때의 28x{t} to 28x{s} distillation 결과 값\")\n",
    "    for seed in [10, 100, 777] :\n",
    "        # 학습에 사용할 모델 생성\n",
    "        teacher = Wide_ResNet(28, t, 0.3, 10).to(device)\n",
    "        checkpoint_path = f\"./1.Wide_ResNet_model/saved_model/WR_28x{t}_cifar10.pth\"\n",
    "        checkpoint = torch.load(checkpoint_path)\n",
    "        teacher.load_state_dict(checkpoint['state_dict'])\n",
    "\n",
    "        student = Wide_ResNet(28, s, 0.3, 10).to(device)\n",
    "\n",
    "        # 모델 평가\n",
    "        checkpoint_path = f\"./2.Knowledge_Distillation/save_seed{seed}_CIFAR10/KD_{t}to{s}_T={T}.pth\"\n",
    "        checkpoint = torch.load(checkpoint_path)\n",
    "        student.load_state_dict(checkpoint['state_dict'])\n",
    "        test_model(student)"
   ]
  },
  {
   "cell_type": "code",
   "execution_count": null,
   "metadata": {},
   "outputs": [
    {
     "name": "stdout",
     "output_type": "stream",
     "text": [
      "T가 4일때의 28x10 to 28x2 distillation 결과 값\n",
      "| Wide-Resnet 28x10\n",
      "| Wide-Resnet 28x2\n",
      "Total examples is 10000, correct examples is 9495; Test accuracy: 0.9495\n",
      "| Wide-Resnet 28x10\n",
      "| Wide-Resnet 28x2\n",
      "Total examples is 10000, correct examples is 9501; Test accuracy: 0.9501\n",
      "| Wide-Resnet 28x10\n",
      "| Wide-Resnet 28x2\n",
      "Total examples is 10000, correct examples is 9481; Test accuracy: 0.9481\n",
      "T가 10일때의 28x10 to 28x2 distillation 결과 값\n",
      "| Wide-Resnet 28x10\n",
      "| Wide-Resnet 28x2\n",
      "Total examples is 10000, correct examples is 9495; Test accuracy: 0.9495\n",
      "| Wide-Resnet 28x10\n",
      "| Wide-Resnet 28x2\n",
      "Total examples is 10000, correct examples is 9487; Test accuracy: 0.9487\n",
      "| Wide-Resnet 28x10\n",
      "| Wide-Resnet 28x2\n",
      "Total examples is 10000, correct examples is 9505; Test accuracy: 0.9505\n",
      "T가 20일때의 28x10 to 28x2 distillation 결과 값\n",
      "| Wide-Resnet 28x10\n",
      "| Wide-Resnet 28x2\n",
      "Total examples is 10000, correct examples is 9500; Test accuracy: 0.95\n",
      "| Wide-Resnet 28x10\n",
      "| Wide-Resnet 28x2\n",
      "Total examples is 10000, correct examples is 9507; Test accuracy: 0.9507\n",
      "| Wide-Resnet 28x10\n",
      "| Wide-Resnet 28x2\n",
      "Total examples is 10000, correct examples is 9517; Test accuracy: 0.9517\n"
     ]
    }
   ],
   "source": [
    "## 28x10 to 28x2\n",
    "t = 10\n",
    "s = 2\n",
    "\n",
    "for T in [4,10,20]:\n",
    "    print(f\"T가 {T}일때의 28x{t} to 28x{s} distillation 결과 값\")\n",
    "    for seed in [10, 100, 777] :\n",
    "        # 학습에 사용할 모델 생성\n",
    "        teacher = Wide_ResNet(28, t, 0.3, 10).to(device)\n",
    "        checkpoint_path = f\"./1.Wide_ResNet_model/saved_model/WR_28x{t}_cifar10.pth\"\n",
    "        checkpoint = torch.load(checkpoint_path)\n",
    "        teacher.load_state_dict(checkpoint['state_dict'])\n",
    "\n",
    "        student = Wide_ResNet(28, s, 0.3, 10).to(device)\n",
    "\n",
    "        # 모델 평가\n",
    "        checkpoint_path = f\"./2.Knowledge_Distillation/save_seed{seed}_CIFAR10/KD_{t}to{s}_T={T}.pth\"\n",
    "        checkpoint = torch.load(checkpoint_path)\n",
    "        student.load_state_dict(checkpoint['state_dict'])\n",
    "        test_model(student)"
   ]
  },
  {
   "cell_type": "code",
   "execution_count": null,
   "metadata": {},
   "outputs": [
    {
     "name": "stdout",
     "output_type": "stream",
     "text": [
      "T가 4일때의 28x10 to 28x4 distillation 결과 값\n",
      "| Wide-Resnet 28x10\n"
     ]
    },
    {
     "ename": "NameError",
     "evalue": "name 'device' is not defined",
     "output_type": "error",
     "traceback": [
      "\u001b[0;31m---------------------------------------------------------------------------\u001b[0m",
      "\u001b[0;31mNameError\u001b[0m                                 Traceback (most recent call last)",
      "Cell \u001b[0;32mIn[5], line 9\u001b[0m\n\u001b[1;32m      6\u001b[0m \u001b[39mprint\u001b[39m(\u001b[39mf\u001b[39m\u001b[39m\"\u001b[39m\u001b[39mT가 \u001b[39m\u001b[39m{\u001b[39;00mT\u001b[39m}\u001b[39;00m\u001b[39m일때의 28x\u001b[39m\u001b[39m{\u001b[39;00mt\u001b[39m}\u001b[39;00m\u001b[39m to 28x\u001b[39m\u001b[39m{\u001b[39;00ms\u001b[39m}\u001b[39;00m\u001b[39m distillation 결과 값\u001b[39m\u001b[39m\"\u001b[39m)\n\u001b[1;32m      7\u001b[0m \u001b[39mfor\u001b[39;00m seed \u001b[39min\u001b[39;00m [\u001b[39m10\u001b[39m, \u001b[39m100\u001b[39m, \u001b[39m777\u001b[39m] :\n\u001b[1;32m      8\u001b[0m     \u001b[39m# 학습에 사용할 모델 생성\u001b[39;00m\n\u001b[0;32m----> 9\u001b[0m     teacher \u001b[39m=\u001b[39m Wide_ResNet(\u001b[39m28\u001b[39m, t, \u001b[39m0.3\u001b[39m, \u001b[39m10\u001b[39m)\u001b[39m.\u001b[39mto(device)\n\u001b[1;32m     10\u001b[0m     checkpoint_path \u001b[39m=\u001b[39m \u001b[39mf\u001b[39m\u001b[39m\"\u001b[39m\u001b[39m./1.Wide_ResNet_model/saved_model/WR_28x\u001b[39m\u001b[39m{\u001b[39;00mt\u001b[39m}\u001b[39;00m\u001b[39m_cifar10.pth\u001b[39m\u001b[39m\"\u001b[39m\n\u001b[1;32m     11\u001b[0m     checkpoint \u001b[39m=\u001b[39m torch\u001b[39m.\u001b[39mload(checkpoint_path)\n",
      "\u001b[0;31mNameError\u001b[0m: name 'device' is not defined"
     ]
    }
   ],
   "source": [
    "## 28x10 to 28x4\n",
    "t = 10\n",
    "s = 4\n",
    "\n",
    "for T in [4,10,20]:\n",
    "    print(f\"T가 {T}일때의 28x{t} to 28x{s} distillation 결과 값\")\n",
    "    for seed in [10, 100, 777] :\n",
    "        # 학습에 사용할 모델 생성\n",
    "        teacher = Wide_ResNet(28, t, 0.3, 10).to(device)\n",
    "        checkpoint_path = f\"./1.Wide_ResNet_model/saved_model/WR_28x{t}_cifar10.pth\"\n",
    "        checkpoint = torch.load(checkpoint_path)\n",
    "        teacher.load_state_dict(checkpoint['state_dict'])\n",
    "\n",
    "        student = Wide_ResNet(28, s, 0.3, 10).to(device)\n",
    "\n",
    "        # 모델 평가\n",
    "        checkpoint_path = f\"./2.Knowledge_Distillation/save_seed{seed}_CIFAR10/KD_{t}to{s}_T={T}.pth\"\n",
    "        checkpoint = torch.load(checkpoint_path)\n",
    "        student.load_state_dict(checkpoint['state_dict'])\n",
    "        test_model(student)"
   ]
  },
  {
   "attachments": {},
   "cell_type": "markdown",
   "metadata": {},
   "source": [
    "### 1.3. Node Sparse Modeling"
   ]
  },
  {
   "cell_type": "code",
   "execution_count": 20,
   "metadata": {},
   "outputs": [],
   "source": [
    "device = torch.device(\"cuda:1\" if torch.cuda.is_available() else \"cpu\")\n"
   ]
  },
  {
   "cell_type": "code",
   "execution_count": 18,
   "metadata": {},
   "outputs": [
    {
     "name": "stdout",
     "output_type": "stream",
     "text": [
      "seed10에서의 결과값 시작\n",
      "| Wide-Resnet 28x2\n"
     ]
    },
    {
     "ename": "FileNotFoundError",
     "evalue": "[Errno 2] No such file or directory: './practice_CIFAR10/28x2_multistepLR_lr0.02_seed10.pth'",
     "output_type": "error",
     "traceback": [
      "\u001b[0;31m---------------------------------------------------------------------------\u001b[0m",
      "\u001b[0;31mFileNotFoundError\u001b[0m                         Traceback (most recent call last)",
      "Cell \u001b[0;32mIn[18], line 10\u001b[0m\n\u001b[1;32m      8\u001b[0m \u001b[39m## test\u001b[39;00m\n\u001b[1;32m      9\u001b[0m checkpoint_path \u001b[39m=\u001b[39m \u001b[39mf\u001b[39m\u001b[39m\"\u001b[39m\u001b[39m./practice_CIFAR10/28x\u001b[39m\u001b[39m{\u001b[39;00mbasic\u001b[39m}\u001b[39;00m\u001b[39m_multistepLR_lr\u001b[39m\u001b[39m{\u001b[39;00mlr\u001b[39m}\u001b[39;00m\u001b[39m_seed\u001b[39m\u001b[39m{\u001b[39;00mseed\u001b[39m}\u001b[39;00m\u001b[39m.pth\u001b[39m\u001b[39m\"\u001b[39m\n\u001b[0;32m---> 10\u001b[0m checkpoint \u001b[39m=\u001b[39m torch\u001b[39m.\u001b[39;49mload(checkpoint_path)\n\u001b[1;32m     11\u001b[0m model\u001b[39m.\u001b[39mload_state_dict(checkpoint[\u001b[39m'\u001b[39m\u001b[39mstate_dict\u001b[39m\u001b[39m'\u001b[39m])\n\u001b[1;32m     12\u001b[0m test_model(model)   \n",
      "File \u001b[0;32m/usr/local/miniconda3/envs/nine/lib/python3.9/site-packages/torch/serialization.py:791\u001b[0m, in \u001b[0;36mload\u001b[0;34m(f, map_location, pickle_module, weights_only, **pickle_load_args)\u001b[0m\n\u001b[1;32m    788\u001b[0m \u001b[39mif\u001b[39;00m \u001b[39m'\u001b[39m\u001b[39mencoding\u001b[39m\u001b[39m'\u001b[39m \u001b[39mnot\u001b[39;00m \u001b[39min\u001b[39;00m pickle_load_args\u001b[39m.\u001b[39mkeys():\n\u001b[1;32m    789\u001b[0m     pickle_load_args[\u001b[39m'\u001b[39m\u001b[39mencoding\u001b[39m\u001b[39m'\u001b[39m] \u001b[39m=\u001b[39m \u001b[39m'\u001b[39m\u001b[39mutf-8\u001b[39m\u001b[39m'\u001b[39m\n\u001b[0;32m--> 791\u001b[0m \u001b[39mwith\u001b[39;00m _open_file_like(f, \u001b[39m'\u001b[39;49m\u001b[39mrb\u001b[39;49m\u001b[39m'\u001b[39;49m) \u001b[39mas\u001b[39;00m opened_file:\n\u001b[1;32m    792\u001b[0m     \u001b[39mif\u001b[39;00m _is_zipfile(opened_file):\n\u001b[1;32m    793\u001b[0m         \u001b[39m# The zipfile reader is going to advance the current file position.\u001b[39;00m\n\u001b[1;32m    794\u001b[0m         \u001b[39m# If we want to actually tail call to torch.jit.load, we need to\u001b[39;00m\n\u001b[1;32m    795\u001b[0m         \u001b[39m# reset back to the original position.\u001b[39;00m\n\u001b[1;32m    796\u001b[0m         orig_position \u001b[39m=\u001b[39m opened_file\u001b[39m.\u001b[39mtell()\n",
      "File \u001b[0;32m/usr/local/miniconda3/envs/nine/lib/python3.9/site-packages/torch/serialization.py:271\u001b[0m, in \u001b[0;36m_open_file_like\u001b[0;34m(name_or_buffer, mode)\u001b[0m\n\u001b[1;32m    269\u001b[0m \u001b[39mdef\u001b[39;00m \u001b[39m_open_file_like\u001b[39m(name_or_buffer, mode):\n\u001b[1;32m    270\u001b[0m     \u001b[39mif\u001b[39;00m _is_path(name_or_buffer):\n\u001b[0;32m--> 271\u001b[0m         \u001b[39mreturn\u001b[39;00m _open_file(name_or_buffer, mode)\n\u001b[1;32m    272\u001b[0m     \u001b[39melse\u001b[39;00m:\n\u001b[1;32m    273\u001b[0m         \u001b[39mif\u001b[39;00m \u001b[39m'\u001b[39m\u001b[39mw\u001b[39m\u001b[39m'\u001b[39m \u001b[39min\u001b[39;00m mode:\n",
      "File \u001b[0;32m/usr/local/miniconda3/envs/nine/lib/python3.9/site-packages/torch/serialization.py:252\u001b[0m, in \u001b[0;36m_open_file.__init__\u001b[0;34m(self, name, mode)\u001b[0m\n\u001b[1;32m    251\u001b[0m \u001b[39mdef\u001b[39;00m \u001b[39m__init__\u001b[39m(\u001b[39mself\u001b[39m, name, mode):\n\u001b[0;32m--> 252\u001b[0m     \u001b[39msuper\u001b[39m()\u001b[39m.\u001b[39m\u001b[39m__init__\u001b[39m(\u001b[39mopen\u001b[39;49m(name, mode))\n",
      "\u001b[0;31mFileNotFoundError\u001b[0m: [Errno 2] No such file or directory: './practice_CIFAR10/28x2_multistepLR_lr0.02_seed10.pth'"
     ]
    }
   ],
   "source": [
    "## 28x2 with 0.5\n",
    "basic = 2\n",
    "\n",
    "for seed in [10, 100, 777] :\n",
    "    print(f'seed{seed}에서의 결과값 시작')\n",
    "    lr = 0.02\n",
    "    model = Wide_ResNet(28, basic, 0.3, 10).to(device)\n",
    "    ## test\n",
    "    checkpoint_path = f\"./practice_CIFAR10/28x{basic}_multistepLR_lr{lr}_seed{seed}.pth\"\n",
    "    checkpoint = torch.load(checkpoint_path)\n",
    "    model.load_state_dict(checkpoint['state_dict'])\n",
    "    test_model(model)   \n",
    "        \n",
    "    model = Wide_ResNet(28, basic, 0.3, 10).to(device)\n",
    "    ## test\n",
    "    checkpoint_path = f\"./save_seed{seed}_CIFAR10/28x{basic}_cosine_lr{lr}.pth\"\n",
    "    checkpoint = torch.load(checkpoint_path)\n",
    "    model.load_state_dict(checkpoint['state_dict'])\n",
    "    test_model(model)  "
   ]
  },
  {
   "cell_type": "code",
   "execution_count": 25,
   "metadata": {},
   "outputs": [
    {
     "data": {
      "text/plain": [
       "'/home/yeonho/final_saved_model'"
      ]
     },
     "execution_count": 25,
     "metadata": {},
     "output_type": "execute_result"
    }
   ],
   "source": [
    "os.getcwd()"
   ]
  },
  {
   "cell_type": "code",
   "execution_count": 26,
   "metadata": {},
   "outputs": [
    {
     "name": "stdout",
     "output_type": "stream",
     "text": [
      "seed10에서의 결과값 시작\n",
      "| Wide-Resnet 28x4\n",
      "Total examples is 10000, correct examples is 9407; Test accuracy: 0.9407\n",
      "seed100에서의 결과값 시작\n",
      "| Wide-Resnet 28x4\n",
      "Total examples is 10000, correct examples is 9418; Test accuracy: 0.9418\n",
      "seed777에서의 결과값 시작\n",
      "| Wide-Resnet 28x4\n"
     ]
    },
    {
     "ename": "FileNotFoundError",
     "evalue": "[Errno 2] No such file or directory: './3.node_sparse(fine tuning)/save_CIFAR10/28x4_multistepLR_lr0.02_seed777.pth'",
     "output_type": "error",
     "traceback": [
      "\u001b[0;31m---------------------------------------------------------------------------\u001b[0m",
      "\u001b[0;31mFileNotFoundError\u001b[0m                         Traceback (most recent call last)",
      "Cell \u001b[0;32mIn[26], line 10\u001b[0m\n\u001b[1;32m      8\u001b[0m \u001b[39m## test\u001b[39;00m\n\u001b[1;32m      9\u001b[0m checkpoint_path \u001b[39m=\u001b[39m \u001b[39mf\u001b[39m\u001b[39m\"\u001b[39m\u001b[39m./3.node_sparse(fine tuning)/save_CIFAR10/28x\u001b[39m\u001b[39m{\u001b[39;00mbasic\u001b[39m}\u001b[39;00m\u001b[39m_multistepLR_lr\u001b[39m\u001b[39m{\u001b[39;00mlr\u001b[39m}\u001b[39;00m\u001b[39m_seed\u001b[39m\u001b[39m{\u001b[39;00mseed\u001b[39m}\u001b[39;00m\u001b[39m.pth\u001b[39m\u001b[39m\"\u001b[39m\n\u001b[0;32m---> 10\u001b[0m checkpoint \u001b[39m=\u001b[39m torch\u001b[39m.\u001b[39;49mload(checkpoint_path)\n\u001b[1;32m     11\u001b[0m model\u001b[39m.\u001b[39mload_state_dict(checkpoint[\u001b[39m'\u001b[39m\u001b[39mstate_dict\u001b[39m\u001b[39m'\u001b[39m])\n\u001b[1;32m     12\u001b[0m test_model(model)\n",
      "File \u001b[0;32m/usr/local/miniconda3/envs/nine/lib/python3.9/site-packages/torch/serialization.py:791\u001b[0m, in \u001b[0;36mload\u001b[0;34m(f, map_location, pickle_module, weights_only, **pickle_load_args)\u001b[0m\n\u001b[1;32m    788\u001b[0m \u001b[39mif\u001b[39;00m \u001b[39m'\u001b[39m\u001b[39mencoding\u001b[39m\u001b[39m'\u001b[39m \u001b[39mnot\u001b[39;00m \u001b[39min\u001b[39;00m pickle_load_args\u001b[39m.\u001b[39mkeys():\n\u001b[1;32m    789\u001b[0m     pickle_load_args[\u001b[39m'\u001b[39m\u001b[39mencoding\u001b[39m\u001b[39m'\u001b[39m] \u001b[39m=\u001b[39m \u001b[39m'\u001b[39m\u001b[39mutf-8\u001b[39m\u001b[39m'\u001b[39m\n\u001b[0;32m--> 791\u001b[0m \u001b[39mwith\u001b[39;00m _open_file_like(f, \u001b[39m'\u001b[39;49m\u001b[39mrb\u001b[39;49m\u001b[39m'\u001b[39;49m) \u001b[39mas\u001b[39;00m opened_file:\n\u001b[1;32m    792\u001b[0m     \u001b[39mif\u001b[39;00m _is_zipfile(opened_file):\n\u001b[1;32m    793\u001b[0m         \u001b[39m# The zipfile reader is going to advance the current file position.\u001b[39;00m\n\u001b[1;32m    794\u001b[0m         \u001b[39m# If we want to actually tail call to torch.jit.load, we need to\u001b[39;00m\n\u001b[1;32m    795\u001b[0m         \u001b[39m# reset back to the original position.\u001b[39;00m\n\u001b[1;32m    796\u001b[0m         orig_position \u001b[39m=\u001b[39m opened_file\u001b[39m.\u001b[39mtell()\n",
      "File \u001b[0;32m/usr/local/miniconda3/envs/nine/lib/python3.9/site-packages/torch/serialization.py:271\u001b[0m, in \u001b[0;36m_open_file_like\u001b[0;34m(name_or_buffer, mode)\u001b[0m\n\u001b[1;32m    269\u001b[0m \u001b[39mdef\u001b[39;00m \u001b[39m_open_file_like\u001b[39m(name_or_buffer, mode):\n\u001b[1;32m    270\u001b[0m     \u001b[39mif\u001b[39;00m _is_path(name_or_buffer):\n\u001b[0;32m--> 271\u001b[0m         \u001b[39mreturn\u001b[39;00m _open_file(name_or_buffer, mode)\n\u001b[1;32m    272\u001b[0m     \u001b[39melse\u001b[39;00m:\n\u001b[1;32m    273\u001b[0m         \u001b[39mif\u001b[39;00m \u001b[39m'\u001b[39m\u001b[39mw\u001b[39m\u001b[39m'\u001b[39m \u001b[39min\u001b[39;00m mode:\n",
      "File \u001b[0;32m/usr/local/miniconda3/envs/nine/lib/python3.9/site-packages/torch/serialization.py:252\u001b[0m, in \u001b[0;36m_open_file.__init__\u001b[0;34m(self, name, mode)\u001b[0m\n\u001b[1;32m    251\u001b[0m \u001b[39mdef\u001b[39;00m \u001b[39m__init__\u001b[39m(\u001b[39mself\u001b[39m, name, mode):\n\u001b[0;32m--> 252\u001b[0m     \u001b[39msuper\u001b[39m()\u001b[39m.\u001b[39m\u001b[39m__init__\u001b[39m(\u001b[39mopen\u001b[39;49m(name, mode))\n",
      "\u001b[0;31mFileNotFoundError\u001b[0m: [Errno 2] No such file or directory: './3.node_sparse(fine tuning)/save_CIFAR10/28x4_multistepLR_lr0.02_seed777.pth'"
     ]
    }
   ],
   "source": [
    "## 28x2 with 0.5\n",
    "basic = 4\n",
    "\n",
    "for seed in [10, 100, 777] :\n",
    "    print(f'seed{seed}에서의 결과값 시작')\n",
    "    lr = 0.02\n",
    "    model = Wide_ResNet(28, basic, 0.3, 10).to(device)\n",
    "    ## test\n",
    "    checkpoint_path = f\"./3.node_sparse(fine tuning)/save_CIFAR10/28x{basic}_multistepLR_lr{lr}_seed{seed}.pth\"\n",
    "    checkpoint = torch.load(checkpoint_path)\n",
    "    model.load_state_dict(checkpoint['state_dict'])\n",
    "    test_model(model)   \n",
    "        \n",
    "    # model = Wide_ResNet(28, basic, 0.3, 10).to(device)\n",
    "    # ## test\n",
    "    # checkpoint_path = f\"./save_seed{seed}_CIFAR10/28x{basic}_cosine_lr{lr}.pth\"\n",
    "    # checkpoint = torch.load(checkpoint_path)\n",
    "    # model.load_state_dict(checkpoint['state_dict'])\n",
    "    # test_model(model)  "
   ]
  },
  {
   "cell_type": "code",
   "execution_count": 22,
   "metadata": {},
   "outputs": [
    {
     "name": "stdout",
     "output_type": "stream",
     "text": [
      "seed10에서의 결과값 시작\n",
      "| Wide-Resnet 28x10\n"
     ]
    },
    {
     "ename": "FileNotFoundError",
     "evalue": "[Errno 2] No such file or directory: './save_seed10_CIFAR10/28x10_0.6_multistepLR_lr0.004.pth'",
     "output_type": "error",
     "traceback": [
      "\u001b[0;31m---------------------------------------------------------------------------\u001b[0m",
      "\u001b[0;31mFileNotFoundError\u001b[0m                         Traceback (most recent call last)",
      "Cell \u001b[0;32mIn[22], line 10\u001b[0m\n\u001b[1;32m      8\u001b[0m \u001b[39m## test\u001b[39;00m\n\u001b[1;32m      9\u001b[0m checkpoint_path \u001b[39m=\u001b[39m \u001b[39mf\u001b[39m\u001b[39m\"\u001b[39m\u001b[39m./save_seed\u001b[39m\u001b[39m{\u001b[39;00mseed\u001b[39m}\u001b[39;00m\u001b[39m_CIFAR10/28x\u001b[39m\u001b[39m{\u001b[39;00mbasic\u001b[39m}\u001b[39;00m\u001b[39m_0.6_multistepLR_lr\u001b[39m\u001b[39m{\u001b[39;00mlr\u001b[39m}\u001b[39;00m\u001b[39m.pth\u001b[39m\u001b[39m\"\u001b[39m\n\u001b[0;32m---> 10\u001b[0m checkpoint \u001b[39m=\u001b[39m torch\u001b[39m.\u001b[39;49mload(checkpoint_path)\n\u001b[1;32m     11\u001b[0m model\u001b[39m.\u001b[39mload_state_dict(checkpoint[\u001b[39m'\u001b[39m\u001b[39mstate_dict\u001b[39m\u001b[39m'\u001b[39m])\n\u001b[1;32m     12\u001b[0m test_model(model)   \n",
      "File \u001b[0;32m/usr/local/miniconda3/envs/nine/lib/python3.9/site-packages/torch/serialization.py:791\u001b[0m, in \u001b[0;36mload\u001b[0;34m(f, map_location, pickle_module, weights_only, **pickle_load_args)\u001b[0m\n\u001b[1;32m    788\u001b[0m \u001b[39mif\u001b[39;00m \u001b[39m'\u001b[39m\u001b[39mencoding\u001b[39m\u001b[39m'\u001b[39m \u001b[39mnot\u001b[39;00m \u001b[39min\u001b[39;00m pickle_load_args\u001b[39m.\u001b[39mkeys():\n\u001b[1;32m    789\u001b[0m     pickle_load_args[\u001b[39m'\u001b[39m\u001b[39mencoding\u001b[39m\u001b[39m'\u001b[39m] \u001b[39m=\u001b[39m \u001b[39m'\u001b[39m\u001b[39mutf-8\u001b[39m\u001b[39m'\u001b[39m\n\u001b[0;32m--> 791\u001b[0m \u001b[39mwith\u001b[39;00m _open_file_like(f, \u001b[39m'\u001b[39;49m\u001b[39mrb\u001b[39;49m\u001b[39m'\u001b[39;49m) \u001b[39mas\u001b[39;00m opened_file:\n\u001b[1;32m    792\u001b[0m     \u001b[39mif\u001b[39;00m _is_zipfile(opened_file):\n\u001b[1;32m    793\u001b[0m         \u001b[39m# The zipfile reader is going to advance the current file position.\u001b[39;00m\n\u001b[1;32m    794\u001b[0m         \u001b[39m# If we want to actually tail call to torch.jit.load, we need to\u001b[39;00m\n\u001b[1;32m    795\u001b[0m         \u001b[39m# reset back to the original position.\u001b[39;00m\n\u001b[1;32m    796\u001b[0m         orig_position \u001b[39m=\u001b[39m opened_file\u001b[39m.\u001b[39mtell()\n",
      "File \u001b[0;32m/usr/local/miniconda3/envs/nine/lib/python3.9/site-packages/torch/serialization.py:271\u001b[0m, in \u001b[0;36m_open_file_like\u001b[0;34m(name_or_buffer, mode)\u001b[0m\n\u001b[1;32m    269\u001b[0m \u001b[39mdef\u001b[39;00m \u001b[39m_open_file_like\u001b[39m(name_or_buffer, mode):\n\u001b[1;32m    270\u001b[0m     \u001b[39mif\u001b[39;00m _is_path(name_or_buffer):\n\u001b[0;32m--> 271\u001b[0m         \u001b[39mreturn\u001b[39;00m _open_file(name_or_buffer, mode)\n\u001b[1;32m    272\u001b[0m     \u001b[39melse\u001b[39;00m:\n\u001b[1;32m    273\u001b[0m         \u001b[39mif\u001b[39;00m \u001b[39m'\u001b[39m\u001b[39mw\u001b[39m\u001b[39m'\u001b[39m \u001b[39min\u001b[39;00m mode:\n",
      "File \u001b[0;32m/usr/local/miniconda3/envs/nine/lib/python3.9/site-packages/torch/serialization.py:252\u001b[0m, in \u001b[0;36m_open_file.__init__\u001b[0;34m(self, name, mode)\u001b[0m\n\u001b[1;32m    251\u001b[0m \u001b[39mdef\u001b[39;00m \u001b[39m__init__\u001b[39m(\u001b[39mself\u001b[39m, name, mode):\n\u001b[0;32m--> 252\u001b[0m     \u001b[39msuper\u001b[39m()\u001b[39m.\u001b[39m\u001b[39m__init__\u001b[39m(\u001b[39mopen\u001b[39;49m(name, mode))\n",
      "\u001b[0;31mFileNotFoundError\u001b[0m: [Errno 2] No such file or directory: './save_seed10_CIFAR10/28x10_0.6_multistepLR_lr0.004.pth'"
     ]
    }
   ],
   "source": [
    "## 28x10 with 0.6\n",
    "basic = 10\n",
    "\n",
    "for seed in [10, 100, 777] :\n",
    "    print(f'seed{seed}에서의 결과값 시작')\n",
    "    for lr in [0.004, 0.02]:\n",
    "        model = Wide_ResNet(28, basic, 0.3, 10).to(device)\n",
    "        ## test\n",
    "        checkpoint_path = f\"./save_seed{seed}_CIFAR10/28x{basic}_0.6_multistepLR_lr{lr}.pth\"\n",
    "        checkpoint = torch.load(checkpoint_path)\n",
    "        model.load_state_dict(checkpoint['state_dict'])\n",
    "        test_model(model)   \n",
    "        \n",
    "    for lr in [0.004, 0.02]:\n",
    "        model = Wide_ResNet(28, basic, 0.3, 10).to(device)\n",
    "        ## test\n",
    "        checkpoint_path = f\"./save_seed{seed}_CIFAR10/28x{basic}_0.6_cosine_lr{lr}.pth\"\n",
    "        checkpoint = torch.load(checkpoint_path)\n",
    "        model.load_state_dict(checkpoint['state_dict'])\n",
    "        test_model(model)  "
   ]
  },
  {
   "cell_type": "code",
   "execution_count": null,
   "metadata": {},
   "outputs": [
    {
     "name": "stdout",
     "output_type": "stream",
     "text": [
      "seed10에서의 결과값 시작\n",
      "| Wide-Resnet 28x10\n",
      "Total examples is 10000, correct examples is 9500; Test accuracy: 0.95\n",
      "| Wide-Resnet 28x10\n",
      "Total examples is 10000, correct examples is 9535; Test accuracy: 0.9535\n",
      "| Wide-Resnet 28x10\n",
      "Total examples is 10000, correct examples is 9533; Test accuracy: 0.9533\n",
      "| Wide-Resnet 28x10\n",
      "Total examples is 10000, correct examples is 9551; Test accuracy: 0.9551\n",
      "seed100에서의 결과값 시작\n",
      "| Wide-Resnet 28x10\n",
      "Total examples is 10000, correct examples is 9515; Test accuracy: 0.9515\n",
      "| Wide-Resnet 28x10\n",
      "Total examples is 10000, correct examples is 9564; Test accuracy: 0.9564\n",
      "| Wide-Resnet 28x10\n",
      "Total examples is 10000, correct examples is 9561; Test accuracy: 0.9561\n",
      "| Wide-Resnet 28x10\n",
      "Total examples is 10000, correct examples is 9559; Test accuracy: 0.9559\n",
      "seed777에서의 결과값 시작\n",
      "| Wide-Resnet 28x10\n",
      "Total examples is 10000, correct examples is 9536; Test accuracy: 0.9536\n",
      "| Wide-Resnet 28x10\n",
      "Total examples is 10000, correct examples is 9523; Test accuracy: 0.9523\n",
      "| Wide-Resnet 28x10\n",
      "Total examples is 10000, correct examples is 9545; Test accuracy: 0.9545\n",
      "| Wide-Resnet 28x10\n",
      "Total examples is 10000, correct examples is 9489; Test accuracy: 0.9489\n"
     ]
    }
   ],
   "source": [
    "## 28x10 with 0.8\n",
    "basic = 10\n",
    "\n",
    "for seed in [10, 100, 777] :\n",
    "    print(f'seed{seed}에서의 결과값 시작')\n",
    "    for lr in [0.004, 0.02]:\n",
    "        model = Wide_ResNet(28, basic, 0.3, 10).to(device)\n",
    "        ## test\n",
    "        checkpoint_path = f\"./save_seed{seed}_CIFAR10/28x{basic}_0.8_multistepLR_lr{lr}.pth\"\n",
    "        checkpoint = torch.load(checkpoint_path)\n",
    "        model.load_state_dict(checkpoint['state_dict'])\n",
    "        test_model(model)   \n",
    "        \n",
    "    for lr in [0.004, 0.02]:\n",
    "        model = Wide_ResNet(28, basic, 0.3, 10).to(device)\n",
    "        ## test\n",
    "        checkpoint_path = f\"./save_seed{seed}_CIFAR10/28x{basic}_0.8_cosine_lr{lr}.pth\"\n",
    "        checkpoint = torch.load(checkpoint_path)\n",
    "        model.load_state_dict(checkpoint['state_dict'])\n",
    "        test_model(model)  "
   ]
  },
  {
   "attachments": {},
   "cell_type": "markdown",
   "metadata": {},
   "source": [
    "## 2. CIFAR100"
   ]
  },
  {
   "cell_type": "code",
   "execution_count": null,
   "metadata": {},
   "outputs": [
    {
     "name": "stdout",
     "output_type": "stream",
     "text": [
      "Files already downloaded and verified\n",
      "Files already downloaded and verified\n"
     ]
    }
   ],
   "source": [
    "#CIFAR 100 : Data 다운로드 경로지정\n",
    "batch_size = 128\n",
    "\n",
    "#Data Process\n",
    "transform_train = transforms.Compose([transforms.RandomCrop(32, padding=4),transforms.RandomHorizontalFlip(),\n",
    "                                      transforms.ToTensor(),transforms.Normalize((0.4914, 0.4822, 0.4465), (0.2023, 0.1994, 0.2010))]) \n",
    "\n",
    "transform_val = transforms.Compose([transforms.ToTensor(), transforms.Normalize((0.4914, 0.4822, 0.4465), (0.2023, 0.1994, 0.2010))]) \n",
    "\n",
    "transform_test = transforms.Compose([transforms.ToTensor(),transforms.Normalize((0.4914, 0.4822, 0.4465), (0.2023, 0.1994, 0.2010))]) \n",
    "\n",
    "train_CIFAR100 = torchvision.datasets.CIFAR100(root='../data', train=True, download=True, transform=transform_train)\n",
    "\n",
    "test_CIFAR100 = torchvision.datasets.CIFAR100(root='../data', train=False, download=True, transform=transform_test)\n",
    "\n",
    "num_train = int(1.0 * len(train_CIFAR100) * 95 / 100)\n",
    "num_val = len(train_CIFAR100) - num_train\n",
    "train_CIFAR100, val_CIFAR100 = torch.utils.data.random_split(train_CIFAR100, [num_train, num_val])\n",
    "\n",
    "train_loader = torch.utils.data.DataLoader(train_CIFAR100, batch_size=batch_size, shuffle=True, num_workers=2) #num_workers는 데이터 로드시 sub process 몇개 쓸거냐 \n",
    "val_loader = torch.utils.data.DataLoader(val_CIFAR100, batch_size=batch_size,shuffle=True, num_workers=2)\n",
    "test_loader = torch.utils.data.DataLoader(test_CIFAR100, batch_size=batch_size, shuffle=True, num_workers=2)"
   ]
  },
  {
   "attachments": {},
   "cell_type": "markdown",
   "metadata": {},
   "source": [
    "### 1-1. Wide Resnet"
   ]
  },
  {
   "cell_type": "code",
   "execution_count": null,
   "metadata": {},
   "outputs": [
    {
     "name": "stdout",
     "output_type": "stream",
     "text": [
      "| Wide-Resnet 28x1\n"
     ]
    },
    {
     "ename": "NameError",
     "evalue": "name 'device' is not defined",
     "output_type": "error",
     "traceback": [
      "\u001b[0;31m---------------------------------------------------------------------------\u001b[0m",
      "\u001b[0;31mNameError\u001b[0m                                 Traceback (most recent call last)",
      "Cell \u001b[0;32mIn[10], line 3\u001b[0m\n\u001b[1;32m      1\u001b[0m \u001b[39m#wide_resnet 28xn의 결과값\u001b[39;00m\n\u001b[1;32m      2\u001b[0m \u001b[39mfor\u001b[39;00m i \u001b[39min\u001b[39;00m [\u001b[39m1\u001b[39m,\u001b[39m2\u001b[39m,\u001b[39m4\u001b[39m,\u001b[39m10\u001b[39m] :\n\u001b[0;32m----> 3\u001b[0m     model \u001b[39m=\u001b[39m Wide_ResNet(\u001b[39m28\u001b[39m, i, \u001b[39m0.3\u001b[39m, \u001b[39m100\u001b[39m)\u001b[39m.\u001b[39mto(device)\n\u001b[1;32m      4\u001b[0m     checkpoint \u001b[39m=\u001b[39m torch\u001b[39m.\u001b[39mload(\u001b[39mf\u001b[39m\u001b[39m\"\u001b[39m\u001b[39m./1.Wide_ResNet_model/saved_model/WR_28x\u001b[39m\u001b[39m{\u001b[39;00mi\u001b[39m}\u001b[39;00m\u001b[39m_cifar100.pth\u001b[39m\u001b[39m\"\u001b[39m)\n\u001b[1;32m      5\u001b[0m     model\u001b[39m.\u001b[39mload_state_dict(checkpoint[\u001b[39m'\u001b[39m\u001b[39mstate_dict\u001b[39m\u001b[39m'\u001b[39m])\n",
      "\u001b[0;31mNameError\u001b[0m: name 'device' is not defined"
     ]
    }
   ],
   "source": [
    "#wide_resnet 28xn의 결과값\n",
    "for i in [1,2,4,10] :\n",
    "    model = Wide_ResNet(28, i, 0.3, 100).to(device)\n",
    "    checkpoint = torch.load(f\"./1.Wide_ResNet_model/saved_model/WR_28x{i}_cifar100.pth\")\n",
    "    model.load_state_dict(checkpoint['state_dict'])\n",
    "    test_model(model)"
   ]
  },
  {
   "attachments": {},
   "cell_type": "markdown",
   "metadata": {},
   "source": [
    "### 1-2. Knowledge distillation"
   ]
  },
  {
   "cell_type": "code",
   "execution_count": null,
   "metadata": {},
   "outputs": [
    {
     "name": "stdout",
     "output_type": "stream",
     "text": [
      "T가 4일때의 28x2 to 28x1 distillation 결과 값\n",
      "| Wide-Resnet 28x2\n",
      "| Wide-Resnet 28x1\n",
      "Total examples is 10000, correct examples is 7135; Test accuracy: 0.7135\n",
      "| Wide-Resnet 28x2\n",
      "| Wide-Resnet 28x1\n",
      "Total examples is 10000, correct examples is 7083; Test accuracy: 0.7083\n",
      "| Wide-Resnet 28x2\n",
      "| Wide-Resnet 28x1\n",
      "Total examples is 10000, correct examples is 7103; Test accuracy: 0.7103\n",
      "T가 10일때의 28x2 to 28x1 distillation 결과 값\n",
      "| Wide-Resnet 28x2\n",
      "| Wide-Resnet 28x1\n",
      "Total examples is 10000, correct examples is 7162; Test accuracy: 0.7162\n",
      "| Wide-Resnet 28x2\n",
      "| Wide-Resnet 28x1\n",
      "Total examples is 10000, correct examples is 7148; Test accuracy: 0.7148\n",
      "| Wide-Resnet 28x2\n",
      "| Wide-Resnet 28x1\n",
      "Total examples is 10000, correct examples is 7144; Test accuracy: 0.7144\n",
      "T가 20일때의 28x2 to 28x1 distillation 결과 값\n",
      "| Wide-Resnet 28x2\n",
      "| Wide-Resnet 28x1\n",
      "Total examples is 10000, correct examples is 7185; Test accuracy: 0.7185\n",
      "| Wide-Resnet 28x2\n",
      "| Wide-Resnet 28x1\n",
      "Total examples is 10000, correct examples is 7189; Test accuracy: 0.7189\n",
      "| Wide-Resnet 28x2\n",
      "| Wide-Resnet 28x1\n",
      "Total examples is 10000, correct examples is 7118; Test accuracy: 0.7118\n"
     ]
    }
   ],
   "source": [
    "## 28x2 to 28x1\n",
    "t = 2\n",
    "s = 1 \n",
    "\n",
    "for T in [4,10,20]:\n",
    "    print(f\"T가 {T}일때의 28x{t} to 28x{s} distillation 결과 값\")\n",
    "    for seed in [10, 100, 777] :\n",
    "        # 학습에 사용할 모델 생성\n",
    "        teacher = Wide_ResNet(28, t, 0.3, 100).to(device)\n",
    "        checkpoint_path = f\"./1.Wide_ResNet_model/saved_model/WR_28x{t}_cifar100.pth\"\n",
    "        checkpoint = torch.load(checkpoint_path)\n",
    "        teacher.load_state_dict(checkpoint['state_dict'])\n",
    "\n",
    "        student = Wide_ResNet(28, s, 0.3, 100).to(device)\n",
    "\n",
    "        # 모델 평가\n",
    "        checkpoint_path = f\"./2.Knowledge_Distillation/save_seed{seed}_CIFAR100/KD_{t}to{s}_T={T}.pth\"\n",
    "        checkpoint = torch.load(checkpoint_path)\n",
    "        student.load_state_dict(checkpoint['state_dict'])\n",
    "        test_model(student)"
   ]
  },
  {
   "cell_type": "code",
   "execution_count": null,
   "metadata": {},
   "outputs": [
    {
     "name": "stdout",
     "output_type": "stream",
     "text": [
      "T가 4일때의 28x4 to 28x2 distillation 결과 값\n"
     ]
    },
    {
     "ename": "NameError",
     "evalue": "name 'Wide_ResNet' is not defined",
     "output_type": "error",
     "traceback": [
      "\u001b[0;31m---------------------------------------------------------------------------\u001b[0m",
      "\u001b[0;31mNameError\u001b[0m                                 Traceback (most recent call last)",
      "Cell \u001b[0;32mIn[1], line 9\u001b[0m\n\u001b[1;32m      6\u001b[0m \u001b[39mprint\u001b[39m(\u001b[39mf\u001b[39m\u001b[39m\"\u001b[39m\u001b[39mT가 \u001b[39m\u001b[39m{\u001b[39;00mT\u001b[39m}\u001b[39;00m\u001b[39m일때의 28x\u001b[39m\u001b[39m{\u001b[39;00mt\u001b[39m}\u001b[39;00m\u001b[39m to 28x\u001b[39m\u001b[39m{\u001b[39;00ms\u001b[39m}\u001b[39;00m\u001b[39m distillation 결과 값\u001b[39m\u001b[39m\"\u001b[39m)\n\u001b[1;32m      7\u001b[0m \u001b[39mfor\u001b[39;00m seed \u001b[39min\u001b[39;00m [\u001b[39m10\u001b[39m, \u001b[39m100\u001b[39m, \u001b[39m777\u001b[39m] :\n\u001b[1;32m      8\u001b[0m     \u001b[39m# 학습에 사용할 모델 생성\u001b[39;00m\n\u001b[0;32m----> 9\u001b[0m     teacher \u001b[39m=\u001b[39m Wide_ResNet(\u001b[39m28\u001b[39m, t, \u001b[39m0.3\u001b[39m, \u001b[39m100\u001b[39m)\u001b[39m.\u001b[39mto(device)\n\u001b[1;32m     10\u001b[0m     checkpoint_path \u001b[39m=\u001b[39m \u001b[39mf\u001b[39m\u001b[39m\"\u001b[39m\u001b[39m./1.Wide_ResNet_model/saved_model/WR_28x\u001b[39m\u001b[39m{\u001b[39;00mt\u001b[39m}\u001b[39;00m\u001b[39m_cifar100.pth\u001b[39m\u001b[39m\"\u001b[39m\n\u001b[1;32m     11\u001b[0m     checkpoint \u001b[39m=\u001b[39m torch\u001b[39m.\u001b[39mload(checkpoint_path)\n",
      "\u001b[0;31mNameError\u001b[0m: name 'Wide_ResNet' is not defined"
     ]
    }
   ],
   "source": [
    "## 28x4 to 28x2\n",
    "t = 4\n",
    "s = 2 \n",
    "\n",
    "for T in [4,10,20]:\n",
    "    print(f\"T가 {T}일때의 28x{t} to 28x{s} distillation 결과 값\")\n",
    "    for seed in [10, 100, 777] :\n",
    "        # 학습에 사용할 모델 생성\n",
    "        teacher = Wide_ResNet(28, t, 0.3, 100).to(device)\n",
    "        checkpoint_path = f\"./1.Wide_ResNet_model/saved_model/WR_28x{t}_cifar100.pth\"\n",
    "        checkpoint = torch.load(checkpoint_path)\n",
    "        teacher.load_state_dict(checkpoint['state_dict'])\n",
    "\n",
    "        student = Wide_ResNet(28, s, 0.3, 100).to(device)\n",
    "\n",
    "        # 모델 평가\n",
    "        checkpoint_path = f\"./2.Knowledge_Distillation/save_seed{seed}_CIFAR100/KD_{t}to{s}_T={T}.pth\"\n",
    "        checkpoint = torch.load(checkpoint_path)\n",
    "        student.load_state_dict(checkpoint['state_dict'])\n",
    "        test_model(student)"
   ]
  },
  {
   "cell_type": "code",
   "execution_count": null,
   "metadata": {},
   "outputs": [
    {
     "name": "stdout",
     "output_type": "stream",
     "text": [
      "T가 4일때의 28x10 to 28x2 distillation 결과 값\n",
      "| Wide-Resnet 28x10\n",
      "| Wide-Resnet 28x2\n",
      "Total examples is 10000, correct examples is 7544; Test accuracy: 0.7544\n",
      "| Wide-Resnet 28x10\n",
      "| Wide-Resnet 28x2\n",
      "Total examples is 10000, correct examples is 7548; Test accuracy: 0.7548\n",
      "| Wide-Resnet 28x10\n",
      "| Wide-Resnet 28x2\n",
      "Total examples is 10000, correct examples is 7577; Test accuracy: 0.7577\n",
      "T가 10일때의 28x10 to 28x2 distillation 결과 값\n",
      "| Wide-Resnet 28x10\n",
      "| Wide-Resnet 28x2\n",
      "Total examples is 10000, correct examples is 7585; Test accuracy: 0.7585\n",
      "| Wide-Resnet 28x10\n",
      "| Wide-Resnet 28x2\n",
      "Total examples is 10000, correct examples is 7606; Test accuracy: 0.7606\n",
      "| Wide-Resnet 28x10\n",
      "| Wide-Resnet 28x2\n",
      "Total examples is 10000, correct examples is 7571; Test accuracy: 0.7571\n",
      "T가 20일때의 28x10 to 28x2 distillation 결과 값\n",
      "| Wide-Resnet 28x10\n",
      "| Wide-Resnet 28x2\n",
      "Total examples is 10000, correct examples is 7575; Test accuracy: 0.7575\n",
      "| Wide-Resnet 28x10\n",
      "| Wide-Resnet 28x2\n",
      "Total examples is 10000, correct examples is 7626; Test accuracy: 0.7626\n",
      "| Wide-Resnet 28x10\n",
      "| Wide-Resnet 28x2\n",
      "Total examples is 10000, correct examples is 7601; Test accuracy: 0.7601\n"
     ]
    }
   ],
   "source": [
    "## 28x10 to 28x2\n",
    "t = 10\n",
    "s = 2 \n",
    "\n",
    "for T in [4,10,20]:\n",
    "    print(f\"T가 {T}일때의 28x{t} to 28x{s} distillation 결과 값\")\n",
    "    for seed in [10, 100, 777] :\n",
    "        # 학습에 사용할 모델 생성\n",
    "        teacher = Wide_ResNet(28, t, 0.3, 100).to(device)\n",
    "        checkpoint_path = f\"./1.Wide_ResNet_model/saved_model/WR_28x{t}_cifar100.pth\"\n",
    "        checkpoint = torch.load(checkpoint_path)\n",
    "        teacher.load_state_dict(checkpoint['state_dict'])\n",
    "\n",
    "        student = Wide_ResNet(28, s, 0.3, 100).to(device)\n",
    "\n",
    "        # 모델 평가\n",
    "        checkpoint_path = f\"./2.Knowledge_Distillation/save_seed{seed}_CIFAR100/KD_{t}to{s}_T={T}.pth\"\n",
    "        checkpoint = torch.load(checkpoint_path)\n",
    "        student.load_state_dict(checkpoint['state_dict'])\n",
    "        test_model(student)"
   ]
  },
  {
   "cell_type": "code",
   "execution_count": null,
   "metadata": {},
   "outputs": [
    {
     "name": "stdout",
     "output_type": "stream",
     "text": [
      "T가 4일때의 28x10 to 28x4 distillation 결과 값\n",
      "| Wide-Resnet 28x10\n"
     ]
    },
    {
     "ename": "NameError",
     "evalue": "name 'device' is not defined",
     "output_type": "error",
     "traceback": [
      "\u001b[0;31m---------------------------------------------------------------------------\u001b[0m",
      "\u001b[0;31mNameError\u001b[0m                                 Traceback (most recent call last)",
      "Cell \u001b[0;32mIn[11], line 9\u001b[0m\n\u001b[1;32m      6\u001b[0m \u001b[39mprint\u001b[39m(\u001b[39mf\u001b[39m\u001b[39m\"\u001b[39m\u001b[39mT가 \u001b[39m\u001b[39m{\u001b[39;00mT\u001b[39m}\u001b[39;00m\u001b[39m일때의 28x\u001b[39m\u001b[39m{\u001b[39;00mt\u001b[39m}\u001b[39;00m\u001b[39m to 28x\u001b[39m\u001b[39m{\u001b[39;00ms\u001b[39m}\u001b[39;00m\u001b[39m distillation 결과 값\u001b[39m\u001b[39m\"\u001b[39m)\n\u001b[1;32m      7\u001b[0m \u001b[39mfor\u001b[39;00m seed \u001b[39min\u001b[39;00m [\u001b[39m10\u001b[39m, \u001b[39m100\u001b[39m, \u001b[39m777\u001b[39m] :\n\u001b[1;32m      8\u001b[0m     \u001b[39m# 학습에 사용할 모델 생성\u001b[39;00m\n\u001b[0;32m----> 9\u001b[0m     teacher \u001b[39m=\u001b[39m Wide_ResNet(\u001b[39m28\u001b[39m, t, \u001b[39m0.3\u001b[39m, \u001b[39m100\u001b[39m)\u001b[39m.\u001b[39mto(device)\n\u001b[1;32m     10\u001b[0m     checkpoint_path \u001b[39m=\u001b[39m \u001b[39mf\u001b[39m\u001b[39m\"\u001b[39m\u001b[39m./1.Wide_ResNet_model/saved_model/WR_28x\u001b[39m\u001b[39m{\u001b[39;00mt\u001b[39m}\u001b[39;00m\u001b[39m_cifar100.pth\u001b[39m\u001b[39m\"\u001b[39m\n\u001b[1;32m     11\u001b[0m     checkpoint \u001b[39m=\u001b[39m torch\u001b[39m.\u001b[39mload(checkpoint_path)\n",
      "\u001b[0;31mNameError\u001b[0m: name 'device' is not defined"
     ]
    }
   ],
   "source": [
    "## 28x10 to 28x4\n",
    "t = 10\n",
    "s = 4\n",
    "\n",
    "for T in [4,10,20]:\n",
    "    print(f\"T가 {T}일때의 28x{t} to 28x{s} distillation 결과 값\")\n",
    "    for seed in [10, 100, 777] :\n",
    "        # 학습에 사용할 모델 생성\n",
    "        teacher = Wide_ResNet(28, t, 0.3, 100).to(device)\n",
    "        checkpoint_path = f\"./1.Wide_ResNet_model/saved_model/WR_28x{t}_cifar100.pth\"\n",
    "        checkpoint = torch.load(checkpoint_path)\n",
    "        teacher.load_state_dict(checkpoint['state_dict'])\n",
    "\n",
    "        student = Wide_ResNet(28, s, 0.3, 100).to(device)\n",
    "\n",
    "        # 모델 평가\n",
    "        checkpoint_path = f\"./2.Knowledge_Distillation/save_seed{seed}_CIFAR100/KD_{t}to{s}_T={T}.pth\"\n",
    "        checkpoint = torch.load(checkpoint_path)\n",
    "        student.load_state_dict(checkpoint['state_dict'])\n",
    "        test_model(student)"
   ]
  },
  {
   "attachments": {},
   "cell_type": "markdown",
   "metadata": {},
   "source": [
    "### 1.3. Node Sparse Modeling"
   ]
  },
  {
   "cell_type": "code",
   "execution_count": null,
   "metadata": {},
   "outputs": [
    {
     "name": "stdout",
     "output_type": "stream",
     "text": [
      "seed10에서의 결과값 시작\n",
      "| Wide-Resnet 28x2\n"
     ]
    },
    {
     "ename": "FileNotFoundError",
     "evalue": "[Errno 2] No such file or directory: './save_seed10_CIFAR100/28x2_multistepLR_lr0.004.pth'",
     "output_type": "error",
     "traceback": [
      "\u001b[0;31m---------------------------------------------------------------------------\u001b[0m",
      "\u001b[0;31mFileNotFoundError\u001b[0m                         Traceback (most recent call last)",
      "Cell \u001b[0;32mIn[252], line 10\u001b[0m\n\u001b[1;32m      8\u001b[0m \u001b[39m## test\u001b[39;00m\n\u001b[1;32m      9\u001b[0m checkpoint_path \u001b[39m=\u001b[39m \u001b[39mf\u001b[39m\u001b[39m\"\u001b[39m\u001b[39m./save_seed\u001b[39m\u001b[39m{\u001b[39;00mseed\u001b[39m}\u001b[39;00m\u001b[39m_CIFAR100/28x\u001b[39m\u001b[39m{\u001b[39;00mbasic\u001b[39m}\u001b[39;00m\u001b[39m_multistepLR_lr\u001b[39m\u001b[39m{\u001b[39;00mlr\u001b[39m}\u001b[39;00m\u001b[39m.pth\u001b[39m\u001b[39m\"\u001b[39m\n\u001b[0;32m---> 10\u001b[0m checkpoint \u001b[39m=\u001b[39m torch\u001b[39m.\u001b[39;49mload(checkpoint_path)\n\u001b[1;32m     11\u001b[0m model\u001b[39m.\u001b[39mload_state_dict(checkpoint[\u001b[39m'\u001b[39m\u001b[39mstate_dict\u001b[39m\u001b[39m'\u001b[39m])\n\u001b[1;32m     12\u001b[0m test_model(model)   \n",
      "File \u001b[0;32m/usr/local/miniconda3/envs/nine/lib/python3.9/site-packages/torch/serialization.py:791\u001b[0m, in \u001b[0;36mload\u001b[0;34m(f, map_location, pickle_module, weights_only, **pickle_load_args)\u001b[0m\n\u001b[1;32m    788\u001b[0m \u001b[39mif\u001b[39;00m \u001b[39m'\u001b[39m\u001b[39mencoding\u001b[39m\u001b[39m'\u001b[39m \u001b[39mnot\u001b[39;00m \u001b[39min\u001b[39;00m pickle_load_args\u001b[39m.\u001b[39mkeys():\n\u001b[1;32m    789\u001b[0m     pickle_load_args[\u001b[39m'\u001b[39m\u001b[39mencoding\u001b[39m\u001b[39m'\u001b[39m] \u001b[39m=\u001b[39m \u001b[39m'\u001b[39m\u001b[39mutf-8\u001b[39m\u001b[39m'\u001b[39m\n\u001b[0;32m--> 791\u001b[0m \u001b[39mwith\u001b[39;00m _open_file_like(f, \u001b[39m'\u001b[39;49m\u001b[39mrb\u001b[39;49m\u001b[39m'\u001b[39;49m) \u001b[39mas\u001b[39;00m opened_file:\n\u001b[1;32m    792\u001b[0m     \u001b[39mif\u001b[39;00m _is_zipfile(opened_file):\n\u001b[1;32m    793\u001b[0m         \u001b[39m# The zipfile reader is going to advance the current file position.\u001b[39;00m\n\u001b[1;32m    794\u001b[0m         \u001b[39m# If we want to actually tail call to torch.jit.load, we need to\u001b[39;00m\n\u001b[1;32m    795\u001b[0m         \u001b[39m# reset back to the original position.\u001b[39;00m\n\u001b[1;32m    796\u001b[0m         orig_position \u001b[39m=\u001b[39m opened_file\u001b[39m.\u001b[39mtell()\n",
      "File \u001b[0;32m/usr/local/miniconda3/envs/nine/lib/python3.9/site-packages/torch/serialization.py:271\u001b[0m, in \u001b[0;36m_open_file_like\u001b[0;34m(name_or_buffer, mode)\u001b[0m\n\u001b[1;32m    269\u001b[0m \u001b[39mdef\u001b[39;00m \u001b[39m_open_file_like\u001b[39m(name_or_buffer, mode):\n\u001b[1;32m    270\u001b[0m     \u001b[39mif\u001b[39;00m _is_path(name_or_buffer):\n\u001b[0;32m--> 271\u001b[0m         \u001b[39mreturn\u001b[39;00m _open_file(name_or_buffer, mode)\n\u001b[1;32m    272\u001b[0m     \u001b[39melse\u001b[39;00m:\n\u001b[1;32m    273\u001b[0m         \u001b[39mif\u001b[39;00m \u001b[39m'\u001b[39m\u001b[39mw\u001b[39m\u001b[39m'\u001b[39m \u001b[39min\u001b[39;00m mode:\n",
      "File \u001b[0;32m/usr/local/miniconda3/envs/nine/lib/python3.9/site-packages/torch/serialization.py:252\u001b[0m, in \u001b[0;36m_open_file.__init__\u001b[0;34m(self, name, mode)\u001b[0m\n\u001b[1;32m    251\u001b[0m \u001b[39mdef\u001b[39;00m \u001b[39m__init__\u001b[39m(\u001b[39mself\u001b[39m, name, mode):\n\u001b[0;32m--> 252\u001b[0m     \u001b[39msuper\u001b[39m()\u001b[39m.\u001b[39m\u001b[39m__init__\u001b[39m(\u001b[39mopen\u001b[39;49m(name, mode))\n",
      "\u001b[0;31mFileNotFoundError\u001b[0m: [Errno 2] No such file or directory: './save_seed10_CIFAR100/28x2_multistepLR_lr0.004.pth'"
     ]
    }
   ],
   "source": [
    "## 28x2 with 0.5\n",
    "basic = 2\n",
    "\n",
    "for seed in [10, 100, 777] :\n",
    "    print(f'seed{seed}에서의 결과값 시작')\n",
    "    for lr in [0.004, 0.02]:\n",
    "        model = Wide_ResNet(28, basic, 0.3, 100).to(device)\n",
    "        ## test\n",
    "        checkpoint_path = f\"./3.node_sparse(fine tuning)/save_seed{seed}_CIFAR100/28x{basic}_multistepLR_lr{lr}.pth\"\n",
    "        checkpoint = torch.load(checkpoint_path)\n",
    "        model.load_state_dict(checkpoint['state_dict'])\n",
    "        test_model(model)   \n",
    "        \n",
    "    for lr in [0.004, 0.02]:\n",
    "        model = Wide_ResNet(28, basic, 0.3, 100).to(device)\n",
    "        ## test\n",
    "        checkpoint_path = f\"./3.node_sparse(fine tuning)/save_seed{seed}_CIFAR100/28x{basic}_cosine_lr{lr}.pth\"\n",
    "        checkpoint = torch.load(checkpoint_path)\n",
    "        model.load_state_dict(checkpoint['state_dict'])\n",
    "        test_model(model)  "
   ]
  },
  {
   "cell_type": "code",
   "execution_count": null,
   "metadata": {},
   "outputs": [
    {
     "name": "stdout",
     "output_type": "stream",
     "text": [
      "seed10에서의 결과값 시작\n",
      "| Wide-Resnet 28x4\n"
     ]
    },
    {
     "ename": "NameError",
     "evalue": "name 'device' is not defined",
     "output_type": "error",
     "traceback": [
      "\u001b[0;31m---------------------------------------------------------------------------\u001b[0m",
      "\u001b[0;31mNameError\u001b[0m                                 Traceback (most recent call last)",
      "Cell \u001b[0;32mIn[12], line 7\u001b[0m\n\u001b[1;32m      5\u001b[0m \u001b[39mprint\u001b[39m(\u001b[39mf\u001b[39m\u001b[39m'\u001b[39m\u001b[39mseed\u001b[39m\u001b[39m{\u001b[39;00mseed\u001b[39m}\u001b[39;00m\u001b[39m에서의 결과값 시작\u001b[39m\u001b[39m'\u001b[39m)\n\u001b[1;32m      6\u001b[0m \u001b[39mfor\u001b[39;00m lr \u001b[39min\u001b[39;00m [\u001b[39m0.004\u001b[39m, \u001b[39m0.02\u001b[39m]:\n\u001b[0;32m----> 7\u001b[0m     model \u001b[39m=\u001b[39m Wide_ResNet(\u001b[39m28\u001b[39m, basic, \u001b[39m0.3\u001b[39m, \u001b[39m100\u001b[39m)\u001b[39m.\u001b[39mto(device)\n\u001b[1;32m      8\u001b[0m     \u001b[39m## test\u001b[39;00m\n\u001b[1;32m      9\u001b[0m     checkpoint_path \u001b[39m=\u001b[39m \u001b[39mf\u001b[39m\u001b[39m\"\u001b[39m\u001b[39m./3.node_sparse(fine tuning)/save_seed\u001b[39m\u001b[39m{\u001b[39;00mseed\u001b[39m}\u001b[39;00m\u001b[39m_CIFAR100/28x\u001b[39m\u001b[39m{\u001b[39;00mbasic\u001b[39m}\u001b[39;00m\u001b[39m_multistepLR_lr\u001b[39m\u001b[39m{\u001b[39;00mlr\u001b[39m}\u001b[39;00m\u001b[39m.pth\u001b[39m\u001b[39m\"\u001b[39m\n",
      "\u001b[0;31mNameError\u001b[0m: name 'device' is not defined"
     ]
    }
   ],
   "source": [
    "## 28x4 with 0.5\n",
    "basic = 4\n",
    "\n",
    "for seed in [10, 100, 777] :\n",
    "    print(f'seed{seed}에서의 결과값 시작')\n",
    "    for lr in [0.004, 0.02]:\n",
    "        model = Wide_ResNet(28, basic, 0.3, 100).to(device)\n",
    "        ## test\n",
    "        checkpoint_path = f\"./3.node_sparse(fine tuning)/save_seed{seed}_CIFAR100/28x{basic}_multistepLR_lr{lr}.pth\"\n",
    "        checkpoint = torch.load(checkpoint_path)\n",
    "        model.load_state_dict(checkpoint['state_dict'])\n",
    "        test_model(model)   \n",
    "        \n",
    "    for lr in [0.004, 0.02]:\n",
    "        model = Wide_ResNet(28, basic, 0.3, 100).to(device)\n",
    "        ## test\n",
    "        checkpoint_path = f\"./3.node_sparse(fine tuning)/save_seed{seed}_CIFAR100/28x{basic}_cosine_lr{lr}.pth\"\n",
    "        checkpoint = torch.load(checkpoint_path)\n",
    "        model.load_state_dict(checkpoint['state_dict'])\n",
    "        test_model(model)  "
   ]
  },
  {
   "cell_type": "code",
   "execution_count": null,
   "metadata": {},
   "outputs": [
    {
     "name": "stdout",
     "output_type": "stream",
     "text": [
      "seed10에서의 결과값 시작\n",
      "| Wide-Resnet 28x10\n"
     ]
    },
    {
     "ename": "NameError",
     "evalue": "name 'device' is not defined",
     "output_type": "error",
     "traceback": [
      "\u001b[0;31m---------------------------------------------------------------------------\u001b[0m",
      "\u001b[0;31mNameError\u001b[0m                                 Traceback (most recent call last)",
      "Cell \u001b[0;32mIn[13], line 7\u001b[0m\n\u001b[1;32m      5\u001b[0m \u001b[39mprint\u001b[39m(\u001b[39mf\u001b[39m\u001b[39m'\u001b[39m\u001b[39mseed\u001b[39m\u001b[39m{\u001b[39;00mseed\u001b[39m}\u001b[39;00m\u001b[39m에서의 결과값 시작\u001b[39m\u001b[39m'\u001b[39m)\n\u001b[1;32m      6\u001b[0m \u001b[39mfor\u001b[39;00m lr \u001b[39min\u001b[39;00m [\u001b[39m0.004\u001b[39m, \u001b[39m0.02\u001b[39m]:\n\u001b[0;32m----> 7\u001b[0m     model \u001b[39m=\u001b[39m Wide_ResNet(\u001b[39m28\u001b[39m, basic, \u001b[39m0.3\u001b[39m, \u001b[39m100\u001b[39m)\u001b[39m.\u001b[39mto(device)\n\u001b[1;32m      8\u001b[0m     \u001b[39m## test\u001b[39;00m\n\u001b[1;32m      9\u001b[0m     checkpoint_path \u001b[39m=\u001b[39m \u001b[39mf\u001b[39m\u001b[39m\"\u001b[39m\u001b[39m./3.node_sparse(fine tuning)/save_seed\u001b[39m\u001b[39m{\u001b[39;00mseed\u001b[39m}\u001b[39;00m\u001b[39m_CIFAR100/28x\u001b[39m\u001b[39m{\u001b[39;00mbasic\u001b[39m}\u001b[39;00m\u001b[39m_0.6_multistepLR_lr\u001b[39m\u001b[39m{\u001b[39;00mlr\u001b[39m}\u001b[39;00m\u001b[39m.pth\u001b[39m\u001b[39m\"\u001b[39m\n",
      "\u001b[0;31mNameError\u001b[0m: name 'device' is not defined"
     ]
    }
   ],
   "source": [
    "## 28x10 with 0.6\n",
    "basic = 10\n",
    "\n",
    "for seed in [10, 100, 777] :\n",
    "    print(f'seed{seed}에서의 결과값 시작')\n",
    "    for lr in [0.004, 0.02]:\n",
    "        model = Wide_ResNet(28, basic, 0.3, 100).to(device)\n",
    "        ## test\n",
    "        checkpoint_path = f\"./3.node_sparse(fine tuning)/save_seed{seed}_CIFAR100/28x{basic}_0.6_multistepLR_lr{lr}.pth\"\n",
    "        checkpoint = torch.load(checkpoint_path)\n",
    "        model.load_state_dict(checkpoint['state_dict'])\n",
    "        test_model(model)   \n",
    "        \n",
    "    for lr in [0.004, 0.02]:\n",
    "        model = Wide_ResNet(28, basic, 0.3, 100).to(device)\n",
    "        ## test\n",
    "        checkpoint_path = f\"./3.node_sparse(fine tuning)/save_seed{seed}_CIFAR100/28x{basic}_0.6_cosine_lr{lr}.pth\"\n",
    "        checkpoint = torch.load(checkpoint_path)\n",
    "        model.load_state_dict(checkpoint['state_dict'])\n",
    "        test_model(model)  "
   ]
  },
  {
   "cell_type": "code",
   "execution_count": null,
   "metadata": {},
   "outputs": [],
   "source": [
    "## 28x10 with 0.8\n",
    "basic = 10\n",
    "\n",
    "for seed in [10, 100, 777] :\n",
    "    print(f'seed{seed}에서의 결과값 시작')\n",
    "    for lr in [0.004, 0.02]:\n",
    "        model = Wide_ResNet(28, basic, 0.3, 100).to(device)\n",
    "        ## test\n",
    "        checkpoint_path = f\"./3.node_sparse(fine tuning)/save_seed{seed}_CIFAR100/28x{basic}_0.8_multistepLR_lr{lr}.pth\"\n",
    "        checkpoint = torch.load(checkpoint_path)\n",
    "        model.load_state_dict(checkpoint['state_dict'])\n",
    "        test_model(model)   \n",
    "        \n",
    "    for lr in [0.004, 0.02]:\n",
    "        model = Wide_ResNet(28, basic, 0.3, 100).to(device)\n",
    "        ## test\n",
    "        checkpoint_path = f\"./3.node_sparse(fine tuning)/save_seed{seed}_CIFAR100/28x{basic}_0.8_cosine_lr{lr}.pth\"\n",
    "        checkpoint = torch.load(checkpoint_path)\n",
    "        model.load_state_dict(checkpoint['state_dict'])\n",
    "        test_model(model)  "
   ]
  },
  {
   "attachments": {},
   "cell_type": "markdown",
   "metadata": {},
   "source": [
    "## 최종 결과값 이미지 파일로 저장"
   ]
  },
  {
   "cell_type": "code",
   "execution_count": null,
   "metadata": {},
   "outputs": [],
   "source": [
    "import numpy as np\n",
    "import matplotlib.pyplot as plt\n",
    "from PIL import Image\n",
    "from matplotlib.lines import Line2D\n"
   ]
  },
  {
   "attachments": {},
   "cell_type": "markdown",
   "metadata": {},
   "source": [
    "### 1. CIFAR10"
   ]
  },
  {
   "cell_type": "code",
   "execution_count": 195,
   "metadata": {},
   "outputs": [
    {
     "data": {
      "image/png": "[encoded data removed]",
      "text/plain": [
       "<Figure size 1000x1500 with 1 Axes>"
      ]
     },
     "metadata": {},
     "output_type": "display_data"
    }
   ],
   "source": [
    "# X축 데이터, 여기서는 모델 크기를 의미하는 데이터로 가정\n",
    "model_size = [1, 2, 4, 10]\n",
    "\n",
    "# Y축 데이터, 여기서는 정확도를 나타내는 데이터로 가정\n",
    "accuracy = [93.07, 94.91, 95.38, 95.72]\n",
    "\n",
    "# 원형의 크기를 결정할 변수, 여기서는 모델 크기로 가정\n",
    "circle_size = [size*90 for size in model_size]\n",
    "\n",
    "# 각 모델 크기에 대한 색상 설정\n",
    "colors = ['blue']\n",
    "\n",
    "# 그래프 크기 및 제목 설정\n",
    "fig = plt.figure(figsize=(10, 15))\n",
    "plt.title('CIFAR10', fontsize = 30)\n",
    "\n",
    "# 범례 항목 생성\n",
    "scatter_handles = []\n",
    "for i in range(len(model_size)):\n",
    "    scatter_handle = plt.Line2D([0], [0], linestyle='None', markersize=10, marker='o', markerfacecolor=colors[0], markeredgecolor='none', label=f'WR 28x{model_size[0]}')\n",
    "    scatter_handles.append(scatter_handle)\n",
    "    \n",
    "for i in range(len(model_size)):\n",
    "    plt.scatter(model_size[i], accuracy[i], s=circle_size[i], color=colors[0])\n",
    "    plt.annotate(f'WR 28x{model_size[i]}', (model_size[i], accuracy[i]), ha='center', va='top', xytext=(0,-(circle_size_kd[i]/30+5)), textcoords='offset points')\n",
    "\n",
    "labels = [f'WR 28x{size}' for size in model_size]\n",
    "\n",
    "\n",
    "# 산점도 그리기\n",
    "plt.scatter(model_size, accuracy, s=circle_size, color=colors)\n",
    "\n",
    "# knowledge distillation 결과 추가\n",
    "model_size_kd = [1, 2, 2, 4]\n",
    "accuracy_kd = [93.68, 95.13, 95.08, 95.68]\n",
    "circle_size_kd = [size*90 for size in model_size_kd]\n",
    "colors_kd = ['green']\n",
    "\n",
    "labels_kd = ['KD 28x2 to 28x1', 'KD 28x4 to 28x2', 'KD 28x10 to 28x2', 'KD 28x10 to 28x4']\n",
    "\n",
    "for i in range(len(model_size_kd)):\n",
    "    plt.scatter(model_size_kd[i], accuracy_kd[i], s=circle_size_kd[i], color=colors_kd[0])\n",
    "    plt.annotate(labels_kd[i], (model_size_kd[i], accuracy_kd[i]), ha='left', va='center', xytext=(10,0), textcoords='offset points')\n",
    "\n",
    "\n",
    "# Node Sparsity Modeling 결과 추가\n",
    "model_size_prune = [1, 2, 2, 4]\n",
    "accuracy_prune = [94.20, 95.20, 95.46, 95.73]\n",
    "circle_size_prune = [size*90 for size in model_size_prune]\n",
    "colors_prune = ['black']\n",
    "\n",
    "labels_prune = ['Node_28x2_0.5 ', 'Node_28x4_0.5', 'Node_28x10_0.8', 'Node_28x10_0.6']\n",
    "\n",
    "for i in range(len(model_size_prune)):\n",
    "    plt.scatter(model_size_prune[i], accuracy_prune[i], s=circle_size_prune[i], color=colors_prune[0])\n",
    "    plt.annotate(labels_prune[i], (model_size_prune[i], accuracy_prune[i]), ha='left', va='center', xytext=(10,0), textcoords='offset points')\n",
    "\n",
    "# 범례 추가\n",
    "labels_all = labels + labels_kd + labels_prune\n",
    "colors_all = colors + colors_kd + labels_prune\n",
    "handles_all = (scatter_handles + \n",
    "               [plt.Line2D([0], [0], linestyle='None', markersize=10, marker='o', markerfacecolor=colors_prune[0], markeredgecolor='none', label=labels_prune[i]) for i in range(len(labels_prune))]\n",
    "               +[plt.Line2D([0], [0], linestyle='None', markersize=10, marker='o', markerfacecolor=colors_kd[0], markeredgecolor='none', label=labels_kd[i]) for i in range(len(labels_kd))])\n",
    "\n",
    "blue_circle = Line2D([0], [0], marker='o', color='none', label='Wide Resnet', markerfacecolor='blue', markersize=15)\n",
    "green_circle = Line2D([0], [0], marker='o', color='none', label='Knowledge distillation', markerfacecolor='green', markersize=15)\n",
    "black_circle = Line2D([0], [0], marker='o', color='none', label='Node sparsity modeling', markerfacecolor='black', markersize=15)\n",
    "\n",
    "# 그래프에 범례 추가\n",
    "plt.legend(handles=[blue_circle, green_circle, black_circle], \n",
    "           loc='lower right', fontsize=12)\n",
    "\n",
    "# X축 눈금 설정\n",
    "plt.xticks(np.arange(0,11,2))\n",
    "# y축 범위 지정\n",
    "plt.ylim(93, 96)\n",
    "\n",
    "# y축 눈금 설정\n",
    "plt.yticks(np.arange(93, 96.3, 0.3))\n",
    "\n",
    "# 축 레이블 설정\n",
    "plt.xlabel('Model Size', fontsize = 15)\n",
    "plt.ylabel('Accuracy', fontsize = 15)\n",
    "\n",
    "# plt.show()\n",
    "\n",
    "plt.savefig('result_CIFAR10.png')"
   ]
  },
  {
   "attachments": {},
   "cell_type": "markdown",
   "metadata": {},
   "source": [
    "### 2. CIFAR100"
   ]
  },
  {
   "cell_type": "code",
   "execution_count": 201,
   "metadata": {},
   "outputs": [
    {
     "data": {
      "image/png": "[encoded data removed]",
      "text/plain": [
       "<Figure size 1000x1500 with 1 Axes>"
      ]
     },
     "metadata": {},
     "output_type": "display_data"
    }
   ],
   "source": [
    "# X축 데이터, 여기서는 모델 크기를 의미하는 데이터로 가정\n",
    "model_size = [1, 2, 4, 10]\n",
    "\n",
    "# Y축 데이터, 여기서는 정확도를 나타내는 데이터로 가정\n",
    "accuracy = [68.93, 73.71, 77.24, 80.02]\n",
    "\n",
    "# 원형의 크기를 결정할 변수, 여기서는 모델 크기로 가정\n",
    "circle_size = [size*90 for size in model_size]\n",
    "\n",
    "# 각 모델 크기에 대한 색상 설정\n",
    "colors = ['blue']\n",
    "\n",
    "# 그래프 크기 및 제목 설정\n",
    "fig = plt.figure(figsize=(10, 15))\n",
    "plt.title('CIFAR100', fontsize = 30)\n",
    "\n",
    "# 범례 항목 생성\n",
    "scatter_handles = []\n",
    "for i in range(len(model_size)):\n",
    "    scatter_handle = plt.Line2D([0], [0], linestyle='None', markersize=10, marker='o', markerfacecolor=colors[0], markeredgecolor='none', label=f'WR 28x{model_size[0]}')\n",
    "    scatter_handles.append(scatter_handle)\n",
    "    \n",
    "for i in range(len(model_size)):\n",
    "    plt.scatter(model_size[i], accuracy[i], s=circle_size[i], color=colors[0])\n",
    "    plt.annotate(f'WR 28x{model_size[i]}', (model_size[i], accuracy[i]), ha='center', va='top', xytext=(0,-(circle_size_kd[i]/30+5)), textcoords='offset points')\n",
    "\n",
    "labels = [f'WR 28x{size}' for size in model_size]\n",
    "\n",
    "\n",
    "# 산점도 그리기\n",
    "plt.scatter(model_size, accuracy, s=circle_size, color=colors)\n",
    "\n",
    "# knowledge distillation 결과 추가\n",
    "model_size_kd = [1, 2, 2, 4]\n",
    "accuracy_kd = [71.64, 76.31, 76.01, 79.53]\n",
    "circle_size_kd = [size*90 for size in model_size_kd]\n",
    "colors_kd = ['green']\n",
    "\n",
    "labels_kd = ['KD 28x2 to 28x1', 'KD 28x4 to 28x2', 'KD 28x10 to 28x2', 'KD 28x10 to 28x4']\n",
    "\n",
    "for i in range(len(model_size_kd)):\n",
    "    plt.scatter(model_size_kd[i], accuracy_kd[i], s=circle_size_kd[i], color=colors_kd[0])\n",
    "    plt.annotate(labels_kd[i], (model_size_kd[i], accuracy_kd[i]), ha='left', va='center', xytext=(10,0), textcoords='offset points')\n",
    "\n",
    "\n",
    "# Node Sparsity Modeling 결과 추가\n",
    "model_size_prune = [1, 2, 2, 4]\n",
    "accuracy_prune = [72.23, 75.96, 78.38, 79.37]\n",
    "circle_size_prune = [size*90 for size in model_size_prune]\n",
    "colors_prune = ['black']\n",
    "\n",
    "labels_prune = ['Node_28x2_0.5 ', 'Node_28x4_0.5', 'Node_28x10_0.8', 'Node_28x10_0.6']\n",
    "\n",
    "for i in range(len(model_size_prune)):\n",
    "    plt.scatter(model_size_prune[i], accuracy_prune[i], s=circle_size_prune[i], color=colors_prune[0])\n",
    "    plt.annotate(labels_prune[i], (model_size_prune[i], accuracy_prune[i]), ha='left', va='top', xytext=(10,-1), textcoords='offset points')\n",
    "\n",
    "# 범례 추가\n",
    "labels_all = labels + labels_kd + labels_prune\n",
    "colors_all = colors + colors_kd + labels_prune\n",
    "handles_all = (scatter_handles + \n",
    "               [plt.Line2D([0], [0], linestyle='None', markersize=10, marker='o', markerfacecolor=colors_prune[0], markeredgecolor='none', label=labels_prune[i]) for i in range(len(labels_prune))]\n",
    "               +[plt.Line2D([0], [0], linestyle='None', markersize=10, marker='o', markerfacecolor=colors_kd[0], markeredgecolor='none', label=labels_kd[i]) for i in range(len(labels_kd))])\n",
    "\n",
    "blue_circle = Line2D([0], [0], marker='o', color='none', label='Wide Resnet', markerfacecolor='blue', markersize=15)\n",
    "green_circle = Line2D([0], [0], marker='o', color='none', label='Knowledge distillation', markerfacecolor='green', markersize=15)\n",
    "black_circle = Line2D([0], [0], marker='o', color='none', label='Node sparsity modeling', markerfacecolor='black', markersize=15)\n",
    "\n",
    "# 그래프에 범례 추가\n",
    "plt.legend(handles=[blue_circle, green_circle, black_circle], \n",
    "           loc='lower right', fontsize=12)\n",
    "\n",
    "# X축 눈금 설정\n",
    "plt.xticks(np.arange(0,11,2))\n",
    "# y축 범위 지정\n",
    "plt.ylim(68, 80)\n",
    "\n",
    "# y축 눈금 설정\n",
    "plt.yticks(np.arange(68.5, 81, 0.5))\n",
    "\n",
    "# 축 레이블 설정\n",
    "plt.xlabel('Model Size', fontsize=15)\n",
    "plt.ylabel('Accuracy', fontsize = 15)\n",
    "\n",
    "# plt.show()\n",
    "\n",
    "plt.savefig('result_CIFAR100.png')\n",
    "\n"
   ]
  },
  {
   "attachments": {},
   "cell_type": "markdown",
   "metadata": {},
   "source": [
    "### 3. 이미지 파일 최종 저장"
   ]
  },
  {
   "cell_type": "code",
   "execution_count": 202,
   "metadata": {},
   "outputs": [],
   "source": [
    "\n",
    "\n",
    "# 이미지 파일 불러오기\n",
    "image1 = Image.open('result_CIFAR10.png')\n",
    "image2 = Image.open('result_CIFAR100.png')\n",
    "\n",
    "# 이미지 크기 가져오기\n",
    "width1, height1 = image1.size\n",
    "width2, height2 = image2.size\n",
    "\n",
    "# 두 이미지를 가로로 합치기\n",
    "result = Image.new('RGB', (width1 + width2, max(height1, height2)))\n",
    "result.paste(im=image1, box=(0, 0))\n",
    "result.paste(im=image2, box=(width1, 0))\n",
    "\n",
    "# 합쳐진 이미지 저장하기\n",
    "result.save('result.png')"
   ]
  },
  {
   "cell_type": "code",
   "execution_count": null,
   "metadata": {},
   "outputs": [],
   "source": []
  }
 ],
 "metadata": {
  "kernelspec": {
   "display_name": "nine",
   "language": "python",
   "name": "python3"
  },
  "language_info": {
   "codemirror_mode": {
    "name": "ipython",
    "version": 3
   },
   "file_extension": ".py",
   "mimetype": "text/x-python",
   "name": "python",
   "nbconvert_exporter": "python",
   "pygments_lexer": "ipython3",
   "version": "3.9.16"
  },
  "orig_nbformat": 4
 },
 "nbformat": 4,
 "nbformat_minor": 2
}
