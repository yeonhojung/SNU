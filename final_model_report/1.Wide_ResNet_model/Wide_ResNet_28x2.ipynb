{
 "cells": [
  {
   "cell_type": "code",
   "execution_count": 11,
   "metadata": {},
   "outputs": [],
   "source": [
    "from new_model import *\n",
    "from tqdm import tqdm"
   ]
  },
  {
   "cell_type": "code",
   "execution_count": 12,
   "metadata": {},
   "outputs": [],
   "source": [
    "seed = 777\n",
    "random.seed(seed)\n",
    "np.random.seed(seed)\n",
    "device = 'cuda' if torch.cuda.is_available() else 'cpu'\n",
    "torch.manual_seed(seed)\n",
    "if device == 'cuda':\n",
    "    torch.cuda.manual_seed_all(seed)\n",
    "torch.backends.cudnn.deterministic = True\n",
    "torch.backends.cudnn.benchmark = False"
   ]
  },
  {
   "cell_type": "markdown",
   "metadata": {},
   "source": [
    "## 1. CIFAR 10 데이터셋 다운로드"
   ]
  },
  {
   "cell_type": "code",
   "execution_count": 3,
   "metadata": {},
   "outputs": [
    {
     "name": "stdout",
     "output_type": "stream",
     "text": [
      "Files already downloaded and verified\n",
      "Files already downloaded and verified\n"
     ]
    }
   ],
   "source": [
    "#Data 다운로드 경로지정\n",
    "DATA_ROOT = \"../data_cifar10\"\n",
    "batch_size = 128\n",
    "\n",
    "\n",
    "#Data Process \n",
    "transform_train = transforms.Compose([transforms.RandomCrop(32, padding=4),transforms.RandomHorizontalFlip(),\n",
    "                                      transforms.ToTensor(),transforms.Normalize((0.4914, 0.4822, 0.4465), (0.2023, 0.1994, 0.2010))]) \n",
    "\n",
    "transform_val = transforms.Compose([transforms.ToTensor(), \n",
    "                                    transforms.Normalize((0.4914, 0.4822, 0.4465),(0.2023, 0.1994, 0.2010))])\n",
    "\n",
    "transform_test = transforms.Compose([transforms.ToTensor(),\n",
    "                                     transforms.Normalize((0.4914, 0.4822, 0.4465),(0.2023, 0.1994, 0.2010))])\n",
    "\n",
    "train_CIFAR10 = torchvision.datasets.CIFAR10(root='../data', train=True, download=True, transform=transform_train)\n",
    "\n",
    "test_CIFAR10 = torchvision.datasets.CIFAR10(root='../data', train=False, download=True, transform=transform_test)\n",
    "\n",
    "num_train = int(1.0 * len(train_CIFAR10) * 95 / 100)\n",
    "num_val = len(train_CIFAR10) - num_train\n",
    "train_CIFAR10, val_CIFAR10 = torch.utils.data.random_split(train_CIFAR10, [num_train, num_val])\n",
    "\n",
    "train_loader = torch.utils.data.DataLoader(train_CIFAR10, batch_size=batch_size, shuffle=True, num_workers=2) #num_workers는 데이터 로드시 sub process 몇개 쓸거냐 \n",
    "val_loader = torch.utils.data.DataLoader(val_CIFAR10, batch_size=batch_size,shuffle=True, num_workers=2)\n",
    "test_loader = torch.utils.data.DataLoader(test_CIFAR10, batch_size=batch_size, shuffle=True, num_workers=2)"
   ]
  },
  {
   "cell_type": "markdown",
   "metadata": {},
   "source": [
    "## 2. CIFAR 100 데이터셋 다운로드(참고)"
   ]
  },
  {
   "cell_type": "code",
   "execution_count": 13,
   "metadata": {},
   "outputs": [
    {
     "name": "stdout",
     "output_type": "stream",
     "text": [
      "Files already downloaded and verified\n",
      "Files already downloaded and verified\n"
     ]
    }
   ],
   "source": [
    "#Data 다운로드 경로지정\n",
    "DATA_ROOT = \"../data_cifar100\"\n",
    "batch_size = 128\n",
    "\n",
    "#Data Process\n",
    "transform_train = transforms.Compose([transforms.RandomCrop(32, padding=4),transforms.RandomHorizontalFlip(),\n",
    "                                      transforms.ToTensor(),transforms.Normalize((0.4914, 0.4822, 0.4465), (0.2023, 0.1994, 0.2010))]) \n",
    "\n",
    "transform_val = transforms.Compose([transforms.ToTensor(), transforms.Normalize((0.4914, 0.4822, 0.4465), (0.2023, 0.1994, 0.2010))]) \n",
    "\n",
    "transform_test = transforms.Compose([transforms.ToTensor(),transforms.Normalize((0.4914, 0.4822, 0.4465), (0.2023, 0.1994, 0.2010))]) \n",
    "\n",
    "train_CIFAR100 = torchvision.datasets.CIFAR100(root='../data', train=True, download=True, transform=transform_train)\n",
    "\n",
    "test_CIFAR100 = torchvision.datasets.CIFAR100(root='../data', train=False, download=True, transform=transform_test)\n",
    "\n",
    "num_train = int(1.0 * len(train_CIFAR100) * 95 / 100)\n",
    "num_val = len(train_CIFAR100) - num_train\n",
    "train_CIFAR100, val_CIFAR100 = torch.utils.data.random_split(train_CIFAR100, [num_train, num_val])\n",
    "\n",
    "train_loader = torch.utils.data.DataLoader(train_CIFAR100, batch_size=batch_size, shuffle=True, num_workers=2) #num_workers는 데이터 로드시 sub process 몇개 쓸거냐 \n",
    "val_loader = torch.utils.data.DataLoader(val_CIFAR100, batch_size=batch_size,shuffle=True, num_workers=2)\n",
    "test_loader = torch.utils.data.DataLoader(test_CIFAR100, batch_size=batch_size, shuffle=True, num_workers=2)"
   ]
  },
  {
   "cell_type": "markdown",
   "metadata": {},
   "source": [
    "## 4. train_model과 test_model 저장"
   ]
  },
  {
   "cell_type": "code",
   "execution_count": 14,
   "metadata": {},
   "outputs": [],
   "source": [
    "def train_model(model, mode):    \n",
    "    # total number of training epochs\n",
    "    EPOCHS = 200\n",
    "    CHECKPOINT_PATH = \"./saved_model\"\n",
    "    \n",
    "    best_val_acc = 0\n",
    "    current_learning_rate = INITIAL_LR\n",
    "\n",
    "    print(\"==> Training starts!\")\n",
    "\n",
    "    start = time.time()\n",
    "    optimizer = torch.optim.SGD(model.parameters(), lr=INITIAL_LR, momentum=MOMENTUM, weight_decay=REG)\n",
    "    scheduler = torch.optim.lr_scheduler.MultiStepLR(optimizer, milestones = [60, 120, 160], gamma = 0.2)\n",
    "    \n",
    "    for i in tqdm(range(0, EPOCHS)):\n",
    "        model.train()\n",
    "        \n",
    "        # this help you compute the training accuracy\n",
    "        total_examples = 0\n",
    "        correct_examples = 0\n",
    "        train_loss = 0\n",
    "\n",
    "        \n",
    "        '''\n",
    "        train loop\n",
    "        '''\n",
    "        # Train the model for 1 epoch.\n",
    "        for batch_idx, (inputs, targets) in enumerate(train_loader):\n",
    "            inputs, targets = inputs.to(device).float(), targets.to(device).long() #inputs과 targets는 gpu로 계산\n",
    "\n",
    "            # compute the output and loss\n",
    "            y_preds = model(inputs)        \n",
    "            loss = criterion(y_preds,targets)\n",
    "            train_loss += loss.item()\n",
    "\n",
    "            # zero the gradient\n",
    "            optimizer.zero_grad()\n",
    "\n",
    "            # backpropagation\n",
    "            loss.backward()\n",
    "\n",
    "            # apply gradient and update the weights\n",
    "            optimizer.step()\n",
    "            \n",
    "\n",
    "\n",
    "            # count the number of correctly predicted samples in the current batch\n",
    "            y_preds_class = torch.argmax(y_preds, dim=1)\n",
    "            correct_examples += (targets == y_preds_class).sum().item()\n",
    "            total_examples += targets.size(0)\n",
    "        \n",
    "        # scheduler\n",
    "        scheduler.step()\n",
    "        avg_loss_tr = train_loss / len(train_loader) ###\n",
    "        avg_acc_tr = correct_examples / total_examples ### \n",
    "\n",
    "        \n",
    "                                                      \n",
    "        '''\n",
    "        validation loop\n",
    "        '''\n",
    "                                                      \n",
    "        # switch to eval mode\n",
    "        model.eval()\n",
    "        total_examples = 0\n",
    "        correct_examples = 0\n",
    "        val_loss = 0 # again, track the validation loss if you want\n",
    "        \n",
    "        # disable gradient during validation, which can save GPU memory\n",
    "        with torch.no_grad():\n",
    "            for batch_idx, (inputs, targets) in enumerate(val_loader):\n",
    "                inputs, targets = inputs.to(device).float(), targets.to(device).long()\n",
    "\n",
    "                # compute the output and loss\n",
    "                y_preds = model(inputs)        \n",
    "                loss = criterion(y_preds,targets)\n",
    "                val_loss += loss.item()\n",
    "\n",
    "                # count the number of correctly predicted samples in the current batch\n",
    "                y_preds_class = torch.argmax(y_preds, dim=1)\n",
    "                correct_examples += (targets == y_preds_class).sum().item()\n",
    "                total_examples += targets.size(0)\n",
    "\n",
    "        avg_loss_val = val_loss / len(val_loader)\n",
    "        avg_acc_val = correct_examples / total_examples\n",
    "\n",
    "                                                      \n",
    "        # save the model checkpoint\n",
    "        if avg_acc_val > best_val_acc :\n",
    "            best_val_acc = avg_acc_val\n",
    "            if not os.path.exists(CHECKPOINT_PATH):\n",
    "                os.makedirs(CHECKPOINT_PATH)\n",
    "\n",
    "            state = {'state_dict': model.state_dict(),\n",
    "                     'epoch': i,\n",
    "                     'lr': current_learning_rate}\n",
    "            \n",
    "            torch.save(state, os.path.join(CHECKPOINT_PATH, '{}.pth'.format(mode)))\n",
    "        \n",
    "        if i % 10 == 9 :  #epoch를 5개씩 출력해서 봐보겠다\n",
    "            end = time.time()\n",
    "            diff_time = round(end - start,2)\n",
    "            print(\"Epoch %d:\" %(i+1), f\"progress time is {diff_time} sec\")\n",
    "            print(\"Training loss: %.4f, Training accuracy: %.4f\" %(avg_loss_tr, avg_acc_tr)) \n",
    "            print(\"Validation loss: %.4f, Validation accuracy: %.4f\" % (avg_loss_val, avg_acc_val))\n",
    "        time.sleep(0.1)\n",
    "    print(f\"==> Optimization finished! Best validation accuracy: {best_val_acc:.4f}\")                                    \n",
    "\n",
    "    return model #결국 history 변수를 지정해서 epoch 1개씩 loss와 accuracy값을 저장하려고 return 해야됨"
   ]
  },
  {
   "cell_type": "code",
   "execution_count": 15,
   "metadata": {},
   "outputs": [],
   "source": [
    "def test_model(model):\n",
    "    model.to(device)\n",
    "    model.eval()\n",
    "\n",
    "    total_examples = 0\n",
    "    correct_examples = 0\n",
    "    softmax = torch.nn.Softmax(dim=1)\n",
    "\n",
    "    with torch.no_grad():\n",
    "        for batch_idx, (inputs, targets) in enumerate(test_loader):\n",
    "            inputs, targets = inputs.to(device), targets.to(device)\n",
    "            pred = model(inputs)\n",
    "            total_examples += inputs.shape[0]\n",
    "\n",
    "            out = softmax(pred)\n",
    "            out = torch.max(out, 1)\n",
    "\n",
    "            correct_examples += torch.sum(targets==out[1]).cpu().data.numpy().tolist()\n",
    "\n",
    "    avg_acc = correct_examples / total_examples\n",
    "    print(\"Total examples is {}, correct examples is {}; Test accuracy: {}\".format(total_examples, correct_examples, avg_acc))"
   ]
  },
  {
   "cell_type": "code",
   "execution_count": 16,
   "metadata": {},
   "outputs": [],
   "source": [
    "INITIAL_LR = 0.1\n",
    "\n",
    "# momentum for optimizer\n",
    "MOMENTUM = 0.9\n",
    "\n",
    "# L2 regularization strength\n",
    "REG = 5e-4\n",
    "\n",
    "# Define loss\n",
    "criterion = nn.CrossEntropyLoss()"
   ]
  },
  {
   "cell_type": "markdown",
   "metadata": {},
   "source": [
    "## 5. Wide_resnet model을 train 시켜보자\n",
    "- net : 28x1, 28x2, 28x4, 28x10"
   ]
  },
  {
   "cell_type": "markdown",
   "metadata": {},
   "source": [
    "## CIFAR10"
   ]
  },
  {
   "cell_type": "code",
   "execution_count": 7,
   "metadata": {},
   "outputs": [
    {
     "name": "stdout",
     "output_type": "stream",
     "text": [
      "| Wide-Resnet 28x2\n",
      "The model is deployed to cuda:1\n"
     ]
    }
   ],
   "source": [
    "device = torch.device(\"cuda:1\" if torch.cuda.is_available() else \"cpu\")\n",
    "model = Wide_ResNet(28, 2, 0.3, 10).to(device)\n",
    "print(\"The model is deployed to\", device)"
   ]
  },
  {
   "cell_type": "code",
   "execution_count": 8,
   "metadata": {},
   "outputs": [
    {
     "name": "stdout",
     "output_type": "stream",
     "text": [
      "==> Training starts!\n"
     ]
    },
    {
     "name": "stderr",
     "output_type": "stream",
     "text": [
      "  5%|▌         | 10/200 [03:44<1:11:39, 22.63s/it]"
     ]
    },
    {
     "name": "stdout",
     "output_type": "stream",
     "text": [
      "Epoch 10: progress time is 224.32 sec\n",
      "Training loss: 0.5250, Training accuracy: 0.8198\n",
      "Validation loss: 0.9001, Validation accuracy: 0.7096\n"
     ]
    },
    {
     "name": "stderr",
     "output_type": "stream",
     "text": [
      " 10%|█         | 20/200 [07:33<1:08:27, 22.82s/it]"
     ]
    },
    {
     "name": "stdout",
     "output_type": "stream",
     "text": [
      "Epoch 20: progress time is 453.14 sec\n",
      "Training loss: 0.4191, Training accuracy: 0.8569\n",
      "Validation loss: 1.0043, Validation accuracy: 0.7032\n"
     ]
    },
    {
     "name": "stderr",
     "output_type": "stream",
     "text": [
      " 15%|█▌        | 30/200 [11:21<1:04:49, 22.88s/it]"
     ]
    },
    {
     "name": "stdout",
     "output_type": "stream",
     "text": [
      "Epoch 30: progress time is 681.23 sec\n",
      "Training loss: 0.3838, Training accuracy: 0.8677\n",
      "Validation loss: 0.4551, Validation accuracy: 0.8440\n"
     ]
    },
    {
     "name": "stderr",
     "output_type": "stream",
     "text": [
      " 20%|██        | 40/200 [15:08<1:00:30, 22.69s/it]"
     ]
    },
    {
     "name": "stdout",
     "output_type": "stream",
     "text": [
      "Epoch 40: progress time is 908.16 sec\n",
      "Training loss: 0.3492, Training accuracy: 0.8797\n",
      "Validation loss: 0.6695, Validation accuracy: 0.7796\n"
     ]
    },
    {
     "name": "stderr",
     "output_type": "stream",
     "text": [
      " 25%|██▌       | 50/200 [18:55<56:55, 22.77s/it]"
     ]
    },
    {
     "name": "stdout",
     "output_type": "stream",
     "text": [
      "Epoch 50: progress time is 1135.7 sec\n",
      "Training loss: 0.3518, Training accuracy: 0.8797\n",
      "Validation loss: 0.5422, Validation accuracy: 0.8148\n"
     ]
    },
    {
     "name": "stderr",
     "output_type": "stream",
     "text": [
      " 30%|███       | 60/200 [22:43<53:07, 22.77s/it]"
     ]
    },
    {
     "name": "stdout",
     "output_type": "stream",
     "text": [
      "Epoch 60: progress time is 1363.58 sec\n",
      "Training loss: 0.3495, Training accuracy: 0.8793\n",
      "Validation loss: 0.5654, Validation accuracy: 0.8120\n"
     ]
    },
    {
     "name": "stderr",
     "output_type": "stream",
     "text": [
      " 35%|███▌      | 70/200 [26:31<49:29, 22.85s/it]"
     ]
    },
    {
     "name": "stdout",
     "output_type": "stream",
     "text": [
      "Epoch 70: progress time is 1591.51 sec\n",
      "Training loss: 0.0903, Training accuracy: 0.9692\n",
      "Validation loss: 0.2905, Validation accuracy: 0.9116\n"
     ]
    },
    {
     "name": "stderr",
     "output_type": "stream",
     "text": [
      " 40%|████      | 80/200 [30:35<48:16, 24.14s/it]"
     ]
    },
    {
     "name": "stdout",
     "output_type": "stream",
     "text": [
      "Epoch 80: progress time is 1835.15 sec\n",
      "Training loss: 0.1121, Training accuracy: 0.9621\n",
      "Validation loss: 0.2695, Validation accuracy: 0.9192\n"
     ]
    },
    {
     "name": "stderr",
     "output_type": "stream",
     "text": [
      " 45%|████▌     | 90/200 [34:23<41:54, 22.86s/it]"
     ]
    },
    {
     "name": "stdout",
     "output_type": "stream",
     "text": [
      "Epoch 90: progress time is 2063.11 sec\n",
      "Training loss: 0.1071, Training accuracy: 0.9640\n",
      "Validation loss: 0.2978, Validation accuracy: 0.9100\n"
     ]
    },
    {
     "name": "stderr",
     "output_type": "stream",
     "text": [
      " 50%|█████     | 100/200 [38:10<37:48, 22.68s/it]"
     ]
    },
    {
     "name": "stdout",
     "output_type": "stream",
     "text": [
      "Epoch 100: progress time is 2290.08 sec\n",
      "Training loss: 0.1153, Training accuracy: 0.9607\n",
      "Validation loss: 0.3672, Validation accuracy: 0.8924\n"
     ]
    },
    {
     "name": "stderr",
     "output_type": "stream",
     "text": [
      " 55%|█████▌    | 110/200 [41:59<34:34, 23.05s/it]"
     ]
    },
    {
     "name": "stdout",
     "output_type": "stream",
     "text": [
      "Epoch 110: progress time is 2519.42 sec\n",
      "Training loss: 0.1145, Training accuracy: 0.9613\n",
      "Validation loss: 0.2929, Validation accuracy: 0.9072\n"
     ]
    },
    {
     "name": "stderr",
     "output_type": "stream",
     "text": [
      " 60%|██████    | 120/200 [45:47<30:19, 22.75s/it]"
     ]
    },
    {
     "name": "stdout",
     "output_type": "stream",
     "text": [
      "Epoch 120: progress time is 2746.94 sec\n",
      "Training loss: 0.0956, Training accuracy: 0.9680\n",
      "Validation loss: 0.2939, Validation accuracy: 0.9116\n"
     ]
    },
    {
     "name": "stderr",
     "output_type": "stream",
     "text": [
      " 65%|██████▌   | 130/200 [49:35<26:33, 22.77s/it]"
     ]
    },
    {
     "name": "stdout",
     "output_type": "stream",
     "text": [
      "Epoch 130: progress time is 2975.01 sec\n",
      "Training loss: 0.0098, Training accuracy: 0.9988\n",
      "Validation loss: 0.2032, Validation accuracy: 0.9448\n"
     ]
    },
    {
     "name": "stderr",
     "output_type": "stream",
     "text": [
      " 70%|███████   | 140/200 [53:23<22:49, 22.83s/it]"
     ]
    },
    {
     "name": "stdout",
     "output_type": "stream",
     "text": [
      "Epoch 140: progress time is 3202.98 sec\n",
      "Training loss: 0.0067, Training accuracy: 0.9993\n",
      "Validation loss: 0.2145, Validation accuracy: 0.9444\n"
     ]
    },
    {
     "name": "stderr",
     "output_type": "stream",
     "text": [
      " 75%|███████▌  | 150/200 [57:10<18:58, 22.77s/it]"
     ]
    },
    {
     "name": "stdout",
     "output_type": "stream",
     "text": [
      "Epoch 150: progress time is 3430.79 sec\n",
      "Training loss: 0.0049, Training accuracy: 0.9997\n",
      "Validation loss: 0.1946, Validation accuracy: 0.9456\n"
     ]
    },
    {
     "name": "stderr",
     "output_type": "stream",
     "text": [
      " 80%|████████  | 160/200 [1:00:59<15:12, 22.82s/it]"
     ]
    },
    {
     "name": "stdout",
     "output_type": "stream",
     "text": [
      "Epoch 160: progress time is 3658.98 sec\n",
      "Training loss: 0.0084, Training accuracy: 0.9988\n",
      "Validation loss: 0.2011, Validation accuracy: 0.9440\n"
     ]
    },
    {
     "name": "stderr",
     "output_type": "stream",
     "text": [
      " 85%|████████▌ | 170/200 [1:04:46<11:22, 22.75s/it]"
     ]
    },
    {
     "name": "stdout",
     "output_type": "stream",
     "text": [
      "Epoch 170: progress time is 3886.41 sec\n",
      "Training loss: 0.0038, Training accuracy: 0.9998\n",
      "Validation loss: 0.1798, Validation accuracy: 0.9512\n"
     ]
    },
    {
     "name": "stderr",
     "output_type": "stream",
     "text": [
      " 90%|█████████ | 180/200 [1:08:33<07:33, 22.65s/it]"
     ]
    },
    {
     "name": "stdout",
     "output_type": "stream",
     "text": [
      "Epoch 180: progress time is 4113.24 sec\n",
      "Training loss: 0.0036, Training accuracy: 0.9999\n",
      "Validation loss: 0.1907, Validation accuracy: 0.9460\n"
     ]
    },
    {
     "name": "stderr",
     "output_type": "stream",
     "text": [
      " 95%|█████████▌| 190/200 [1:12:20<03:47, 22.72s/it]"
     ]
    },
    {
     "name": "stdout",
     "output_type": "stream",
     "text": [
      "Epoch 190: progress time is 4340.18 sec\n",
      "Training loss: 0.0040, Training accuracy: 0.9999\n",
      "Validation loss: 0.1786, Validation accuracy: 0.9508\n"
     ]
    },
    {
     "name": "stderr",
     "output_type": "stream",
     "text": [
      "100%|██████████| 200/200 [1:16:09<00:00, 22.85s/it]"
     ]
    },
    {
     "name": "stdout",
     "output_type": "stream",
     "text": [
      "Epoch 200: progress time is 4569.54 sec\n",
      "Training loss: 0.0035, Training accuracy: 0.9998\n",
      "Validation loss: 0.1725, Validation accuracy: 0.9484\n",
      "==> Optimization finished! Best validation accuracy: 0.9552\n"
     ]
    },
    {
     "name": "stderr",
     "output_type": "stream",
     "text": [
      "\n"
     ]
    },
    {
     "data": {
      "text/plain": [
       "Wide_ResNet(\n",
       "  (conv1): Conv2d(3, 16, kernel_size=(3, 3), stride=(1, 1), padding=(1, 1))\n",
       "  (bn1): BatchNorm2d(16, eps=1e-05, momentum=0.9, affine=True, track_running_stats=True)\n",
       "  (M_relu): M_relu()\n",
       "  (layer1): Sequential(\n",
       "    (0): M_BasicBlock(\n",
       "      (conv1): Conv2d(16, 32, kernel_size=(3, 3), stride=(1, 1), padding=(1, 1), bias=False)\n",
       "      (bn1): BatchNorm2d(32, eps=1e-05, momentum=0.1, affine=True, track_running_stats=True)\n",
       "      (M_relu1): M_relu()\n",
       "      (dropout): Dropout(p=0.3, inplace=False)\n",
       "      (conv2): Conv2d(32, 32, kernel_size=(3, 3), stride=(1, 1), padding=(1, 1), bias=False)\n",
       "      (bn2): BatchNorm2d(32, eps=1e-05, momentum=0.1, affine=True, track_running_stats=True)\n",
       "      (M_relu2): M_relu()\n",
       "      (shortcut): Sequential(\n",
       "        (0): Conv2d(16, 32, kernel_size=(1, 1), stride=(1, 1), bias=False)\n",
       "        (1): BatchNorm2d(32, eps=1e-05, momentum=0.1, affine=True, track_running_stats=True)\n",
       "      )\n",
       "    )\n",
       "    (1): M_BasicBlock(\n",
       "      (conv1): Conv2d(32, 32, kernel_size=(3, 3), stride=(1, 1), padding=(1, 1), bias=False)\n",
       "      (bn1): BatchNorm2d(32, eps=1e-05, momentum=0.1, affine=True, track_running_stats=True)\n",
       "      (M_relu1): M_relu()\n",
       "      (dropout): Dropout(p=0.3, inplace=False)\n",
       "      (conv2): Conv2d(32, 32, kernel_size=(3, 3), stride=(1, 1), padding=(1, 1), bias=False)\n",
       "      (bn2): BatchNorm2d(32, eps=1e-05, momentum=0.1, affine=True, track_running_stats=True)\n",
       "      (M_relu2): M_relu()\n",
       "      (shortcut): Sequential()\n",
       "    )\n",
       "    (2): M_BasicBlock(\n",
       "      (conv1): Conv2d(32, 32, kernel_size=(3, 3), stride=(1, 1), padding=(1, 1), bias=False)\n",
       "      (bn1): BatchNorm2d(32, eps=1e-05, momentum=0.1, affine=True, track_running_stats=True)\n",
       "      (M_relu1): M_relu()\n",
       "      (dropout): Dropout(p=0.3, inplace=False)\n",
       "      (conv2): Conv2d(32, 32, kernel_size=(3, 3), stride=(1, 1), padding=(1, 1), bias=False)\n",
       "      (bn2): BatchNorm2d(32, eps=1e-05, momentum=0.1, affine=True, track_running_stats=True)\n",
       "      (M_relu2): M_relu()\n",
       "      (shortcut): Sequential()\n",
       "    )\n",
       "    (3): M_BasicBlock(\n",
       "      (conv1): Conv2d(32, 32, kernel_size=(3, 3), stride=(1, 1), padding=(1, 1), bias=False)\n",
       "      (bn1): BatchNorm2d(32, eps=1e-05, momentum=0.1, affine=True, track_running_stats=True)\n",
       "      (M_relu1): M_relu()\n",
       "      (dropout): Dropout(p=0.3, inplace=False)\n",
       "      (conv2): Conv2d(32, 32, kernel_size=(3, 3), stride=(1, 1), padding=(1, 1), bias=False)\n",
       "      (bn2): BatchNorm2d(32, eps=1e-05, momentum=0.1, affine=True, track_running_stats=True)\n",
       "      (M_relu2): M_relu()\n",
       "      (shortcut): Sequential()\n",
       "    )\n",
       "  )\n",
       "  (layer2): Sequential(\n",
       "    (0): M_BasicBlock(\n",
       "      (conv1): Conv2d(32, 64, kernel_size=(3, 3), stride=(1, 1), padding=(1, 1), bias=False)\n",
       "      (bn1): BatchNorm2d(64, eps=1e-05, momentum=0.1, affine=True, track_running_stats=True)\n",
       "      (M_relu1): M_relu()\n",
       "      (dropout): Dropout(p=0.3, inplace=False)\n",
       "      (conv2): Conv2d(64, 64, kernel_size=(3, 3), stride=(2, 2), padding=(1, 1), bias=False)\n",
       "      (bn2): BatchNorm2d(64, eps=1e-05, momentum=0.1, affine=True, track_running_stats=True)\n",
       "      (M_relu2): M_relu()\n",
       "      (shortcut): Sequential(\n",
       "        (0): Conv2d(32, 64, kernel_size=(1, 1), stride=(2, 2), bias=False)\n",
       "        (1): BatchNorm2d(64, eps=1e-05, momentum=0.1, affine=True, track_running_stats=True)\n",
       "      )\n",
       "    )\n",
       "    (1): M_BasicBlock(\n",
       "      (conv1): Conv2d(64, 64, kernel_size=(3, 3), stride=(1, 1), padding=(1, 1), bias=False)\n",
       "      (bn1): BatchNorm2d(64, eps=1e-05, momentum=0.1, affine=True, track_running_stats=True)\n",
       "      (M_relu1): M_relu()\n",
       "      (dropout): Dropout(p=0.3, inplace=False)\n",
       "      (conv2): Conv2d(64, 64, kernel_size=(3, 3), stride=(1, 1), padding=(1, 1), bias=False)\n",
       "      (bn2): BatchNorm2d(64, eps=1e-05, momentum=0.1, affine=True, track_running_stats=True)\n",
       "      (M_relu2): M_relu()\n",
       "      (shortcut): Sequential()\n",
       "    )\n",
       "    (2): M_BasicBlock(\n",
       "      (conv1): Conv2d(64, 64, kernel_size=(3, 3), stride=(1, 1), padding=(1, 1), bias=False)\n",
       "      (bn1): BatchNorm2d(64, eps=1e-05, momentum=0.1, affine=True, track_running_stats=True)\n",
       "      (M_relu1): M_relu()\n",
       "      (dropout): Dropout(p=0.3, inplace=False)\n",
       "      (conv2): Conv2d(64, 64, kernel_size=(3, 3), stride=(1, 1), padding=(1, 1), bias=False)\n",
       "      (bn2): BatchNorm2d(64, eps=1e-05, momentum=0.1, affine=True, track_running_stats=True)\n",
       "      (M_relu2): M_relu()\n",
       "      (shortcut): Sequential()\n",
       "    )\n",
       "    (3): M_BasicBlock(\n",
       "      (conv1): Conv2d(64, 64, kernel_size=(3, 3), stride=(1, 1), padding=(1, 1), bias=False)\n",
       "      (bn1): BatchNorm2d(64, eps=1e-05, momentum=0.1, affine=True, track_running_stats=True)\n",
       "      (M_relu1): M_relu()\n",
       "      (dropout): Dropout(p=0.3, inplace=False)\n",
       "      (conv2): Conv2d(64, 64, kernel_size=(3, 3), stride=(1, 1), padding=(1, 1), bias=False)\n",
       "      (bn2): BatchNorm2d(64, eps=1e-05, momentum=0.1, affine=True, track_running_stats=True)\n",
       "      (M_relu2): M_relu()\n",
       "      (shortcut): Sequential()\n",
       "    )\n",
       "  )\n",
       "  (layer3): Sequential(\n",
       "    (0): M_BasicBlock(\n",
       "      (conv1): Conv2d(64, 128, kernel_size=(3, 3), stride=(1, 1), padding=(1, 1), bias=False)\n",
       "      (bn1): BatchNorm2d(128, eps=1e-05, momentum=0.1, affine=True, track_running_stats=True)\n",
       "      (M_relu1): M_relu()\n",
       "      (dropout): Dropout(p=0.3, inplace=False)\n",
       "      (conv2): Conv2d(128, 128, kernel_size=(3, 3), stride=(2, 2), padding=(1, 1), bias=False)\n",
       "      (bn2): BatchNorm2d(128, eps=1e-05, momentum=0.1, affine=True, track_running_stats=True)\n",
       "      (M_relu2): M_relu()\n",
       "      (shortcut): Sequential(\n",
       "        (0): Conv2d(64, 128, kernel_size=(1, 1), stride=(2, 2), bias=False)\n",
       "        (1): BatchNorm2d(128, eps=1e-05, momentum=0.1, affine=True, track_running_stats=True)\n",
       "      )\n",
       "    )\n",
       "    (1): M_BasicBlock(\n",
       "      (conv1): Conv2d(128, 128, kernel_size=(3, 3), stride=(1, 1), padding=(1, 1), bias=False)\n",
       "      (bn1): BatchNorm2d(128, eps=1e-05, momentum=0.1, affine=True, track_running_stats=True)\n",
       "      (M_relu1): M_relu()\n",
       "      (dropout): Dropout(p=0.3, inplace=False)\n",
       "      (conv2): Conv2d(128, 128, kernel_size=(3, 3), stride=(1, 1), padding=(1, 1), bias=False)\n",
       "      (bn2): BatchNorm2d(128, eps=1e-05, momentum=0.1, affine=True, track_running_stats=True)\n",
       "      (M_relu2): M_relu()\n",
       "      (shortcut): Sequential()\n",
       "    )\n",
       "    (2): M_BasicBlock(\n",
       "      (conv1): Conv2d(128, 128, kernel_size=(3, 3), stride=(1, 1), padding=(1, 1), bias=False)\n",
       "      (bn1): BatchNorm2d(128, eps=1e-05, momentum=0.1, affine=True, track_running_stats=True)\n",
       "      (M_relu1): M_relu()\n",
       "      (dropout): Dropout(p=0.3, inplace=False)\n",
       "      (conv2): Conv2d(128, 128, kernel_size=(3, 3), stride=(1, 1), padding=(1, 1), bias=False)\n",
       "      (bn2): BatchNorm2d(128, eps=1e-05, momentum=0.1, affine=True, track_running_stats=True)\n",
       "      (M_relu2): M_relu()\n",
       "      (shortcut): Sequential()\n",
       "    )\n",
       "    (3): M_BasicBlock(\n",
       "      (conv1): Conv2d(128, 128, kernel_size=(3, 3), stride=(1, 1), padding=(1, 1), bias=False)\n",
       "      (bn1): BatchNorm2d(128, eps=1e-05, momentum=0.1, affine=True, track_running_stats=True)\n",
       "      (M_relu1): M_relu()\n",
       "      (dropout): Dropout(p=0.3, inplace=False)\n",
       "      (conv2): Conv2d(128, 128, kernel_size=(3, 3), stride=(1, 1), padding=(1, 1), bias=False)\n",
       "      (bn2): BatchNorm2d(128, eps=1e-05, momentum=0.1, affine=True, track_running_stats=True)\n",
       "      (M_relu2): M_relu()\n",
       "      (shortcut): Sequential()\n",
       "    )\n",
       "  )\n",
       "  (linear): Linear(in_features=128, out_features=10, bias=True)\n",
       ")"
      ]
     },
     "execution_count": 8,
     "metadata": {},
     "output_type": "execute_result"
    }
   ],
   "source": [
    "train_model(model, \"resnet28x2_cifar10\")"
   ]
  },
  {
   "cell_type": "markdown",
   "metadata": {},
   "source": [
    "## CIFAR100"
   ]
  },
  {
   "cell_type": "code",
   "execution_count": 20,
   "metadata": {},
   "outputs": [
    {
     "name": "stdout",
     "output_type": "stream",
     "text": [
      "| Wide-Resnet 28x2\n",
      "The model is deployed to cuda:0\n"
     ]
    }
   ],
   "source": [
    "device = torch.device(\"cuda:0\" if torch.cuda.is_available() else \"cpu\")\n",
    "model = Wide_ResNet(28, 2, 0.3, 100).to(device)\n",
    "print(\"The model is deployed to\", device)"
   ]
  },
  {
   "cell_type": "code",
   "execution_count": 21,
   "metadata": {},
   "outputs": [
    {
     "name": "stdout",
     "output_type": "stream",
     "text": [
      "==> Training starts!\n"
     ]
    },
    {
     "name": "stderr",
     "output_type": "stream",
     "text": [
      "  5%|▌         | 10/200 [03:58<1:17:13, 24.39s/it]"
     ]
    },
    {
     "name": "stdout",
     "output_type": "stream",
     "text": [
      "Epoch 10: progress time is 238.76 sec\n",
      "Training loss: 1.6447, Training accuracy: 0.5396\n",
      "Validation loss: 2.0676, Validation accuracy: 0.4512\n"
     ]
    },
    {
     "name": "stderr",
     "output_type": "stream",
     "text": [
      " 10%|█         | 20/200 [08:07<1:14:53, 24.96s/it]"
     ]
    },
    {
     "name": "stdout",
     "output_type": "stream",
     "text": [
      "Epoch 20: progress time is 487.41 sec\n",
      "Training loss: 1.3349, Training accuracy: 0.6189\n",
      "Validation loss: 1.8437, Validation accuracy: 0.4924\n"
     ]
    },
    {
     "name": "stderr",
     "output_type": "stream",
     "text": [
      " 15%|█▌        | 30/200 [12:12<1:09:33, 24.55s/it]"
     ]
    },
    {
     "name": "stdout",
     "output_type": "stream",
     "text": [
      "Epoch 30: progress time is 732.9 sec\n",
      "Training loss: 1.2474, Training accuracy: 0.6410\n",
      "Validation loss: 1.8956, Validation accuracy: 0.5024\n"
     ]
    },
    {
     "name": "stderr",
     "output_type": "stream",
     "text": [
      " 20%|██        | 40/200 [16:17<1:05:09, 24.43s/it]"
     ]
    },
    {
     "name": "stdout",
     "output_type": "stream",
     "text": [
      "Epoch 40: progress time is 977.36 sec\n",
      "Training loss: 1.2038, Training accuracy: 0.6526\n",
      "Validation loss: 1.8560, Validation accuracy: 0.5152\n"
     ]
    },
    {
     "name": "stderr",
     "output_type": "stream",
     "text": [
      " 25%|██▌       | 50/200 [20:22<1:00:59, 24.39s/it]"
     ]
    },
    {
     "name": "stdout",
     "output_type": "stream",
     "text": [
      "Epoch 50: progress time is 1222.48 sec\n",
      "Training loss: 1.1622, Training accuracy: 0.6637\n",
      "Validation loss: 1.6686, Validation accuracy: 0.5416\n"
     ]
    },
    {
     "name": "stderr",
     "output_type": "stream",
     "text": [
      " 30%|███       | 60/200 [24:27<57:07, 24.48s/it]"
     ]
    },
    {
     "name": "stdout",
     "output_type": "stream",
     "text": [
      "Epoch 60: progress time is 1467.31 sec\n",
      "Training loss: 1.1668, Training accuracy: 0.6623\n",
      "Validation loss: 1.7466, Validation accuracy: 0.5300\n"
     ]
    },
    {
     "name": "stderr",
     "output_type": "stream",
     "text": [
      " 35%|███▌      | 70/200 [28:32<53:01, 24.47s/it]"
     ]
    },
    {
     "name": "stdout",
     "output_type": "stream",
     "text": [
      "Epoch 70: progress time is 1711.93 sec\n",
      "Training loss: 0.4449, Training accuracy: 0.8658\n",
      "Validation loss: 1.1488, Validation accuracy: 0.6836\n"
     ]
    },
    {
     "name": "stderr",
     "output_type": "stream",
     "text": [
      " 40%|████      | 80/200 [32:36<48:53, 24.45s/it]"
     ]
    },
    {
     "name": "stdout",
     "output_type": "stream",
     "text": [
      "Epoch 80: progress time is 1956.75 sec\n",
      "Training loss: 0.4459, Training accuracy: 0.8653\n",
      "Validation loss: 1.2542, Validation accuracy: 0.6656\n"
     ]
    },
    {
     "name": "stderr",
     "output_type": "stream",
     "text": [
      " 45%|████▌     | 90/200 [36:41<44:45, 24.41s/it]"
     ]
    },
    {
     "name": "stdout",
     "output_type": "stream",
     "text": [
      "Epoch 90: progress time is 2201.59 sec\n",
      "Training loss: 0.4162, Training accuracy: 0.8721\n",
      "Validation loss: 1.2779, Validation accuracy: 0.6608\n"
     ]
    },
    {
     "name": "stderr",
     "output_type": "stream",
     "text": [
      " 50%|█████     | 100/200 [40:45<40:33, 24.33s/it]"
     ]
    },
    {
     "name": "stdout",
     "output_type": "stream",
     "text": [
      "Epoch 100: progress time is 2445.33 sec\n",
      "Training loss: 0.4003, Training accuracy: 0.8761\n",
      "Validation loss: 1.3734, Validation accuracy: 0.6456\n"
     ]
    },
    {
     "name": "stderr",
     "output_type": "stream",
     "text": [
      " 55%|█████▌    | 110/200 [44:47<35:53, 23.93s/it]"
     ]
    },
    {
     "name": "stdout",
     "output_type": "stream",
     "text": [
      "Epoch 110: progress time is 2687.16 sec\n",
      "Training loss: 0.3747, Training accuracy: 0.8858\n",
      "Validation loss: 1.3204, Validation accuracy: 0.6620\n"
     ]
    },
    {
     "name": "stderr",
     "output_type": "stream",
     "text": [
      " 60%|██████    | 120/200 [48:50<32:19, 24.24s/it]"
     ]
    },
    {
     "name": "stdout",
     "output_type": "stream",
     "text": [
      "Epoch 120: progress time is 2930.51 sec\n",
      "Training loss: 0.3954, Training accuracy: 0.8797\n",
      "Validation loss: 1.3428, Validation accuracy: 0.6556\n"
     ]
    },
    {
     "name": "stderr",
     "output_type": "stream",
     "text": [
      " 65%|██████▌   | 130/200 [52:53<28:34, 24.49s/it]"
     ]
    },
    {
     "name": "stdout",
     "output_type": "stream",
     "text": [
      "Epoch 130: progress time is 3173.8 sec\n",
      "Training loss: 0.0682, Training accuracy: 0.9908\n",
      "Validation loss: 1.0388, Validation accuracy: 0.7368\n"
     ]
    },
    {
     "name": "stderr",
     "output_type": "stream",
     "text": [
      " 70%|███████   | 140/200 [56:59<24:29, 24.50s/it]"
     ]
    },
    {
     "name": "stdout",
     "output_type": "stream",
     "text": [
      "Epoch 140: progress time is 3419.71 sec\n",
      "Training loss: 0.0503, Training accuracy: 0.9947\n",
      "Validation loss: 1.0276, Validation accuracy: 0.7324\n"
     ]
    },
    {
     "name": "stderr",
     "output_type": "stream",
     "text": [
      " 75%|███████▌  | 150/200 [1:01:02<20:19, 24.38s/it]"
     ]
    },
    {
     "name": "stdout",
     "output_type": "stream",
     "text": [
      "Epoch 150: progress time is 3662.47 sec\n",
      "Training loss: 0.0451, Training accuracy: 0.9957\n",
      "Validation loss: 1.0764, Validation accuracy: 0.7404\n"
     ]
    },
    {
     "name": "stderr",
     "output_type": "stream",
     "text": [
      " 80%|████████  | 160/200 [1:05:07<16:21, 24.54s/it]"
     ]
    },
    {
     "name": "stdout",
     "output_type": "stream",
     "text": [
      "Epoch 160: progress time is 3906.94 sec\n",
      "Training loss: 0.0415, Training accuracy: 0.9962\n",
      "Validation loss: 1.0623, Validation accuracy: 0.7268\n"
     ]
    },
    {
     "name": "stderr",
     "output_type": "stream",
     "text": [
      " 85%|████████▌ | 170/200 [1:09:11<12:13, 24.45s/it]"
     ]
    },
    {
     "name": "stdout",
     "output_type": "stream",
     "text": [
      "Epoch 170: progress time is 4151.42 sec\n",
      "Training loss: 0.0288, Training accuracy: 0.9987\n",
      "Validation loss: 1.0344, Validation accuracy: 0.7420\n"
     ]
    },
    {
     "name": "stderr",
     "output_type": "stream",
     "text": [
      " 90%|█████████ | 180/200 [1:13:14<08:03, 24.18s/it]"
     ]
    },
    {
     "name": "stdout",
     "output_type": "stream",
     "text": [
      "Epoch 180: progress time is 4394.25 sec\n",
      "Training loss: 0.0274, Training accuracy: 0.9986\n",
      "Validation loss: 1.0371, Validation accuracy: 0.7316\n"
     ]
    },
    {
     "name": "stderr",
     "output_type": "stream",
     "text": [
      " 95%|█████████▌| 190/200 [1:17:17<04:02, 24.29s/it]"
     ]
    },
    {
     "name": "stdout",
     "output_type": "stream",
     "text": [
      "Epoch 190: progress time is 4637.55 sec\n",
      "Training loss: 0.0261, Training accuracy: 0.9990\n",
      "Validation loss: 1.0813, Validation accuracy: 0.7284\n"
     ]
    },
    {
     "name": "stderr",
     "output_type": "stream",
     "text": [
      "100%|██████████| 200/200 [1:21:22<00:00, 24.41s/it]"
     ]
    },
    {
     "name": "stdout",
     "output_type": "stream",
     "text": [
      "Epoch 200: progress time is 4882.08 sec\n",
      "Training loss: 0.0260, Training accuracy: 0.9990\n",
      "Validation loss: 1.0434, Validation accuracy: 0.7440\n",
      "==> Optimization finished! Best validation accuracy: 0.7552\n"
     ]
    },
    {
     "name": "stderr",
     "output_type": "stream",
     "text": [
      "\n"
     ]
    },
    {
     "data": {
      "text/plain": [
       "Wide_ResNet(\n",
       "  (conv1): Conv2d(3, 16, kernel_size=(3, 3), stride=(1, 1), padding=(1, 1))\n",
       "  (bn1): BatchNorm2d(16, eps=1e-05, momentum=0.9, affine=True, track_running_stats=True)\n",
       "  (M_relu): M_relu()\n",
       "  (layer1): Sequential(\n",
       "    (0): M_BasicBlock(\n",
       "      (conv1): Conv2d(16, 32, kernel_size=(3, 3), stride=(1, 1), padding=(1, 1), bias=False)\n",
       "      (bn1): BatchNorm2d(32, eps=1e-05, momentum=0.1, affine=True, track_running_stats=True)\n",
       "      (M_relu1): M_relu()\n",
       "      (dropout): Dropout(p=0.3, inplace=False)\n",
       "      (conv2): Conv2d(32, 32, kernel_size=(3, 3), stride=(1, 1), padding=(1, 1), bias=False)\n",
       "      (bn2): BatchNorm2d(32, eps=1e-05, momentum=0.1, affine=True, track_running_stats=True)\n",
       "      (M_relu2): M_relu()\n",
       "      (shortcut): Sequential(\n",
       "        (0): Conv2d(16, 32, kernel_size=(1, 1), stride=(1, 1), bias=False)\n",
       "        (1): BatchNorm2d(32, eps=1e-05, momentum=0.1, affine=True, track_running_stats=True)\n",
       "      )\n",
       "    )\n",
       "    (1): M_BasicBlock(\n",
       "      (conv1): Conv2d(32, 32, kernel_size=(3, 3), stride=(1, 1), padding=(1, 1), bias=False)\n",
       "      (bn1): BatchNorm2d(32, eps=1e-05, momentum=0.1, affine=True, track_running_stats=True)\n",
       "      (M_relu1): M_relu()\n",
       "      (dropout): Dropout(p=0.3, inplace=False)\n",
       "      (conv2): Conv2d(32, 32, kernel_size=(3, 3), stride=(1, 1), padding=(1, 1), bias=False)\n",
       "      (bn2): BatchNorm2d(32, eps=1e-05, momentum=0.1, affine=True, track_running_stats=True)\n",
       "      (M_relu2): M_relu()\n",
       "      (shortcut): Sequential()\n",
       "    )\n",
       "    (2): M_BasicBlock(\n",
       "      (conv1): Conv2d(32, 32, kernel_size=(3, 3), stride=(1, 1), padding=(1, 1), bias=False)\n",
       "      (bn1): BatchNorm2d(32, eps=1e-05, momentum=0.1, affine=True, track_running_stats=True)\n",
       "      (M_relu1): M_relu()\n",
       "      (dropout): Dropout(p=0.3, inplace=False)\n",
       "      (conv2): Conv2d(32, 32, kernel_size=(3, 3), stride=(1, 1), padding=(1, 1), bias=False)\n",
       "      (bn2): BatchNorm2d(32, eps=1e-05, momentum=0.1, affine=True, track_running_stats=True)\n",
       "      (M_relu2): M_relu()\n",
       "      (shortcut): Sequential()\n",
       "    )\n",
       "    (3): M_BasicBlock(\n",
       "      (conv1): Conv2d(32, 32, kernel_size=(3, 3), stride=(1, 1), padding=(1, 1), bias=False)\n",
       "      (bn1): BatchNorm2d(32, eps=1e-05, momentum=0.1, affine=True, track_running_stats=True)\n",
       "      (M_relu1): M_relu()\n",
       "      (dropout): Dropout(p=0.3, inplace=False)\n",
       "      (conv2): Conv2d(32, 32, kernel_size=(3, 3), stride=(1, 1), padding=(1, 1), bias=False)\n",
       "      (bn2): BatchNorm2d(32, eps=1e-05, momentum=0.1, affine=True, track_running_stats=True)\n",
       "      (M_relu2): M_relu()\n",
       "      (shortcut): Sequential()\n",
       "    )\n",
       "  )\n",
       "  (layer2): Sequential(\n",
       "    (0): M_BasicBlock(\n",
       "      (conv1): Conv2d(32, 64, kernel_size=(3, 3), stride=(1, 1), padding=(1, 1), bias=False)\n",
       "      (bn1): BatchNorm2d(64, eps=1e-05, momentum=0.1, affine=True, track_running_stats=True)\n",
       "      (M_relu1): M_relu()\n",
       "      (dropout): Dropout(p=0.3, inplace=False)\n",
       "      (conv2): Conv2d(64, 64, kernel_size=(3, 3), stride=(2, 2), padding=(1, 1), bias=False)\n",
       "      (bn2): BatchNorm2d(64, eps=1e-05, momentum=0.1, affine=True, track_running_stats=True)\n",
       "      (M_relu2): M_relu()\n",
       "      (shortcut): Sequential(\n",
       "        (0): Conv2d(32, 64, kernel_size=(1, 1), stride=(2, 2), bias=False)\n",
       "        (1): BatchNorm2d(64, eps=1e-05, momentum=0.1, affine=True, track_running_stats=True)\n",
       "      )\n",
       "    )\n",
       "    (1): M_BasicBlock(\n",
       "      (conv1): Conv2d(64, 64, kernel_size=(3, 3), stride=(1, 1), padding=(1, 1), bias=False)\n",
       "      (bn1): BatchNorm2d(64, eps=1e-05, momentum=0.1, affine=True, track_running_stats=True)\n",
       "      (M_relu1): M_relu()\n",
       "      (dropout): Dropout(p=0.3, inplace=False)\n",
       "      (conv2): Conv2d(64, 64, kernel_size=(3, 3), stride=(1, 1), padding=(1, 1), bias=False)\n",
       "      (bn2): BatchNorm2d(64, eps=1e-05, momentum=0.1, affine=True, track_running_stats=True)\n",
       "      (M_relu2): M_relu()\n",
       "      (shortcut): Sequential()\n",
       "    )\n",
       "    (2): M_BasicBlock(\n",
       "      (conv1): Conv2d(64, 64, kernel_size=(3, 3), stride=(1, 1), padding=(1, 1), bias=False)\n",
       "      (bn1): BatchNorm2d(64, eps=1e-05, momentum=0.1, affine=True, track_running_stats=True)\n",
       "      (M_relu1): M_relu()\n",
       "      (dropout): Dropout(p=0.3, inplace=False)\n",
       "      (conv2): Conv2d(64, 64, kernel_size=(3, 3), stride=(1, 1), padding=(1, 1), bias=False)\n",
       "      (bn2): BatchNorm2d(64, eps=1e-05, momentum=0.1, affine=True, track_running_stats=True)\n",
       "      (M_relu2): M_relu()\n",
       "      (shortcut): Sequential()\n",
       "    )\n",
       "    (3): M_BasicBlock(\n",
       "      (conv1): Conv2d(64, 64, kernel_size=(3, 3), stride=(1, 1), padding=(1, 1), bias=False)\n",
       "      (bn1): BatchNorm2d(64, eps=1e-05, momentum=0.1, affine=True, track_running_stats=True)\n",
       "      (M_relu1): M_relu()\n",
       "      (dropout): Dropout(p=0.3, inplace=False)\n",
       "      (conv2): Conv2d(64, 64, kernel_size=(3, 3), stride=(1, 1), padding=(1, 1), bias=False)\n",
       "      (bn2): BatchNorm2d(64, eps=1e-05, momentum=0.1, affine=True, track_running_stats=True)\n",
       "      (M_relu2): M_relu()\n",
       "      (shortcut): Sequential()\n",
       "    )\n",
       "  )\n",
       "  (layer3): Sequential(\n",
       "    (0): M_BasicBlock(\n",
       "      (conv1): Conv2d(64, 128, kernel_size=(3, 3), stride=(1, 1), padding=(1, 1), bias=False)\n",
       "      (bn1): BatchNorm2d(128, eps=1e-05, momentum=0.1, affine=True, track_running_stats=True)\n",
       "      (M_relu1): M_relu()\n",
       "      (dropout): Dropout(p=0.3, inplace=False)\n",
       "      (conv2): Conv2d(128, 128, kernel_size=(3, 3), stride=(2, 2), padding=(1, 1), bias=False)\n",
       "      (bn2): BatchNorm2d(128, eps=1e-05, momentum=0.1, affine=True, track_running_stats=True)\n",
       "      (M_relu2): M_relu()\n",
       "      (shortcut): Sequential(\n",
       "        (0): Conv2d(64, 128, kernel_size=(1, 1), stride=(2, 2), bias=False)\n",
       "        (1): BatchNorm2d(128, eps=1e-05, momentum=0.1, affine=True, track_running_stats=True)\n",
       "      )\n",
       "    )\n",
       "    (1): M_BasicBlock(\n",
       "      (conv1): Conv2d(128, 128, kernel_size=(3, 3), stride=(1, 1), padding=(1, 1), bias=False)\n",
       "      (bn1): BatchNorm2d(128, eps=1e-05, momentum=0.1, affine=True, track_running_stats=True)\n",
       "      (M_relu1): M_relu()\n",
       "      (dropout): Dropout(p=0.3, inplace=False)\n",
       "      (conv2): Conv2d(128, 128, kernel_size=(3, 3), stride=(1, 1), padding=(1, 1), bias=False)\n",
       "      (bn2): BatchNorm2d(128, eps=1e-05, momentum=0.1, affine=True, track_running_stats=True)\n",
       "      (M_relu2): M_relu()\n",
       "      (shortcut): Sequential()\n",
       "    )\n",
       "    (2): M_BasicBlock(\n",
       "      (conv1): Conv2d(128, 128, kernel_size=(3, 3), stride=(1, 1), padding=(1, 1), bias=False)\n",
       "      (bn1): BatchNorm2d(128, eps=1e-05, momentum=0.1, affine=True, track_running_stats=True)\n",
       "      (M_relu1): M_relu()\n",
       "      (dropout): Dropout(p=0.3, inplace=False)\n",
       "      (conv2): Conv2d(128, 128, kernel_size=(3, 3), stride=(1, 1), padding=(1, 1), bias=False)\n",
       "      (bn2): BatchNorm2d(128, eps=1e-05, momentum=0.1, affine=True, track_running_stats=True)\n",
       "      (M_relu2): M_relu()\n",
       "      (shortcut): Sequential()\n",
       "    )\n",
       "    (3): M_BasicBlock(\n",
       "      (conv1): Conv2d(128, 128, kernel_size=(3, 3), stride=(1, 1), padding=(1, 1), bias=False)\n",
       "      (bn1): BatchNorm2d(128, eps=1e-05, momentum=0.1, affine=True, track_running_stats=True)\n",
       "      (M_relu1): M_relu()\n",
       "      (dropout): Dropout(p=0.3, inplace=False)\n",
       "      (conv2): Conv2d(128, 128, kernel_size=(3, 3), stride=(1, 1), padding=(1, 1), bias=False)\n",
       "      (bn2): BatchNorm2d(128, eps=1e-05, momentum=0.1, affine=True, track_running_stats=True)\n",
       "      (M_relu2): M_relu()\n",
       "      (shortcut): Sequential()\n",
       "    )\n",
       "  )\n",
       "  (linear): Linear(in_features=128, out_features=100, bias=True)\n",
       ")"
      ]
     },
     "execution_count": 21,
     "metadata": {},
     "output_type": "execute_result"
    }
   ],
   "source": [
    "train_model(model, \"resnet28x2_cifar100\")"
   ]
  },
  {
   "cell_type": "code",
   "execution_count": 22,
   "metadata": {},
   "outputs": [],
   "source": [
    "send_email('resnet28x2_cifar100 finished')"
   ]
  },
  {
   "cell_type": "markdown",
   "metadata": {},
   "source": [
    "## test_model을 통해 결과확인"
   ]
  },
  {
   "cell_type": "code",
   "execution_count": 10,
   "metadata": {},
   "outputs": [
    {
     "name": "stdout",
     "output_type": "stream",
     "text": [
      "Total examples is 10000, correct examples is 9491; Test accuracy: 0.9491\n"
     ]
    }
   ],
   "source": [
    "#wide_resnet 28x1의 결과값\n",
    "checkpoint = torch.load(\"./saved_model/resnet28x2_cifar10.pth\")\n",
    "model.load_state_dict(checkpoint['state_dict'])\n",
    "test_model(model)"
   ]
  },
  {
   "cell_type": "code",
   "execution_count": 23,
   "metadata": {},
   "outputs": [
    {
     "name": "stdout",
     "output_type": "stream",
     "text": [
      "Total examples is 10000, correct examples is 7371; Test accuracy: 0.7371\n"
     ]
    }
   ],
   "source": [
    "#wide_resnet 28x2의 결과값\n",
    "checkpoint = torch.load(\"./saved_model/resnet28x2_cifar100.pth\")\n",
    "model.load_state_dict(checkpoint['state_dict'])\n",
    "test_model(model)"
   ]
  },
  {
   "cell_type": "code",
   "execution_count": 10,
   "metadata": {},
   "outputs": [],
   "source": []
  },
  {
   "cell_type": "code",
   "execution_count": null,
   "metadata": {},
   "outputs": [],
   "source": []
  }
 ],
 "metadata": {
  "kernelspec": {
   "display_name": "Python 3.6",
   "language": "python",
   "name": "python3.6"
  },
  "language_info": {
   "codemirror_mode": {
    "name": "ipython",
    "version": 3
   },
   "file_extension": ".py",
   "mimetype": "text/x-python",
   "name": "python",
   "nbconvert_exporter": "python",
   "pygments_lexer": "ipython3",
   "version": "3.6.13"
  }
 },
 "nbformat": 4,
 "nbformat_minor": 2
}
