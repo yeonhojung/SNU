{
 "cells": [
  {
   "cell_type": "code",
   "execution_count": 2,
   "metadata": {},
   "outputs": [],
   "source": [
    "from new_model import *"
   ]
  },
  {
   "cell_type": "code",
   "execution_count": 21,
   "metadata": {},
   "outputs": [],
   "source": [
    "seed = 777\n",
    "random.seed(seed)\n",
    "np.random.seed(seed)\n",
    "device = 'cuda' if torch.cuda.is_available() else 'cpu'\n",
    "torch.manual_seed(seed)\n",
    "if device == 'cuda':\n",
    "    torch.cuda.manual_seed_all(seed)\n",
    "torch.backends.cudnn.deterministic = True\n",
    "torch.backends.cudnn.benchmark = False"
   ]
  },
  {
   "cell_type": "code",
   "execution_count": 3,
   "metadata": {},
   "outputs": [],
   "source": [
    "seed = 10\n",
    "random.seed(seed)\n",
    "np.random.seed(seed)\n",
    "device = 'cuda' if torch.cuda.is_available() else 'cpu'\n",
    "torch.manual_seed(seed)\n",
    "if device == 'cuda':\n",
    "    torch.cuda.manual_seed_all(seed)\n",
    "torch.backends.cudnn.deterministic = True\n",
    "torch.backends.cudnn.benchmark = False"
   ]
  },
  {
   "cell_type": "markdown",
   "metadata": {},
   "source": [
    "## 1. CIFAR 10 데이터셋 다운로드"
   ]
  },
  {
   "cell_type": "code",
   "execution_count": 4,
   "metadata": {},
   "outputs": [
    {
     "name": "stdout",
     "output_type": "stream",
     "text": [
      "Files already downloaded and verified\n",
      "Files already downloaded and verified\n"
     ]
    }
   ],
   "source": [
    "#Data 다운로드 경로지정\n",
    "DATA_ROOT = \"../data_cifar10\"\n",
    "CIFAR10_shape = (3, 32, 32) #CIFAR 10과 CIFAR 100은 이미지 크기가 같음\n",
    "CIFAR100_shape = (3, 32, 32)\n",
    "pad_size = 2\n",
    "batch_size = 128\n",
    "\n",
    "\n",
    "#Data Process \n",
    "transform_train = transforms.Compose([transforms.RandomCrop(32, padding=4),transforms.RandomHorizontalFlip(),\n",
    "                                      transforms.ToTensor(),transforms.Normalize((0.4914, 0.4822, 0.4465), (0.2023, 0.1994, 0.2010))]) \n",
    "\n",
    "transform_val = transforms.Compose([transforms.ToTensor(), \n",
    "                                    transforms.Normalize((0.4914, 0.4822, 0.4465),(0.2023, 0.1994, 0.2010))])\n",
    "\n",
    "transform_test = transforms.Compose([transforms.ToTensor(),\n",
    "                                     transforms.Normalize((0.4914, 0.4822, 0.4465),(0.2023, 0.1994, 0.2010))])\n",
    "\n",
    "train_CIFAR10 = torchvision.datasets.CIFAR10(root='../data', train=True, download=True, transform=transform_train)\n",
    "\n",
    "test_CIFAR10 = torchvision.datasets.CIFAR10(root='../data', train=False, download=True, transform=transform_test)\n",
    "\n",
    "num_train = int(1.0 * len(train_CIFAR10) * 95 / 100)\n",
    "num_val = len(train_CIFAR10) - num_train\n",
    "train_CIFAR10, val_CIFAR10 = torch.utils.data.random_split(train_CIFAR10, [num_train, num_val])\n",
    "\n",
    "train_loader = torch.utils.data.DataLoader(train_CIFAR10, batch_size=batch_size, shuffle=True, num_workers=2) #num_workers는 데이터 로드시 sub process 몇개 쓸거냐 \n",
    "val_loader = torch.utils.data.DataLoader(val_CIFAR10, batch_size=batch_size,shuffle=True, num_workers=2)\n",
    "test_loader = torch.utils.data.DataLoader(test_CIFAR10, batch_size=batch_size, shuffle=True, num_workers=2)"
   ]
  },
  {
   "cell_type": "code",
   "execution_count": 8,
   "metadata": {},
   "outputs": [
    {
     "name": "stdout",
     "output_type": "stream",
     "text": [
      "torch.Size([128, 3, 32, 32])\n",
      "0 tensor(-2.4291) tensor([4, 6, 9, 0, 8, 5, 5, 1, 2, 7, 9, 8, 6, 4, 2, 9, 6, 5, 5, 1, 6, 3, 6, 3,\n",
      "        4, 8, 6, 8, 2, 6, 3, 3, 3, 9, 8, 1, 0, 7, 1, 3, 2, 2, 1, 7, 4, 3, 3, 9,\n",
      "        1, 7, 1, 7, 5, 9, 4, 3, 0, 7, 9, 5, 6, 3, 5, 4, 8, 5, 2, 4, 0, 0, 5, 7,\n",
      "        7, 9, 8, 9, 2, 2, 4, 6, 9, 6, 6, 9, 0, 6, 1, 1, 1, 4, 8, 8, 8, 0, 4, 5,\n",
      "        3, 5, 8, 8, 5, 8, 3, 2, 0, 5, 8, 1, 9, 4, 1, 3, 6, 5, 8, 2, 4, 5, 7, 6,\n",
      "        2, 7, 5, 4, 7, 8, 4, 7])\n",
      "torch.Size([128, 3, 32, 32])\n",
      "1 tensor(-2.4291) tensor([3, 1, 1, 7, 5, 4, 5, 6, 2, 8, 4, 1, 9, 0, 1, 7, 0, 9, 3, 4, 3, 7, 1, 5,\n",
      "        4, 6, 8, 5, 7, 2, 6, 7, 2, 4, 4, 4, 3, 8, 8, 9, 4, 4, 8, 4, 9, 7, 3, 7,\n",
      "        0, 5, 5, 2, 5, 6, 1, 4, 4, 4, 5, 6, 4, 5, 0, 7, 4, 6, 6, 2, 8, 5, 0, 7,\n",
      "        6, 4, 9, 3, 4, 1, 3, 3, 7, 1, 3, 0, 2, 6, 1, 9, 9, 2, 8, 4, 4, 5, 7, 9,\n",
      "        1, 7, 1, 7, 0, 7, 6, 1, 8, 2, 4, 4, 1, 0, 6, 2, 0, 4, 4, 6, 1, 7, 2, 5,\n",
      "        4, 8, 2, 2, 5, 4, 5, 4])\n",
      "torch.Size([128, 3, 32, 32])\n",
      "2 tensor(-2.4291) tensor([2, 9, 2, 5, 6, 4, 9, 5, 3, 5, 0, 7, 6, 7, 8, 2, 6, 2, 9, 5, 2, 5, 2, 4,\n",
      "        9, 5, 9, 7, 3, 8, 0, 7, 2, 7, 1, 4, 3, 4, 4, 0, 8, 2, 7, 4, 0, 7, 7, 1,\n",
      "        0, 3, 2, 2, 8, 8, 4, 9, 5, 1, 9, 7, 2, 3, 7, 2, 3, 3, 3, 8, 9, 6, 3, 4,\n",
      "        9, 9, 0, 4, 5, 5, 3, 5, 9, 2, 0, 9, 6, 5, 0, 5, 7, 6, 5, 6, 1, 6, 7, 3,\n",
      "        7, 0, 9, 4, 6, 4, 1, 9, 5, 2, 8, 2, 1, 1, 2, 3, 1, 2, 7, 4, 8, 6, 5, 8,\n",
      "        2, 3, 1, 1, 7, 7, 9, 2])\n"
     ]
    }
   ],
   "source": [
    "for batch_idx, (inputs, labels) in enumerate(train_loader) :\n",
    "    print(inputs.size())\n",
    "    print(batch_idx, inputs[0][0][0][0], labels)\n",
    "    \n",
    "    if batch_idx ==2 :\n",
    "        break"
   ]
  },
  {
   "cell_type": "code",
   "execution_count": 9,
   "metadata": {},
   "outputs": [
    {
     "name": "stdout",
     "output_type": "stream",
     "text": [
      "torch.Size([128, 3, 32, 32])\n",
      "0 tensor(-2.4291) tensor([5, 0, 8, 1, 9, 9, 1, 5, 4, 7, 8, 4, 1, 5, 3, 6, 0, 9, 1, 9, 3, 2, 2, 0,\n",
      "        3, 7, 0, 0, 3, 0, 1, 4, 8, 4, 5, 6, 8, 2, 9, 4, 4, 3, 1, 8, 6, 7, 1, 3,\n",
      "        8, 9, 2, 5, 7, 5, 4, 7, 3, 4, 7, 6, 7, 2, 9, 9, 1, 5, 5, 3, 5, 9, 8, 7,\n",
      "        8, 3, 5, 3, 1, 7, 9, 4, 5, 1, 5, 3, 0, 9, 8, 4, 0, 2, 3, 3, 9, 9, 4, 1,\n",
      "        4, 3, 9, 8, 6, 2, 2, 8, 5, 6, 3, 1, 0, 6, 4, 2, 1, 4, 8, 3, 2, 6, 6, 5,\n",
      "        0, 0, 0, 0, 6, 0, 1, 6])\n",
      "torch.Size([128, 3, 32, 32])\n",
      "1 tensor(2.3978) tensor([1, 2, 8, 7, 6, 3, 4, 0, 7, 3, 0, 4, 9, 4, 7, 0, 0, 1, 1, 5, 5, 6, 2, 6,\n",
      "        9, 7, 4, 4, 7, 3, 5, 4, 3, 9, 9, 1, 3, 7, 7, 4, 8, 1, 8, 7, 2, 3, 5, 8,\n",
      "        2, 2, 9, 3, 9, 2, 7, 7, 1, 5, 0, 6, 4, 3, 6, 3, 2, 4, 8, 0, 1, 4, 2, 9,\n",
      "        2, 2, 0, 2, 0, 0, 2, 5, 2, 3, 1, 6, 2, 4, 3, 2, 1, 9, 6, 0, 9, 6, 1, 8,\n",
      "        2, 0, 9, 5, 6, 0, 1, 4, 9, 8, 9, 7, 5, 5, 4, 0, 2, 3, 5, 1, 1, 8, 0, 0,\n",
      "        9, 6, 0, 9, 0, 1, 6, 1])\n",
      "torch.Size([128, 3, 32, 32])\n",
      "2 tensor(0.7888) tensor([8, 6, 5, 9, 9, 3, 1, 9, 8, 5, 1, 1, 0, 9, 8, 5, 6, 8, 3, 6, 1, 8, 6, 5,\n",
      "        1, 0, 7, 2, 5, 9, 7, 5, 8, 1, 0, 1, 4, 4, 5, 8, 0, 2, 0, 5, 3, 8, 1, 4,\n",
      "        5, 3, 4, 1, 8, 4, 7, 9, 2, 0, 6, 5, 6, 8, 8, 2, 6, 2, 0, 5, 8, 1, 6, 4,\n",
      "        2, 1, 7, 3, 5, 2, 1, 2, 3, 1, 8, 5, 9, 0, 5, 1, 4, 9, 6, 1, 7, 9, 1, 1,\n",
      "        3, 6, 5, 2, 2, 1, 9, 2, 7, 1, 2, 0, 3, 5, 3, 7, 0, 2, 7, 7, 0, 6, 1, 8,\n",
      "        9, 4, 8, 7, 1, 3, 5, 1])\n"
     ]
    }
   ],
   "source": [
    "for batch_idx, (inputs, labels) in enumerate(train_loader) :\n",
    "    print(inputs.size())\n",
    "    print(batch_idx, inputs[0][0][0][0], labels)\n",
    "    \n",
    "    if batch_idx ==2 :\n",
    "        break"
   ]
  },
  {
   "cell_type": "code",
   "execution_count": 11,
   "metadata": {},
   "outputs": [
    {
     "name": "stdout",
     "output_type": "stream",
     "text": [
      "torch.Size([128, 3, 32, 32])\n",
      "0 tensor(-2.4291) tensor([2, 5, 3, 3, 6, 8, 1, 7, 9, 4, 3, 0, 9, 8, 7, 7, 2, 4, 2, 4, 5, 7, 3, 9,\n",
      "        5, 5, 2, 7, 8, 9, 1, 1, 3, 4, 8, 9, 7, 2, 9, 4, 1, 3, 2, 7, 6, 0, 3, 0,\n",
      "        4, 4, 5, 0, 9, 8, 5, 7, 5, 4, 4, 6, 1, 4, 7, 9, 4, 6, 4, 2, 7, 3, 8, 3,\n",
      "        9, 3, 2, 7, 0, 7, 8, 8, 2, 7, 9, 9, 2, 9, 9, 8, 8, 4, 8, 3, 1, 4, 1, 7,\n",
      "        9, 3, 6, 5, 7, 6, 6, 6, 1, 5, 9, 0, 2, 9, 1, 3, 4, 7, 6, 9, 4, 7, 2, 7,\n",
      "        0, 0, 7, 0, 1, 7, 7, 7])\n",
      "torch.Size([128, 3, 32, 32])\n",
      "1 tensor(0.6144) tensor([8, 3, 7, 7, 7, 2, 7, 4, 4, 6, 2, 9, 1, 5, 2, 0, 9, 8, 5, 5, 7, 1, 3, 3,\n",
      "        0, 8, 9, 8, 3, 0, 0, 1, 0, 2, 1, 9, 6, 1, 1, 8, 2, 8, 2, 8, 6, 4, 2, 0,\n",
      "        8, 2, 0, 8, 5, 3, 7, 1, 2, 4, 4, 1, 1, 2, 9, 3, 0, 5, 7, 8, 5, 1, 9, 3,\n",
      "        8, 8, 0, 0, 4, 6, 5, 9, 4, 2, 5, 6, 5, 2, 7, 0, 2, 5, 9, 4, 2, 5, 1, 3,\n",
      "        0, 0, 9, 4, 1, 1, 5, 1, 0, 1, 4, 3, 4, 2, 2, 8, 5, 5, 0, 7, 4, 8, 2, 9,\n",
      "        4, 4, 5, 1, 6, 1, 6, 6])\n",
      "torch.Size([128, 3, 32, 32])\n",
      "2 tensor(2.3396) tensor([9, 9, 4, 6, 4, 3, 9, 6, 7, 4, 7, 0, 0, 6, 0, 3, 8, 9, 6, 9, 6, 7, 8, 5,\n",
      "        9, 4, 2, 4, 1, 0, 8, 0, 0, 7, 0, 1, 4, 6, 2, 2, 0, 9, 0, 4, 7, 4, 4, 6,\n",
      "        4, 0, 5, 6, 6, 0, 3, 6, 5, 6, 2, 0, 2, 5, 6, 5, 6, 2, 9, 8, 2, 8, 2, 6,\n",
      "        5, 0, 9, 1, 2, 1, 6, 7, 8, 3, 1, 5, 2, 3, 0, 2, 5, 2, 7, 0, 5, 6, 6, 3,\n",
      "        9, 5, 6, 1, 9, 5, 4, 6, 4, 4, 9, 1, 1, 4, 3, 5, 1, 8, 4, 3, 8, 9, 3, 7,\n",
      "        5, 4, 9, 5, 8, 4, 3, 7])\n"
     ]
    }
   ],
   "source": [
    "for batch_idx, (inputs, labels) in enumerate(train_loader) :\n",
    "    print(inputs.size())\n",
    "    print(batch_idx, inputs[0][0][0][0], labels)\n",
    "    \n",
    "    if batch_idx ==2 :\n",
    "        break"
   ]
  },
  {
   "cell_type": "markdown",
   "metadata": {},
   "source": [
    "## 2. CIFAR 100 데이터셋 다운로드(참고)"
   ]
  },
  {
   "cell_type": "code",
   "execution_count": 22,
   "metadata": {},
   "outputs": [
    {
     "name": "stdout",
     "output_type": "stream",
     "text": [
      "Files already downloaded and verified\n",
      "Files already downloaded and verified\n"
     ]
    }
   ],
   "source": [
    "#Data 다운로드 경로지정\n",
    "DATA_ROOT = \"../data_cifar100\"\n",
    "batch_size = 128\n",
    "\n",
    "#Data Process\n",
    "transform_train = transforms.Compose([transforms.RandomCrop(32, padding=4),transforms.RandomHorizontalFlip(),\n",
    "                                      transforms.ToTensor(),transforms.Normalize((0.4914, 0.4822, 0.4465), (0.2023, 0.1994, 0.2010))]) \n",
    "\n",
    "transform_val = transforms.Compose([transforms.ToTensor(), transforms.Normalize((0.4914, 0.4822, 0.4465), (0.2023, 0.1994, 0.2010))]) \n",
    "\n",
    "transform_test = transforms.Compose([transforms.ToTensor(),transforms.Normalize((0.4914, 0.4822, 0.4465), (0.2023, 0.1994, 0.2010))]) \n",
    "\n",
    "train_CIFAR100 = torchvision.datasets.CIFAR100(root='../data', train=True, download=True, transform=transform_train)\n",
    "\n",
    "test_CIFAR100 = torchvision.datasets.CIFAR100(root='../data', train=False, download=True, transform=transform_test)\n",
    "\n",
    "num_train = int(1.0 * len(train_CIFAR100) * 95 / 100)\n",
    "num_val = len(train_CIFAR100) - num_train\n",
    "train_CIFAR100, val_CIFAR100 = torch.utils.data.random_split(train_CIFAR100, [num_train, num_val])\n",
    "\n",
    "train_loader = torch.utils.data.DataLoader(train_CIFAR100, batch_size=batch_size, shuffle=True, num_workers=2) #num_workers는 데이터 로드시 sub process 몇개 쓸거냐 \n",
    "val_loader = torch.utils.data.DataLoader(val_CIFAR100, batch_size=batch_size,shuffle=True, num_workers=2)\n",
    "test_loader = torch.utils.data.DataLoader(test_CIFAR100, batch_size=batch_size, shuffle=True, num_workers=2)"
   ]
  },
  {
   "cell_type": "markdown",
   "metadata": {},
   "source": [
    "## 4. train_model과 test_model 저장"
   ]
  },
  {
   "cell_type": "code",
   "execution_count": 23,
   "metadata": {},
   "outputs": [],
   "source": [
    "def train_model(model, mode):    \n",
    "    # total number of training epochs\n",
    "    EPOCHS = 200\n",
    "    CHECKPOINT_PATH = \"./saved_model\"\n",
    "    \n",
    "    best_val_acc = 0\n",
    "    current_learning_rate = INITIAL_LR\n",
    "\n",
    "    print(\"==> Training starts!\")\n",
    "\n",
    "    start = time.time()\n",
    "    optimizer = torch.optim.SGD(model.parameters(), lr=INITIAL_LR, momentum=MOMENTUM, weight_decay=REG)\n",
    "#     scheduler = torch.optim.lr_scheduler.MultiStepLR(optimizer, milestones = [60, 120, 160], gamma = 0.2)\n",
    "    scheduler = torch.optim.lr_scheduler.CosineAnnealingLR(optimizer, T_max=100, eta_min=0)\n",
    "\n",
    "    \n",
    "    for i in tqdm(range(0, EPOCHS)):\n",
    "        model.train()\n",
    "        \n",
    "        # this help you compute the training accuracy\n",
    "        total_examples = 0\n",
    "        correct_examples = 0\n",
    "        train_loss = 0\n",
    "\n",
    "        \n",
    "        '''\n",
    "        train loop\n",
    "        '''\n",
    "        # Train the model for 1 epoch.\n",
    "        for batch_idx, (inputs, targets) in enumerate(train_loader):\n",
    "            inputs, targets = inputs.to(device).float(), targets.to(device).long() #inputs과 targets는 gpu로 계산\n",
    "\n",
    "            # compute the output and loss\n",
    "            y_preds = model(inputs)        \n",
    "            loss = criterion(y_preds,targets)\n",
    "            train_loss += loss.item()\n",
    "\n",
    "            # zero the gradient\n",
    "            optimizer.zero_grad()\n",
    "\n",
    "            # backpropagation\n",
    "            loss.backward()\n",
    "\n",
    "            # apply gradient and update the weights\n",
    "            optimizer.step()\n",
    "            \n",
    "\n",
    "\n",
    "            # count the number of correctly predicted samples in the current batch\n",
    "            y_preds_class = torch.argmax(y_preds, dim=1)\n",
    "            correct_examples += (targets == y_preds_class).sum().item()\n",
    "            total_examples += targets.size(0)\n",
    "        \n",
    "        # scheduler\n",
    "        scheduler.step()\n",
    "        avg_loss_tr = train_loss / len(train_loader) ###\n",
    "        avg_acc_tr = correct_examples / total_examples ### \n",
    "\n",
    "        \n",
    "                                                      \n",
    "        '''\n",
    "        validation loop\n",
    "        '''\n",
    "                                                      \n",
    "        # switch to eval mode\n",
    "        model.eval()\n",
    "        total_examples = 0\n",
    "        correct_examples = 0\n",
    "        val_loss = 0 # again, track the validation loss if you want\n",
    "        \n",
    "        # disable gradient during validation, which can save GPU memory\n",
    "        with torch.no_grad():\n",
    "            for batch_idx, (inputs, targets) in enumerate(val_loader):\n",
    "                inputs, targets = inputs.to(device).float(), targets.to(device).long()\n",
    "\n",
    "                # compute the output and loss\n",
    "                y_preds = model(inputs)        \n",
    "                loss = criterion(y_preds,targets)\n",
    "                val_loss += loss.item()\n",
    "\n",
    "                # count the number of correctly predicted samples in the current batch\n",
    "                y_preds_class = torch.argmax(y_preds, dim=1)\n",
    "                correct_examples += (targets == y_preds_class).sum().item()\n",
    "                total_examples += targets.size(0)\n",
    "\n",
    "        avg_loss_val = val_loss / len(val_loader)\n",
    "        avg_acc_val = correct_examples / total_examples\n",
    "\n",
    "                                                      \n",
    "        # save the model checkpoint\n",
    "        if avg_acc_val > best_val_acc :\n",
    "            best_val_acc = avg_acc_val\n",
    "            if not os.path.exists(CHECKPOINT_PATH):\n",
    "                os.makedirs(CHECKPOINT_PATH)\n",
    "\n",
    "            state = {'state_dict': model.state_dict(),\n",
    "                     'epoch': i,\n",
    "                     'lr': current_learning_rate}\n",
    "            \n",
    "            torch.save(state, os.path.join(CHECKPOINT_PATH, '{}.pth'.format(mode)))\n",
    "        \n",
    "        if i % 10 == 9 :  #epoch를 5개씩 출력해서 봐보겠다\n",
    "            end = time.time()\n",
    "            diff_time = round(end - start,2)\n",
    "            print(\"Epoch %d:\" %(i+1), f\"progress time is {diff_time} sec\")\n",
    "            print(\"Training loss: %.4f, Training accuracy: %.4f\" %(avg_loss_tr, avg_acc_tr)) \n",
    "            print(\"Validation loss: %.4f, Validation accuracy: %.4f\" % (avg_loss_val, avg_acc_val))\n",
    "        time.sleep(0.1)\n",
    "    print(f\"==> Optimization finished! Best validation accuracy: {best_val_acc:.4f}\")                                    \n",
    "\n",
    "    return model #결국 history 변수를 지정해서 epoch 1개씩 loss와 accuracy값을 저장하려고 return 해야됨"
   ]
  },
  {
   "cell_type": "code",
   "execution_count": 24,
   "metadata": {},
   "outputs": [],
   "source": [
    "def test_model(model):\n",
    "    model.to(device)\n",
    "    model.eval()\n",
    "\n",
    "    total_examples = 0\n",
    "    correct_examples = 0\n",
    "    softmax = torch.nn.Softmax(dim=1)\n",
    "\n",
    "    with torch.no_grad():\n",
    "        for batch_idx, (inputs, targets) in enumerate(test_loader):\n",
    "            inputs, targets = inputs.to(device), targets.to(device)\n",
    "            pred = model(inputs)\n",
    "            total_examples += inputs.shape[0]\n",
    "\n",
    "            out = softmax(pred)\n",
    "            out = torch.max(out, 1)\n",
    "\n",
    "            correct_examples += torch.sum(targets==out[1]).cpu().data.numpy().tolist()\n",
    "\n",
    "    avg_acc = correct_examples / total_examples\n",
    "    print(\"Total examples is {}, correct examples is {}; Test accuracy: {}\".format(total_examples, correct_examples, avg_acc))"
   ]
  },
  {
   "cell_type": "code",
   "execution_count": 25,
   "metadata": {},
   "outputs": [],
   "source": [
    "INITIAL_LR = 0.1\n",
    "\n",
    "# momentum for optimizer\n",
    "MOMENTUM = 0.9\n",
    "\n",
    "# L2 regularization strength\n",
    "REG = 5e-4\n",
    "\n",
    "# Define loss\n",
    "criterion = nn.CrossEntropyLoss()"
   ]
  },
  {
   "cell_type": "markdown",
   "metadata": {},
   "source": [
    "## 5. Wide_resnet model을 train 시켜보자\n",
    "- net : 28x1, 28x2, 28x4, 28x10"
   ]
  },
  {
   "cell_type": "markdown",
   "metadata": {},
   "source": [
    "## CIFAR10"
   ]
  },
  {
   "cell_type": "code",
   "execution_count": 15,
   "metadata": {},
   "outputs": [
    {
     "name": "stdout",
     "output_type": "stream",
     "text": [
      "| Wide-Resnet 28x1\n",
      "The model is deployed to cuda:1\n"
     ]
    }
   ],
   "source": [
    "device = torch.device(\"cuda:1\" if torch.cuda.is_available() else \"cpu\")\n",
    "model = Wide_ResNet(28, 1, 0.3, 10).to(device)\n",
    "print(\"The model is deployed to\", device)"
   ]
  },
  {
   "cell_type": "code",
   "execution_count": 16,
   "metadata": {},
   "outputs": [
    {
     "name": "stdout",
     "output_type": "stream",
     "text": [
      "==> Training starts!\n"
     ]
    },
    {
     "name": "stderr",
     "output_type": "stream",
     "text": [
      "  5%|▌         | 10/200 [02:33<48:36, 15.35s/it]"
     ]
    },
    {
     "name": "stdout",
     "output_type": "stream",
     "text": [
      "Epoch 10: progress time is 153.42 sec\n",
      "Training loss: 0.5670, Training accuracy: 0.8039\n",
      "Validation loss: 0.9575, Validation accuracy: 0.6928\n"
     ]
    },
    {
     "name": "stderr",
     "output_type": "stream",
     "text": [
      " 10%|█         | 20/200 [05:06<45:56, 15.31s/it]"
     ]
    },
    {
     "name": "stdout",
     "output_type": "stream",
     "text": [
      "Epoch 20: progress time is 306.59 sec\n",
      "Training loss: 0.4630, Training accuracy: 0.8388\n",
      "Validation loss: 0.6101, Validation accuracy: 0.7872\n"
     ]
    },
    {
     "name": "stderr",
     "output_type": "stream",
     "text": [
      " 15%|█▌        | 30/200 [07:40<43:37, 15.40s/it]"
     ]
    },
    {
     "name": "stdout",
     "output_type": "stream",
     "text": [
      "Epoch 30: progress time is 460.7 sec\n",
      "Training loss: 0.4080, Training accuracy: 0.8601\n",
      "Validation loss: 0.4841, Validation accuracy: 0.8380\n"
     ]
    },
    {
     "name": "stderr",
     "output_type": "stream",
     "text": [
      " 20%|██        | 40/200 [10:14<40:58, 15.36s/it]"
     ]
    },
    {
     "name": "stdout",
     "output_type": "stream",
     "text": [
      "Epoch 40: progress time is 614.12 sec\n",
      "Training loss: 0.3580, Training accuracy: 0.8771\n",
      "Validation loss: 0.5101, Validation accuracy: 0.8244\n"
     ]
    },
    {
     "name": "stderr",
     "output_type": "stream",
     "text": [
      " 25%|██▌       | 50/200 [12:48<38:14, 15.29s/it]"
     ]
    },
    {
     "name": "stdout",
     "output_type": "stream",
     "text": [
      "Epoch 50: progress time is 768.06 sec\n",
      "Training loss: 0.3112, Training accuracy: 0.8921\n",
      "Validation loss: 0.4585, Validation accuracy: 0.8456\n"
     ]
    },
    {
     "name": "stderr",
     "output_type": "stream",
     "text": [
      " 30%|███       | 60/200 [15:21<35:42, 15.30s/it]"
     ]
    },
    {
     "name": "stdout",
     "output_type": "stream",
     "text": [
      "Epoch 60: progress time is 921.56 sec\n",
      "Training loss: 0.2604, Training accuracy: 0.9101\n",
      "Validation loss: 0.4044, Validation accuracy: 0.8668\n"
     ]
    },
    {
     "name": "stderr",
     "output_type": "stream",
     "text": [
      " 35%|███▌      | 70/200 [17:55<33:03, 15.26s/it]"
     ]
    },
    {
     "name": "stdout",
     "output_type": "stream",
     "text": [
      "Epoch 70: progress time is 1075.16 sec\n",
      "Training loss: 0.1746, Training accuracy: 0.9393\n",
      "Validation loss: 0.3067, Validation accuracy: 0.8920\n"
     ]
    },
    {
     "name": "stderr",
     "output_type": "stream",
     "text": [
      " 40%|████      | 80/200 [20:29<30:46, 15.39s/it]"
     ]
    },
    {
     "name": "stdout",
     "output_type": "stream",
     "text": [
      "Epoch 80: progress time is 1228.94 sec\n",
      "Training loss: 0.0971, Training accuracy: 0.9680\n",
      "Validation loss: 0.2836, Validation accuracy: 0.9072\n"
     ]
    },
    {
     "name": "stderr",
     "output_type": "stream",
     "text": [
      " 45%|████▌     | 90/200 [23:01<28:00, 15.28s/it]"
     ]
    },
    {
     "name": "stdout",
     "output_type": "stream",
     "text": [
      "Epoch 90: progress time is 1381.69 sec\n",
      "Training loss: 0.0355, Training accuracy: 0.9911\n",
      "Validation loss: 0.2481, Validation accuracy: 0.9208\n"
     ]
    },
    {
     "name": "stderr",
     "output_type": "stream",
     "text": [
      " 50%|█████     | 100/200 [25:35<25:31, 15.31s/it]"
     ]
    },
    {
     "name": "stdout",
     "output_type": "stream",
     "text": [
      "Epoch 100: progress time is 1535.3 sec\n",
      "Training loss: 0.0220, Training accuracy: 0.9957\n",
      "Validation loss: 0.2494, Validation accuracy: 0.9268\n"
     ]
    },
    {
     "name": "stderr",
     "output_type": "stream",
     "text": [
      " 55%|█████▌    | 110/200 [28:08<23:04, 15.39s/it]"
     ]
    },
    {
     "name": "stdout",
     "output_type": "stream",
     "text": [
      "Epoch 110: progress time is 1688.09 sec\n",
      "Training loss: 0.0242, Training accuracy: 0.9946\n",
      "Validation loss: 0.2543, Validation accuracy: 0.9256\n"
     ]
    },
    {
     "name": "stderr",
     "output_type": "stream",
     "text": [
      " 60%|██████    | 120/200 [30:42<20:35, 15.44s/it]"
     ]
    },
    {
     "name": "stdout",
     "output_type": "stream",
     "text": [
      "Epoch 120: progress time is 1842.35 sec\n",
      "Training loss: 0.0961, Training accuracy: 0.9680\n",
      "Validation loss: 0.3455, Validation accuracy: 0.9012\n"
     ]
    },
    {
     "name": "stderr",
     "output_type": "stream",
     "text": [
      " 65%|██████▌   | 130/200 [33:15<17:59, 15.43s/it]"
     ]
    },
    {
     "name": "stdout",
     "output_type": "stream",
     "text": [
      "Epoch 130: progress time is 1995.47 sec\n",
      "Training loss: 0.2257, Training accuracy: 0.9233\n",
      "Validation loss: 0.4080, Validation accuracy: 0.8684\n"
     ]
    },
    {
     "name": "stderr",
     "output_type": "stream",
     "text": [
      " 70%|███████   | 140/200 [35:47<15:14, 15.25s/it]"
     ]
    },
    {
     "name": "stdout",
     "output_type": "stream",
     "text": [
      "Epoch 140: progress time is 2147.89 sec\n",
      "Training loss: 0.2453, Training accuracy: 0.9161\n",
      "Validation loss: 0.3839, Validation accuracy: 0.8684\n"
     ]
    },
    {
     "name": "stderr",
     "output_type": "stream",
     "text": [
      " 75%|███████▌  | 150/200 [38:20<12:47, 15.36s/it]"
     ]
    },
    {
     "name": "stdout",
     "output_type": "stream",
     "text": [
      "Epoch 150: progress time is 2300.74 sec\n",
      "Training loss: 0.2846, Training accuracy: 0.9009\n",
      "Validation loss: 0.3647, Validation accuracy: 0.8724\n"
     ]
    },
    {
     "name": "stderr",
     "output_type": "stream",
     "text": [
      " 80%|████████  | 160/200 [40:54<10:09, 15.24s/it]"
     ]
    },
    {
     "name": "stdout",
     "output_type": "stream",
     "text": [
      "Epoch 160: progress time is 2454.05 sec\n",
      "Training loss: 0.3200, Training accuracy: 0.8921\n",
      "Validation loss: 0.5134, Validation accuracy: 0.8296\n"
     ]
    },
    {
     "name": "stderr",
     "output_type": "stream",
     "text": [
      " 85%|████████▌ | 170/200 [43:27<07:41, 15.40s/it]"
     ]
    },
    {
     "name": "stdout",
     "output_type": "stream",
     "text": [
      "Epoch 170: progress time is 2607.57 sec\n",
      "Training loss: 0.3517, Training accuracy: 0.8790\n",
      "Validation loss: 0.5150, Validation accuracy: 0.8252\n"
     ]
    },
    {
     "name": "stderr",
     "output_type": "stream",
     "text": [
      " 90%|█████████ | 180/200 [46:00<05:05, 15.29s/it]"
     ]
    },
    {
     "name": "stdout",
     "output_type": "stream",
     "text": [
      "Epoch 180: progress time is 2760.49 sec\n",
      "Training loss: 0.3726, Training accuracy: 0.8722\n",
      "Validation loss: 0.5523, Validation accuracy: 0.8172\n"
     ]
    },
    {
     "name": "stderr",
     "output_type": "stream",
     "text": [
      " 95%|█████████▌| 190/200 [48:33<02:33, 15.38s/it]"
     ]
    },
    {
     "name": "stdout",
     "output_type": "stream",
     "text": [
      "Epoch 190: progress time is 2913.6 sec\n",
      "Training loss: 0.3909, Training accuracy: 0.8658\n",
      "Validation loss: 0.6229, Validation accuracy: 0.7892\n"
     ]
    },
    {
     "name": "stderr",
     "output_type": "stream",
     "text": [
      "100%|██████████| 200/200 [51:06<00:00, 15.33s/it]"
     ]
    },
    {
     "name": "stdout",
     "output_type": "stream",
     "text": [
      "Epoch 200: progress time is 3066.09 sec\n",
      "Training loss: 0.3900, Training accuracy: 0.8672\n",
      "Validation loss: 0.6264, Validation accuracy: 0.7968\n",
      "==> Optimization finished! Best validation accuracy: 0.9328\n"
     ]
    },
    {
     "name": "stderr",
     "output_type": "stream",
     "text": [
      "\n"
     ]
    },
    {
     "data": {
      "text/plain": [
       "Wide_ResNet(\n",
       "  (conv1): Conv2d(3, 16, kernel_size=(3, 3), stride=(1, 1), padding=(1, 1))\n",
       "  (bn1): BatchNorm2d(16, eps=1e-05, momentum=0.9, affine=True, track_running_stats=True)\n",
       "  (M_relu): M_relu()\n",
       "  (layer1): Sequential(\n",
       "    (0): M_BasicBlock(\n",
       "      (conv1): Conv2d(16, 16, kernel_size=(3, 3), stride=(1, 1), padding=(1, 1), bias=False)\n",
       "      (bn1): BatchNorm2d(16, eps=1e-05, momentum=0.1, affine=True, track_running_stats=True)\n",
       "      (M_relu1): M_relu()\n",
       "      (dropout): Dropout(p=0.3, inplace=False)\n",
       "      (conv2): Conv2d(16, 16, kernel_size=(3, 3), stride=(1, 1), padding=(1, 1), bias=False)\n",
       "      (bn2): BatchNorm2d(16, eps=1e-05, momentum=0.1, affine=True, track_running_stats=True)\n",
       "      (M_relu2): M_relu()\n",
       "      (shortcut): Sequential()\n",
       "    )\n",
       "    (1): M_BasicBlock(\n",
       "      (conv1): Conv2d(16, 16, kernel_size=(3, 3), stride=(1, 1), padding=(1, 1), bias=False)\n",
       "      (bn1): BatchNorm2d(16, eps=1e-05, momentum=0.1, affine=True, track_running_stats=True)\n",
       "      (M_relu1): M_relu()\n",
       "      (dropout): Dropout(p=0.3, inplace=False)\n",
       "      (conv2): Conv2d(16, 16, kernel_size=(3, 3), stride=(1, 1), padding=(1, 1), bias=False)\n",
       "      (bn2): BatchNorm2d(16, eps=1e-05, momentum=0.1, affine=True, track_running_stats=True)\n",
       "      (M_relu2): M_relu()\n",
       "      (shortcut): Sequential()\n",
       "    )\n",
       "    (2): M_BasicBlock(\n",
       "      (conv1): Conv2d(16, 16, kernel_size=(3, 3), stride=(1, 1), padding=(1, 1), bias=False)\n",
       "      (bn1): BatchNorm2d(16, eps=1e-05, momentum=0.1, affine=True, track_running_stats=True)\n",
       "      (M_relu1): M_relu()\n",
       "      (dropout): Dropout(p=0.3, inplace=False)\n",
       "      (conv2): Conv2d(16, 16, kernel_size=(3, 3), stride=(1, 1), padding=(1, 1), bias=False)\n",
       "      (bn2): BatchNorm2d(16, eps=1e-05, momentum=0.1, affine=True, track_running_stats=True)\n",
       "      (M_relu2): M_relu()\n",
       "      (shortcut): Sequential()\n",
       "    )\n",
       "    (3): M_BasicBlock(\n",
       "      (conv1): Conv2d(16, 16, kernel_size=(3, 3), stride=(1, 1), padding=(1, 1), bias=False)\n",
       "      (bn1): BatchNorm2d(16, eps=1e-05, momentum=0.1, affine=True, track_running_stats=True)\n",
       "      (M_relu1): M_relu()\n",
       "      (dropout): Dropout(p=0.3, inplace=False)\n",
       "      (conv2): Conv2d(16, 16, kernel_size=(3, 3), stride=(1, 1), padding=(1, 1), bias=False)\n",
       "      (bn2): BatchNorm2d(16, eps=1e-05, momentum=0.1, affine=True, track_running_stats=True)\n",
       "      (M_relu2): M_relu()\n",
       "      (shortcut): Sequential()\n",
       "    )\n",
       "  )\n",
       "  (layer2): Sequential(\n",
       "    (0): M_BasicBlock(\n",
       "      (conv1): Conv2d(16, 32, kernel_size=(3, 3), stride=(1, 1), padding=(1, 1), bias=False)\n",
       "      (bn1): BatchNorm2d(32, eps=1e-05, momentum=0.1, affine=True, track_running_stats=True)\n",
       "      (M_relu1): M_relu()\n",
       "      (dropout): Dropout(p=0.3, inplace=False)\n",
       "      (conv2): Conv2d(32, 32, kernel_size=(3, 3), stride=(2, 2), padding=(1, 1), bias=False)\n",
       "      (bn2): BatchNorm2d(32, eps=1e-05, momentum=0.1, affine=True, track_running_stats=True)\n",
       "      (M_relu2): M_relu()\n",
       "      (shortcut): Sequential(\n",
       "        (0): Conv2d(16, 32, kernel_size=(1, 1), stride=(2, 2), bias=False)\n",
       "        (1): BatchNorm2d(32, eps=1e-05, momentum=0.1, affine=True, track_running_stats=True)\n",
       "      )\n",
       "    )\n",
       "    (1): M_BasicBlock(\n",
       "      (conv1): Conv2d(32, 32, kernel_size=(3, 3), stride=(1, 1), padding=(1, 1), bias=False)\n",
       "      (bn1): BatchNorm2d(32, eps=1e-05, momentum=0.1, affine=True, track_running_stats=True)\n",
       "      (M_relu1): M_relu()\n",
       "      (dropout): Dropout(p=0.3, inplace=False)\n",
       "      (conv2): Conv2d(32, 32, kernel_size=(3, 3), stride=(1, 1), padding=(1, 1), bias=False)\n",
       "      (bn2): BatchNorm2d(32, eps=1e-05, momentum=0.1, affine=True, track_running_stats=True)\n",
       "      (M_relu2): M_relu()\n",
       "      (shortcut): Sequential()\n",
       "    )\n",
       "    (2): M_BasicBlock(\n",
       "      (conv1): Conv2d(32, 32, kernel_size=(3, 3), stride=(1, 1), padding=(1, 1), bias=False)\n",
       "      (bn1): BatchNorm2d(32, eps=1e-05, momentum=0.1, affine=True, track_running_stats=True)\n",
       "      (M_relu1): M_relu()\n",
       "      (dropout): Dropout(p=0.3, inplace=False)\n",
       "      (conv2): Conv2d(32, 32, kernel_size=(3, 3), stride=(1, 1), padding=(1, 1), bias=False)\n",
       "      (bn2): BatchNorm2d(32, eps=1e-05, momentum=0.1, affine=True, track_running_stats=True)\n",
       "      (M_relu2): M_relu()\n",
       "      (shortcut): Sequential()\n",
       "    )\n",
       "    (3): M_BasicBlock(\n",
       "      (conv1): Conv2d(32, 32, kernel_size=(3, 3), stride=(1, 1), padding=(1, 1), bias=False)\n",
       "      (bn1): BatchNorm2d(32, eps=1e-05, momentum=0.1, affine=True, track_running_stats=True)\n",
       "      (M_relu1): M_relu()\n",
       "      (dropout): Dropout(p=0.3, inplace=False)\n",
       "      (conv2): Conv2d(32, 32, kernel_size=(3, 3), stride=(1, 1), padding=(1, 1), bias=False)\n",
       "      (bn2): BatchNorm2d(32, eps=1e-05, momentum=0.1, affine=True, track_running_stats=True)\n",
       "      (M_relu2): M_relu()\n",
       "      (shortcut): Sequential()\n",
       "    )\n",
       "  )\n",
       "  (layer3): Sequential(\n",
       "    (0): M_BasicBlock(\n",
       "      (conv1): Conv2d(32, 64, kernel_size=(3, 3), stride=(1, 1), padding=(1, 1), bias=False)\n",
       "      (bn1): BatchNorm2d(64, eps=1e-05, momentum=0.1, affine=True, track_running_stats=True)\n",
       "      (M_relu1): M_relu()\n",
       "      (dropout): Dropout(p=0.3, inplace=False)\n",
       "      (conv2): Conv2d(64, 64, kernel_size=(3, 3), stride=(2, 2), padding=(1, 1), bias=False)\n",
       "      (bn2): BatchNorm2d(64, eps=1e-05, momentum=0.1, affine=True, track_running_stats=True)\n",
       "      (M_relu2): M_relu()\n",
       "      (shortcut): Sequential(\n",
       "        (0): Conv2d(32, 64, kernel_size=(1, 1), stride=(2, 2), bias=False)\n",
       "        (1): BatchNorm2d(64, eps=1e-05, momentum=0.1, affine=True, track_running_stats=True)\n",
       "      )\n",
       "    )\n",
       "    (1): M_BasicBlock(\n",
       "      (conv1): Conv2d(64, 64, kernel_size=(3, 3), stride=(1, 1), padding=(1, 1), bias=False)\n",
       "      (bn1): BatchNorm2d(64, eps=1e-05, momentum=0.1, affine=True, track_running_stats=True)\n",
       "      (M_relu1): M_relu()\n",
       "      (dropout): Dropout(p=0.3, inplace=False)\n",
       "      (conv2): Conv2d(64, 64, kernel_size=(3, 3), stride=(1, 1), padding=(1, 1), bias=False)\n",
       "      (bn2): BatchNorm2d(64, eps=1e-05, momentum=0.1, affine=True, track_running_stats=True)\n",
       "      (M_relu2): M_relu()\n",
       "      (shortcut): Sequential()\n",
       "    )\n",
       "    (2): M_BasicBlock(\n",
       "      (conv1): Conv2d(64, 64, kernel_size=(3, 3), stride=(1, 1), padding=(1, 1), bias=False)\n",
       "      (bn1): BatchNorm2d(64, eps=1e-05, momentum=0.1, affine=True, track_running_stats=True)\n",
       "      (M_relu1): M_relu()\n",
       "      (dropout): Dropout(p=0.3, inplace=False)\n",
       "      (conv2): Conv2d(64, 64, kernel_size=(3, 3), stride=(1, 1), padding=(1, 1), bias=False)\n",
       "      (bn2): BatchNorm2d(64, eps=1e-05, momentum=0.1, affine=True, track_running_stats=True)\n",
       "      (M_relu2): M_relu()\n",
       "      (shortcut): Sequential()\n",
       "    )\n",
       "    (3): M_BasicBlock(\n",
       "      (conv1): Conv2d(64, 64, kernel_size=(3, 3), stride=(1, 1), padding=(1, 1), bias=False)\n",
       "      (bn1): BatchNorm2d(64, eps=1e-05, momentum=0.1, affine=True, track_running_stats=True)\n",
       "      (M_relu1): M_relu()\n",
       "      (dropout): Dropout(p=0.3, inplace=False)\n",
       "      (conv2): Conv2d(64, 64, kernel_size=(3, 3), stride=(1, 1), padding=(1, 1), bias=False)\n",
       "      (bn2): BatchNorm2d(64, eps=1e-05, momentum=0.1, affine=True, track_running_stats=True)\n",
       "      (M_relu2): M_relu()\n",
       "      (shortcut): Sequential()\n",
       "    )\n",
       "  )\n",
       "  (linear): Linear(in_features=64, out_features=10, bias=True)\n",
       ")"
      ]
     },
     "execution_count": 16,
     "metadata": {},
     "output_type": "execute_result"
    }
   ],
   "source": [
    "train_model(model, \"resnet28x1_cifar10\")"
   ]
  },
  {
   "cell_type": "markdown",
   "metadata": {},
   "source": [
    "## CIFAR100"
   ]
  },
  {
   "cell_type": "code",
   "execution_count": 27,
   "metadata": {},
   "outputs": [
    {
     "name": "stdout",
     "output_type": "stream",
     "text": [
      "| Wide-Resnet 28x1\n",
      "The model is deployed to cuda:1\n"
     ]
    }
   ],
   "source": [
    "device = torch.device(\"cuda:1\" if torch.cuda.is_available() else \"cpu\")\n",
    "model = Wide_ResNet(28, 1, 0.3, 100).to(device)\n",
    "print(\"The model is deployed to\", device)"
   ]
  },
  {
   "cell_type": "code",
   "execution_count": 29,
   "metadata": {},
   "outputs": [
    {
     "name": "stdout",
     "output_type": "stream",
     "text": [
      "==> Training starts!\n"
     ]
    },
    {
     "name": "stderr",
     "output_type": "stream",
     "text": [
      "  5%|▌         | 10/200 [02:35<49:36, 15.66s/it]"
     ]
    },
    {
     "name": "stdout",
     "output_type": "stream",
     "text": [
      "Epoch 10: progress time is 155.47 sec\n",
      "Training loss: 1.9052, Training accuracy: 0.4736\n",
      "Validation loss: 2.8478, Validation accuracy: 0.3384\n"
     ]
    },
    {
     "name": "stderr",
     "output_type": "stream",
     "text": [
      " 10%|█         | 20/200 [05:13<47:36, 15.87s/it]"
     ]
    },
    {
     "name": "stdout",
     "output_type": "stream",
     "text": [
      "Epoch 20: progress time is 313.64 sec\n",
      "Training loss: 1.6101, Training accuracy: 0.5471\n",
      "Validation loss: 2.6340, Validation accuracy: 0.3824\n"
     ]
    },
    {
     "name": "stderr",
     "output_type": "stream",
     "text": [
      " 15%|█▌        | 30/200 [07:54<45:19, 16.00s/it]"
     ]
    },
    {
     "name": "stdout",
     "output_type": "stream",
     "text": [
      "Epoch 30: progress time is 474.37 sec\n",
      "Training loss: 1.4722, Training accuracy: 0.5783\n",
      "Validation loss: 1.9213, Validation accuracy: 0.4776\n"
     ]
    },
    {
     "name": "stderr",
     "output_type": "stream",
     "text": [
      " 20%|██        | 40/200 [10:33<42:23, 15.89s/it]"
     ]
    },
    {
     "name": "stdout",
     "output_type": "stream",
     "text": [
      "Epoch 40: progress time is 633.62 sec\n",
      "Training loss: 1.3431, Training accuracy: 0.6155\n",
      "Validation loss: 1.7655, Validation accuracy: 0.5192\n"
     ]
    },
    {
     "name": "stderr",
     "output_type": "stream",
     "text": [
      " 25%|██▌       | 50/200 [13:13<39:58, 15.99s/it]"
     ]
    },
    {
     "name": "stdout",
     "output_type": "stream",
     "text": [
      "Epoch 50: progress time is 793.32 sec\n",
      "Training loss: 1.2127, Training accuracy: 0.6493\n",
      "Validation loss: 1.7203, Validation accuracy: 0.5392\n"
     ]
    },
    {
     "name": "stderr",
     "output_type": "stream",
     "text": [
      " 30%|███       | 60/200 [15:52<37:06, 15.91s/it]"
     ]
    },
    {
     "name": "stdout",
     "output_type": "stream",
     "text": [
      "Epoch 60: progress time is 952.26 sec\n",
      "Training loss: 1.0583, Training accuracy: 0.6885\n",
      "Validation loss: 1.5845, Validation accuracy: 0.5744\n"
     ]
    },
    {
     "name": "stderr",
     "output_type": "stream",
     "text": [
      " 35%|███▌      | 70/200 [18:31<34:35, 15.97s/it]"
     ]
    },
    {
     "name": "stdout",
     "output_type": "stream",
     "text": [
      "Epoch 70: progress time is 1111.3 sec\n",
      "Training loss: 0.8743, Training accuracy: 0.7398\n",
      "Validation loss: 1.4932, Validation accuracy: 0.5916\n"
     ]
    },
    {
     "name": "stderr",
     "output_type": "stream",
     "text": [
      " 40%|████      | 80/200 [21:12<32:14, 16.12s/it]"
     ]
    },
    {
     "name": "stdout",
     "output_type": "stream",
     "text": [
      "Epoch 80: progress time is 1271.97 sec\n",
      "Training loss: 0.6659, Training accuracy: 0.7989\n",
      "Validation loss: 1.2040, Validation accuracy: 0.6672\n"
     ]
    },
    {
     "name": "stderr",
     "output_type": "stream",
     "text": [
      " 45%|████▌     | 90/200 [23:51<29:12, 15.94s/it]"
     ]
    },
    {
     "name": "stdout",
     "output_type": "stream",
     "text": [
      "Epoch 90: progress time is 1431.27 sec\n",
      "Training loss: 0.4486, Training accuracy: 0.8702\n",
      "Validation loss: 1.1251, Validation accuracy: 0.6828\n"
     ]
    },
    {
     "name": "stderr",
     "output_type": "stream",
     "text": [
      " 50%|█████     | 100/200 [26:30<26:26, 15.86s/it]"
     ]
    },
    {
     "name": "stdout",
     "output_type": "stream",
     "text": [
      "Epoch 100: progress time is 1590.38 sec\n",
      "Training loss: 0.3645, Training accuracy: 0.8993\n",
      "Validation loss: 1.1415, Validation accuracy: 0.6836\n"
     ]
    },
    {
     "name": "stderr",
     "output_type": "stream",
     "text": [
      " 55%|█████▌    | 110/200 [29:09<23:46, 15.85s/it]"
     ]
    },
    {
     "name": "stdout",
     "output_type": "stream",
     "text": [
      "Epoch 110: progress time is 1749.39 sec\n",
      "Training loss: 0.3899, Training accuracy: 0.8894\n",
      "Validation loss: 1.1549, Validation accuracy: 0.6924\n"
     ]
    },
    {
     "name": "stderr",
     "output_type": "stream",
     "text": [
      " 60%|██████    | 120/200 [31:47<21:05, 15.82s/it]"
     ]
    },
    {
     "name": "stdout",
     "output_type": "stream",
     "text": [
      "Epoch 120: progress time is 1907.89 sec\n",
      "Training loss: 0.6317, Training accuracy: 0.8039\n",
      "Validation loss: 1.3373, Validation accuracy: 0.6248\n"
     ]
    },
    {
     "name": "stderr",
     "output_type": "stream",
     "text": [
      " 65%|██████▌   | 130/200 [34:26<18:32, 15.89s/it]"
     ]
    },
    {
     "name": "stdout",
     "output_type": "stream",
     "text": [
      "Epoch 130: progress time is 2066.15 sec\n",
      "Training loss: 0.8893, Training accuracy: 0.7326\n",
      "Validation loss: 1.7444, Validation accuracy: 0.5380\n"
     ]
    },
    {
     "name": "stderr",
     "output_type": "stream",
     "text": [
      " 70%|███████   | 140/200 [37:04<15:45, 15.75s/it]"
     ]
    },
    {
     "name": "stdout",
     "output_type": "stream",
     "text": [
      "Epoch 140: progress time is 2224.12 sec\n",
      "Training loss: 1.0197, Training accuracy: 0.6966\n",
      "Validation loss: 1.5318, Validation accuracy: 0.5964\n"
     ]
    },
    {
     "name": "stderr",
     "output_type": "stream",
     "text": [
      " 75%|███████▌  | 150/200 [39:42<13:14, 15.89s/it]"
     ]
    },
    {
     "name": "stdout",
     "output_type": "stream",
     "text": [
      "Epoch 150: progress time is 2382.34 sec\n",
      "Training loss: 1.1311, Training accuracy: 0.6665\n",
      "Validation loss: 1.8264, Validation accuracy: 0.5068\n"
     ]
    },
    {
     "name": "stderr",
     "output_type": "stream",
     "text": [
      " 80%|████████  | 160/200 [42:20<10:32, 15.81s/it]"
     ]
    },
    {
     "name": "stdout",
     "output_type": "stream",
     "text": [
      "Epoch 160: progress time is 2540.3 sec\n",
      "Training loss: 1.2307, Training accuracy: 0.6411\n",
      "Validation loss: 2.4003, Validation accuracy: 0.4352\n"
     ]
    },
    {
     "name": "stderr",
     "output_type": "stream",
     "text": [
      " 85%|████████▌ | 170/200 [44:53<07:39, 15.32s/it]"
     ]
    },
    {
     "name": "stdout",
     "output_type": "stream",
     "text": [
      "Epoch 170: progress time is 2693.73 sec\n",
      "Training loss: 1.3142, Training accuracy: 0.6234\n",
      "Validation loss: 2.1385, Validation accuracy: 0.4480\n"
     ]
    },
    {
     "name": "stderr",
     "output_type": "stream",
     "text": [
      " 90%|█████████ | 180/200 [47:26<05:05, 15.28s/it]"
     ]
    },
    {
     "name": "stdout",
     "output_type": "stream",
     "text": [
      "Epoch 180: progress time is 2846.84 sec\n",
      "Training loss: 1.3824, Training accuracy: 0.6044\n",
      "Validation loss: 1.8685, Validation accuracy: 0.4876\n"
     ]
    },
    {
     "name": "stderr",
     "output_type": "stream",
     "text": [
      " 95%|█████████▌| 190/200 [50:00<02:33, 15.39s/it]"
     ]
    },
    {
     "name": "stdout",
     "output_type": "stream",
     "text": [
      "Epoch 190: progress time is 3000.06 sec\n",
      "Training loss: 1.4109, Training accuracy: 0.5985\n",
      "Validation loss: 1.9191, Validation accuracy: 0.4992\n"
     ]
    },
    {
     "name": "stderr",
     "output_type": "stream",
     "text": [
      "100%|██████████| 200/200 [52:33<00:00, 15.77s/it]"
     ]
    },
    {
     "name": "stdout",
     "output_type": "stream",
     "text": [
      "Epoch 200: progress time is 3153.32 sec\n",
      "Training loss: 1.4197, Training accuracy: 0.5957\n",
      "Validation loss: 1.9105, Validation accuracy: 0.4868\n",
      "==> Optimization finished! Best validation accuracy: 0.6992\n"
     ]
    },
    {
     "name": "stderr",
     "output_type": "stream",
     "text": [
      "\n"
     ]
    },
    {
     "data": {
      "text/plain": [
       "Wide_ResNet(\n",
       "  (conv1): Conv2d(3, 16, kernel_size=(3, 3), stride=(1, 1), padding=(1, 1))\n",
       "  (bn1): BatchNorm2d(16, eps=1e-05, momentum=0.9, affine=True, track_running_stats=True)\n",
       "  (M_relu): M_relu()\n",
       "  (layer1): Sequential(\n",
       "    (0): M_BasicBlock(\n",
       "      (conv1): Conv2d(16, 16, kernel_size=(3, 3), stride=(1, 1), padding=(1, 1), bias=False)\n",
       "      (bn1): BatchNorm2d(16, eps=1e-05, momentum=0.1, affine=True, track_running_stats=True)\n",
       "      (M_relu1): M_relu()\n",
       "      (dropout): Dropout(p=0.3, inplace=False)\n",
       "      (conv2): Conv2d(16, 16, kernel_size=(3, 3), stride=(1, 1), padding=(1, 1), bias=False)\n",
       "      (bn2): BatchNorm2d(16, eps=1e-05, momentum=0.1, affine=True, track_running_stats=True)\n",
       "      (M_relu2): M_relu()\n",
       "      (shortcut): Sequential()\n",
       "    )\n",
       "    (1): M_BasicBlock(\n",
       "      (conv1): Conv2d(16, 16, kernel_size=(3, 3), stride=(1, 1), padding=(1, 1), bias=False)\n",
       "      (bn1): BatchNorm2d(16, eps=1e-05, momentum=0.1, affine=True, track_running_stats=True)\n",
       "      (M_relu1): M_relu()\n",
       "      (dropout): Dropout(p=0.3, inplace=False)\n",
       "      (conv2): Conv2d(16, 16, kernel_size=(3, 3), stride=(1, 1), padding=(1, 1), bias=False)\n",
       "      (bn2): BatchNorm2d(16, eps=1e-05, momentum=0.1, affine=True, track_running_stats=True)\n",
       "      (M_relu2): M_relu()\n",
       "      (shortcut): Sequential()\n",
       "    )\n",
       "    (2): M_BasicBlock(\n",
       "      (conv1): Conv2d(16, 16, kernel_size=(3, 3), stride=(1, 1), padding=(1, 1), bias=False)\n",
       "      (bn1): BatchNorm2d(16, eps=1e-05, momentum=0.1, affine=True, track_running_stats=True)\n",
       "      (M_relu1): M_relu()\n",
       "      (dropout): Dropout(p=0.3, inplace=False)\n",
       "      (conv2): Conv2d(16, 16, kernel_size=(3, 3), stride=(1, 1), padding=(1, 1), bias=False)\n",
       "      (bn2): BatchNorm2d(16, eps=1e-05, momentum=0.1, affine=True, track_running_stats=True)\n",
       "      (M_relu2): M_relu()\n",
       "      (shortcut): Sequential()\n",
       "    )\n",
       "    (3): M_BasicBlock(\n",
       "      (conv1): Conv2d(16, 16, kernel_size=(3, 3), stride=(1, 1), padding=(1, 1), bias=False)\n",
       "      (bn1): BatchNorm2d(16, eps=1e-05, momentum=0.1, affine=True, track_running_stats=True)\n",
       "      (M_relu1): M_relu()\n",
       "      (dropout): Dropout(p=0.3, inplace=False)\n",
       "      (conv2): Conv2d(16, 16, kernel_size=(3, 3), stride=(1, 1), padding=(1, 1), bias=False)\n",
       "      (bn2): BatchNorm2d(16, eps=1e-05, momentum=0.1, affine=True, track_running_stats=True)\n",
       "      (M_relu2): M_relu()\n",
       "      (shortcut): Sequential()\n",
       "    )\n",
       "  )\n",
       "  (layer2): Sequential(\n",
       "    (0): M_BasicBlock(\n",
       "      (conv1): Conv2d(16, 32, kernel_size=(3, 3), stride=(1, 1), padding=(1, 1), bias=False)\n",
       "      (bn1): BatchNorm2d(32, eps=1e-05, momentum=0.1, affine=True, track_running_stats=True)\n",
       "      (M_relu1): M_relu()\n",
       "      (dropout): Dropout(p=0.3, inplace=False)\n",
       "      (conv2): Conv2d(32, 32, kernel_size=(3, 3), stride=(2, 2), padding=(1, 1), bias=False)\n",
       "      (bn2): BatchNorm2d(32, eps=1e-05, momentum=0.1, affine=True, track_running_stats=True)\n",
       "      (M_relu2): M_relu()\n",
       "      (shortcut): Sequential(\n",
       "        (0): Conv2d(16, 32, kernel_size=(1, 1), stride=(2, 2), bias=False)\n",
       "        (1): BatchNorm2d(32, eps=1e-05, momentum=0.1, affine=True, track_running_stats=True)\n",
       "      )\n",
       "    )\n",
       "    (1): M_BasicBlock(\n",
       "      (conv1): Conv2d(32, 32, kernel_size=(3, 3), stride=(1, 1), padding=(1, 1), bias=False)\n",
       "      (bn1): BatchNorm2d(32, eps=1e-05, momentum=0.1, affine=True, track_running_stats=True)\n",
       "      (M_relu1): M_relu()\n",
       "      (dropout): Dropout(p=0.3, inplace=False)\n",
       "      (conv2): Conv2d(32, 32, kernel_size=(3, 3), stride=(1, 1), padding=(1, 1), bias=False)\n",
       "      (bn2): BatchNorm2d(32, eps=1e-05, momentum=0.1, affine=True, track_running_stats=True)\n",
       "      (M_relu2): M_relu()\n",
       "      (shortcut): Sequential()\n",
       "    )\n",
       "    (2): M_BasicBlock(\n",
       "      (conv1): Conv2d(32, 32, kernel_size=(3, 3), stride=(1, 1), padding=(1, 1), bias=False)\n",
       "      (bn1): BatchNorm2d(32, eps=1e-05, momentum=0.1, affine=True, track_running_stats=True)\n",
       "      (M_relu1): M_relu()\n",
       "      (dropout): Dropout(p=0.3, inplace=False)\n",
       "      (conv2): Conv2d(32, 32, kernel_size=(3, 3), stride=(1, 1), padding=(1, 1), bias=False)\n",
       "      (bn2): BatchNorm2d(32, eps=1e-05, momentum=0.1, affine=True, track_running_stats=True)\n",
       "      (M_relu2): M_relu()\n",
       "      (shortcut): Sequential()\n",
       "    )\n",
       "    (3): M_BasicBlock(\n",
       "      (conv1): Conv2d(32, 32, kernel_size=(3, 3), stride=(1, 1), padding=(1, 1), bias=False)\n",
       "      (bn1): BatchNorm2d(32, eps=1e-05, momentum=0.1, affine=True, track_running_stats=True)\n",
       "      (M_relu1): M_relu()\n",
       "      (dropout): Dropout(p=0.3, inplace=False)\n",
       "      (conv2): Conv2d(32, 32, kernel_size=(3, 3), stride=(1, 1), padding=(1, 1), bias=False)\n",
       "      (bn2): BatchNorm2d(32, eps=1e-05, momentum=0.1, affine=True, track_running_stats=True)\n",
       "      (M_relu2): M_relu()\n",
       "      (shortcut): Sequential()\n",
       "    )\n",
       "  )\n",
       "  (layer3): Sequential(\n",
       "    (0): M_BasicBlock(\n",
       "      (conv1): Conv2d(32, 64, kernel_size=(3, 3), stride=(1, 1), padding=(1, 1), bias=False)\n",
       "      (bn1): BatchNorm2d(64, eps=1e-05, momentum=0.1, affine=True, track_running_stats=True)\n",
       "      (M_relu1): M_relu()\n",
       "      (dropout): Dropout(p=0.3, inplace=False)\n",
       "      (conv2): Conv2d(64, 64, kernel_size=(3, 3), stride=(2, 2), padding=(1, 1), bias=False)\n",
       "      (bn2): BatchNorm2d(64, eps=1e-05, momentum=0.1, affine=True, track_running_stats=True)\n",
       "      (M_relu2): M_relu()\n",
       "      (shortcut): Sequential(\n",
       "        (0): Conv2d(32, 64, kernel_size=(1, 1), stride=(2, 2), bias=False)\n",
       "        (1): BatchNorm2d(64, eps=1e-05, momentum=0.1, affine=True, track_running_stats=True)\n",
       "      )\n",
       "    )\n",
       "    (1): M_BasicBlock(\n",
       "      (conv1): Conv2d(64, 64, kernel_size=(3, 3), stride=(1, 1), padding=(1, 1), bias=False)\n",
       "      (bn1): BatchNorm2d(64, eps=1e-05, momentum=0.1, affine=True, track_running_stats=True)\n",
       "      (M_relu1): M_relu()\n",
       "      (dropout): Dropout(p=0.3, inplace=False)\n",
       "      (conv2): Conv2d(64, 64, kernel_size=(3, 3), stride=(1, 1), padding=(1, 1), bias=False)\n",
       "      (bn2): BatchNorm2d(64, eps=1e-05, momentum=0.1, affine=True, track_running_stats=True)\n",
       "      (M_relu2): M_relu()\n",
       "      (shortcut): Sequential()\n",
       "    )\n",
       "    (2): M_BasicBlock(\n",
       "      (conv1): Conv2d(64, 64, kernel_size=(3, 3), stride=(1, 1), padding=(1, 1), bias=False)\n",
       "      (bn1): BatchNorm2d(64, eps=1e-05, momentum=0.1, affine=True, track_running_stats=True)\n",
       "      (M_relu1): M_relu()\n",
       "      (dropout): Dropout(p=0.3, inplace=False)\n",
       "      (conv2): Conv2d(64, 64, kernel_size=(3, 3), stride=(1, 1), padding=(1, 1), bias=False)\n",
       "      (bn2): BatchNorm2d(64, eps=1e-05, momentum=0.1, affine=True, track_running_stats=True)\n",
       "      (M_relu2): M_relu()\n",
       "      (shortcut): Sequential()\n",
       "    )\n",
       "    (3): M_BasicBlock(\n",
       "      (conv1): Conv2d(64, 64, kernel_size=(3, 3), stride=(1, 1), padding=(1, 1), bias=False)\n",
       "      (bn1): BatchNorm2d(64, eps=1e-05, momentum=0.1, affine=True, track_running_stats=True)\n",
       "      (M_relu1): M_relu()\n",
       "      (dropout): Dropout(p=0.3, inplace=False)\n",
       "      (conv2): Conv2d(64, 64, kernel_size=(3, 3), stride=(1, 1), padding=(1, 1), bias=False)\n",
       "      (bn2): BatchNorm2d(64, eps=1e-05, momentum=0.1, affine=True, track_running_stats=True)\n",
       "      (M_relu2): M_relu()\n",
       "      (shortcut): Sequential()\n",
       "    )\n",
       "  )\n",
       "  (linear): Linear(in_features=64, out_features=100, bias=True)\n",
       ")"
      ]
     },
     "execution_count": 29,
     "metadata": {},
     "output_type": "execute_result"
    }
   ],
   "source": [
    "train_model(model, \"resnet28x1_cifar100\")"
   ]
  },
  {
   "cell_type": "markdown",
   "metadata": {},
   "source": [
    "## test_model을 통해 결과확인"
   ]
  },
  {
   "cell_type": "code",
   "execution_count": 17,
   "metadata": {},
   "outputs": [
    {
     "name": "stdout",
     "output_type": "stream",
     "text": [
      "Total examples is 10000, correct examples is 9265; Test accuracy: 0.9265\n"
     ]
    }
   ],
   "source": [
    "#wide_resnet 28x1의 결과값\n",
    "checkpoint = torch.load(\"./saved_model/resnet28x1_cifar10_cosine_sche.pth\")\n",
    "model.load_state_dict(checkpoint['state_dict'])\n",
    "test_model(model)"
   ]
  },
  {
   "cell_type": "code",
   "execution_count": 19,
   "metadata": {},
   "outputs": [
    {
     "name": "stdout",
     "output_type": "stream",
     "text": [
      "Total examples is 10000, correct examples is 9307; Test accuracy: 0.9307\n"
     ]
    }
   ],
   "source": [
    "#wide_resnet 28x1의 결과값\n",
    "checkpoint = torch.load(\"./saved_model/resnet28x1_cifar10.pth\")\n",
    "model.load_state_dict(checkpoint['state_dict'])\n",
    "test_model(model)"
   ]
  },
  {
   "cell_type": "code",
   "execution_count": 32,
   "metadata": {},
   "outputs": [
    {
     "name": "stdout",
     "output_type": "stream",
     "text": [
      "Total examples is 10000, correct examples is 6893; Test accuracy: 0.6893\n"
     ]
    }
   ],
   "source": [
    "#wide_resnet 28x1의 결과값\n",
    "checkpoint = torch.load(\"./saved_model/resnet28x1_cifar100.pth\")\n",
    "model.load_state_dict(checkpoint['state_dict'])\n",
    "test_model(model)"
   ]
  },
  {
   "cell_type": "code",
   "execution_count": 31,
   "metadata": {},
   "outputs": [],
   "source": [
    "send_email('resnet28x1_cifar100 finished')"
   ]
  },
  {
   "cell_type": "code",
   "execution_count": 28,
   "metadata": {},
   "outputs": [
    {
     "name": "stdout",
     "output_type": "stream",
     "text": [
      "tensor(448., device='cuda:1') tensor(448., device='cuda:1')\n"
     ]
    }
   ],
   "source": [
    "remaining_node1 = sum([sum(layer.M_relu1.active) for layer in model.modules() if isinstance(layer, M_BasicBlock)])\n",
    "remaining_node2 = sum([sum(layer.M_relu2.active) for layer in model.modules() if isinstance(layer, M_BasicBlock)])\n",
    "print(remaining_node1, remaining_node2)"
   ]
  },
  {
   "cell_type": "code",
   "execution_count": null,
   "metadata": {},
   "outputs": [],
   "source": []
  }
 ],
 "metadata": {
  "kernelspec": {
   "display_name": "Python 3.6",
   "language": "python",
   "name": "python3.6"
  },
  "language_info": {
   "codemirror_mode": {
    "name": "ipython",
    "version": 3
   },
   "file_extension": ".py",
   "mimetype": "text/x-python",
   "name": "python",
   "nbconvert_exporter": "python",
   "pygments_lexer": "ipython3",
   "version": "3.6.13"
  }
 },
 "nbformat": 4,
 "nbformat_minor": 2
}
